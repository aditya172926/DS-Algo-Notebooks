{
 "cells": [
  {
   "cell_type": "code",
   "execution_count": 14,
   "id": "92873840",
   "metadata": {},
   "outputs": [],
   "source": [
    "# Array rotation\n",
    "a = [1,2,3,4,5]\n"
   ]
  },
  {
   "cell_type": "code",
   "execution_count": 9,
   "id": "926f9109",
   "metadata": {},
   "outputs": [
    {
     "name": "stdout",
     "output_type": "stream",
     "text": [
      "Number of left rotations?2\n"
     ]
    }
   ],
   "source": [
    "n = int(input(\"Number of left rotations?\"))"
   ]
  },
  {
   "cell_type": "code",
   "execution_count": 12,
   "id": "3e9f37f3",
   "metadata": {},
   "outputs": [],
   "source": [
    "def rotatearrayleft(a ,n):\n",
    "    a = a[n:]+a[:n]\n",
    "    return a"
   ]
  },
  {
   "cell_type": "code",
   "execution_count": 13,
   "id": "22ad7b52",
   "metadata": {},
   "outputs": [
    {
     "name": "stdout",
     "output_type": "stream",
     "text": [
      "[3, 4, 5, 1, 2]\n"
     ]
    }
   ],
   "source": [
    "print(rotatearrayleft(a, n))"
   ]
  },
  {
   "cell_type": "markdown",
   "id": "2c76e2ba",
   "metadata": {},
   "source": [
    "# Cyclically shift an array by one"
   ]
  },
  {
   "cell_type": "code",
   "execution_count": 54,
   "id": "32fcda90",
   "metadata": {},
   "outputs": [],
   "source": [
    "a = [1,2,3,4,5]"
   ]
  },
  {
   "cell_type": "code",
   "execution_count": 47,
   "id": "89901ce3",
   "metadata": {},
   "outputs": [],
   "source": [
    "def cyclic_shift(a):\n",
    "    b = []\n",
    "    b.append(a[len(a)-1])\n",
    "    a = b + a[:len(a)-1]\n",
    "    return a"
   ]
  },
  {
   "cell_type": "code",
   "execution_count": 58,
   "id": "ead7d655",
   "metadata": {},
   "outputs": [],
   "source": [
    "statement = \"\"\"\n",
    "a = [1,2,3,4,5]\n",
    "b = []\n",
    "b.append(a[len(a)-1])\n",
    "a = b + a[:len(a)-1]\n",
    "\"\"\"\n",
    "\n"
   ]
  },
  {
   "cell_type": "code",
   "execution_count": 59,
   "id": "7d36ed81",
   "metadata": {},
   "outputs": [],
   "source": [
    "import timeit"
   ]
  },
  {
   "cell_type": "code",
   "execution_count": 61,
   "id": "91311291",
   "metadata": {},
   "outputs": [
    {
     "name": "stdout",
     "output_type": "stream",
     "text": [
      "4.418365554000047\n"
     ]
    }
   ],
   "source": [
    "print(timeit.timeit(setup = 'pass', stmt = statement, number = 10000000))"
   ]
  },
  {
   "cell_type": "markdown",
   "id": "6eb2a732",
   "metadata": {},
   "source": [
    "# Rearrange an array such that arr[ i ] = i\n",
    "\n",
    "Given an array of elements of length N, ranging from 0 to N – 1. All elements may not be present in the array. If the element is not present then there will be -1 present in the array. Rearrange the array such that A[i] = i and if i is not present, display -1 at that place."
   ]
  },
  {
   "cell_type": "code",
   "execution_count": 66,
   "id": "b8a6ca67",
   "metadata": {},
   "outputs": [],
   "source": [
    "arr = [-1, -1, 6, 1, 9, 3, 2, -1, 4, -1]"
   ]
  },
  {
   "cell_type": "code",
   "execution_count": 67,
   "id": "c0949f78",
   "metadata": {},
   "outputs": [
    {
     "name": "stdout",
     "output_type": "stream",
     "text": [
      "[-1, 1, 2, 3, 4, -1, 6, -1, -1, 9]\n"
     ]
    }
   ],
   "source": [
    "# Time complexity O(n)\n",
    "n = len(arr)\n",
    "i=0\n",
    "while i<n:\n",
    "    if arr[i]>0 and arr[i]!=i:\n",
    "        arr[arr[i]], arr[i] = arr[i], arr[arr[i]]\n",
    "    else:\n",
    "        i+=1\n",
    "        \n",
    "print(arr)"
   ]
  },
  {
   "cell_type": "markdown",
   "id": "31b661c6",
   "metadata": {},
   "source": [
    "# Min Swaps\n",
    "You are given an unordered array consisting of consecutive integers  [1, 2, 3, ..., n] without any duplicates. You are allowed to swap any two elements. Find the minimum number of swaps required to sort the array in ascending order.\n",
    "\n",
    "https://www.hackerrank.com/challenges/minimum-swaps-2/problem?h_l=interview&playlist_slugs%5B%5D=interview-preparation-kit&playlist_slugs%5B%5D=arrays"
   ]
  },
  {
   "cell_type": "code",
   "execution_count": 23,
   "id": "7a944a9a",
   "metadata": {},
   "outputs": [
    {
     "name": "stdout",
     "output_type": "stream",
     "text": [
      "arrpos =  [(1, 1), (3, 2), (2, 3), (4, 4), (5, 5), (6, 6), (0, 7)]\n",
      "vis =  {0: False, 1: False, 2: False, 3: False, 4: False, 5: False, 6: False}\n",
      "vis =  {0: True, 1: False, 2: False, 3: False, 4: False, 5: False, 6: False}\n",
      "vis =  {0: True, 1: True, 2: False, 3: False, 4: False, 5: False, 6: False}\n",
      "vis =  {0: True, 1: True, 2: False, 3: True, 4: False, 5: False, 6: False}\n",
      "vis =  {0: True, 1: True, 2: False, 3: True, 4: True, 5: False, 6: False}\n",
      "vis =  {0: True, 1: True, 2: False, 3: True, 4: True, 5: True, 6: False}\n",
      "vis =  {0: True, 1: True, 2: False, 3: True, 4: True, 5: True, 6: True}\n",
      "ans =  5\n",
      "skipping\n",
      "skipping\n",
      "skipping\n",
      "skipping\n",
      "skipping\n",
      "skipping\n"
     ]
    }
   ],
   "source": [
    "# sorting a consecutive array\n",
    "arr = [7,1,3,2,4,5,6]\n",
    "# Create two arrays and use as pairs where first array is element and second array\n",
    "arrpos = [*enumerate(arr)]\n",
    "# Sort the array by array element values to get the right position of every element as the elements of 2nd array\n",
    "arrpos.sort(key = lambda it: it[1])\n",
    "print('arrpos = ', arrpos)\n",
    "\n",
    "# To keep track of visited elements Initialize all the elements as not visited or false\n",
    "vis = {k: False for k in range(len(arr))}\n",
    "print('vis = ', vis)\n",
    "\n",
    "#initlalize result\n",
    "ans = 0\n",
    "for i in range(len(arr)):\n",
    "    # check if already swapped or already present at correct position\n",
    "    if vis[i] or arrpos[i][0] == i:\n",
    "        print('skipping')\n",
    "        continue\n",
    "    # find the number of nodes in this cycle and add it to ans\n",
    "    cycle_size = 0\n",
    "    j=i\n",
    "    while not vis[j]:\n",
    "        #mark node as visited\n",
    "        vis[j] = True\n",
    "        print('vis = ', vis)\n",
    "        #move to next node\n",
    "        j = arrpos[j][0]\n",
    "        cycle_size += 1\n",
    "    \n",
    "    # update answer by adding current cycle\n",
    "    if cycle_size > 0:\n",
    "        ans += (cycle_size-1)\n",
    "        print('ans = ', ans)\n",
    "        \n",
    "        "
   ]
  },
  {
   "cell_type": "code",
   "execution_count": 37,
   "id": "d52517b3",
   "metadata": {},
   "outputs": [
    {
     "name": "stdout",
     "output_type": "stream",
     "text": [
      "5\n"
     ]
    }
   ],
   "source": [
    "arr = [7,1,3,2,4,5,6]\n",
    "n = dict(enumerate(arr,1))\n",
    "m = {v:k for k,v in n.items()}\n",
    "count = 0\n",
    "for i in n:\n",
    "    x = n[i]\n",
    "    if x!=i:\n",
    "        y = m[i]\n",
    "        n[y] = x\n",
    "        m[x] = y\n",
    "        count+=1\n",
    "        \n",
    "print(count)"
   ]
  },
  {
   "cell_type": "code",
   "execution_count": 51,
   "id": "568ae414",
   "metadata": {},
   "outputs": [],
   "source": [
    "m = 'two times three is not four'\n",
    "n = 'two times two is four'\n",
    "n = n.split()\n",
    "m = m.split()\n"
   ]
  },
  {
   "cell_type": "code",
   "execution_count": 52,
   "id": "27e58f25",
   "metadata": {},
   "outputs": [],
   "source": [
    "import collections\n",
    "a = collections.Counter(n)"
   ]
  },
  {
   "cell_type": "code",
   "execution_count": 53,
   "id": "a5b08aff",
   "metadata": {},
   "outputs": [
    {
     "name": "stdout",
     "output_type": "stream",
     "text": [
      "Counter({'two': 2, 'times': 1, 'is': 1, 'four': 1})\n"
     ]
    }
   ],
   "source": [
    "print(a)"
   ]
  },
  {
   "cell_type": "code",
   "execution_count": 54,
   "id": "6a9f0908",
   "metadata": {},
   "outputs": [
    {
     "data": {
      "text/plain": [
       "Counter({'two': 1, 'times': 1, 'three': 1, 'is': 1, 'not': 1, 'four': 1})"
      ]
     },
     "execution_count": 54,
     "metadata": {},
     "output_type": "execute_result"
    }
   ],
   "source": [
    "b = collections.Counter(m)\n",
    "b"
   ]
  },
  {
   "cell_type": "code",
   "execution_count": 42,
   "id": "34fd7f58",
   "metadata": {},
   "outputs": [],
   "source": [
    "c = set(a) & set(b)"
   ]
  },
  {
   "cell_type": "code",
   "execution_count": 43,
   "id": "b6ca5790",
   "metadata": {},
   "outputs": [
    {
     "data": {
      "text/plain": [
       "{'four', 'is', 'times', 'two'}"
      ]
     },
     "execution_count": 43,
     "metadata": {},
     "output_type": "execute_result"
    }
   ],
   "source": [
    "c"
   ]
  },
  {
   "cell_type": "code",
   "execution_count": 50,
   "id": "18766285",
   "metadata": {},
   "outputs": [
    {
     "name": "stdout",
     "output_type": "stream",
     "text": [
      "No\n",
      "Yes\n"
     ]
    }
   ],
   "source": [
    "for i in list(c):\n",
    "    if a[i] != b[i]:\n",
    "        print('No')\n",
    "        break\n",
    "    continue\n"
   ]
  },
  {
   "cell_type": "code",
   "execution_count": 47,
   "id": "94af2947",
   "metadata": {},
   "outputs": [
    {
     "data": {
      "text/plain": [
       "1"
      ]
     },
     "execution_count": 47,
     "metadata": {},
     "output_type": "execute_result"
    }
   ],
   "source": [
    "a['four']"
   ]
  },
  {
   "cell_type": "code",
   "execution_count": 48,
   "id": "c0de5d65",
   "metadata": {},
   "outputs": [
    {
     "data": {
      "text/plain": [
       "1"
      ]
     },
     "execution_count": 48,
     "metadata": {},
     "output_type": "execute_result"
    }
   ],
   "source": [
    "b['four']"
   ]
  },
  {
   "cell_type": "code",
   "execution_count": 61,
   "id": "6611029c",
   "metadata": {},
   "outputs": [
    {
     "data": {
      "text/plain": [
       "Counter({'two': 1, 'times': 1, 'is': 1, 'four': 1})"
      ]
     },
     "execution_count": 61,
     "metadata": {},
     "output_type": "execute_result"
    }
   ],
   "source": [
    "a & b"
   ]
  },
  {
   "cell_type": "code",
   "execution_count": 56,
   "id": "7997e20a",
   "metadata": {},
   "outputs": [
    {
     "data": {
      "text/plain": [
       "Counter({'two': 2, 'times': 1, 'is': 1, 'four': 1})"
      ]
     },
     "execution_count": 56,
     "metadata": {},
     "output_type": "execute_result"
    }
   ],
   "source": [
    "a"
   ]
  },
  {
   "cell_type": "code",
   "execution_count": 57,
   "id": "9efb0305",
   "metadata": {},
   "outputs": [
    {
     "data": {
      "text/plain": [
       "Counter({'two': 1, 'times': 1, 'three': 1, 'is': 1, 'not': 1, 'four': 1})"
      ]
     },
     "execution_count": 57,
     "metadata": {},
     "output_type": "execute_result"
    }
   ],
   "source": [
    "b"
   ]
  },
  {
   "cell_type": "code",
   "execution_count": 62,
   "id": "6ad06954",
   "metadata": {},
   "outputs": [
    {
     "data": {
      "text/plain": [
       "Counter({'t': 3,\n",
       "         'w': 2,\n",
       "         'o': 3,\n",
       "         ' ': 4,\n",
       "         'i': 2,\n",
       "         'm': 1,\n",
       "         'e': 1,\n",
       "         's': 2,\n",
       "         'f': 1,\n",
       "         'u': 1,\n",
       "         'r': 1})"
      ]
     },
     "execution_count": 62,
     "metadata": {},
     "output_type": "execute_result"
    }
   ],
   "source": [
    "z = 'two times two is four'\n",
    "collections.Counter(z)"
   ]
  },
  {
   "cell_type": "code",
   "execution_count": null,
   "id": "1acb8d3f",
   "metadata": {},
   "outputs": [],
   "source": []
  }
 ],
 "metadata": {
  "kernelspec": {
   "display_name": "Python 3",
   "language": "python",
   "name": "python3"
  },
  "language_info": {
   "codemirror_mode": {
    "name": "ipython",
    "version": 3
   },
   "file_extension": ".py",
   "mimetype": "text/x-python",
   "name": "python",
   "nbconvert_exporter": "python",
   "pygments_lexer": "ipython3",
   "version": "3.9.4"
  }
 },
 "nbformat": 4,
 "nbformat_minor": 5
}
