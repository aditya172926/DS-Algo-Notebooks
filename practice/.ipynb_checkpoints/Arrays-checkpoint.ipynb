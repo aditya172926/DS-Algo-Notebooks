{
 "cells": [
  {
   "cell_type": "code",
   "execution_count": 14,
   "id": "92873840",
   "metadata": {},
   "outputs": [],
   "source": [
    "# Array rotation\n",
    "a = [1,2,3,4,5]\n"
   ]
  },
  {
   "cell_type": "code",
   "execution_count": 9,
   "id": "926f9109",
   "metadata": {},
   "outputs": [
    {
     "name": "stdout",
     "output_type": "stream",
     "text": [
      "Number of left rotations?2\n"
     ]
    }
   ],
   "source": [
    "n = int(input(\"Number of left rotations?\"))"
   ]
  },
  {
   "cell_type": "code",
   "execution_count": 12,
   "id": "3e9f37f3",
   "metadata": {},
   "outputs": [],
   "source": [
    "def rotatearrayleft(a ,n):\n",
    "    a = a[n:]+a[:n]\n",
    "    return a"
   ]
  },
  {
   "cell_type": "code",
   "execution_count": 13,
   "id": "22ad7b52",
   "metadata": {},
   "outputs": [
    {
     "name": "stdout",
     "output_type": "stream",
     "text": [
      "[3, 4, 5, 1, 2]\n"
     ]
    }
   ],
   "source": [
    "print(rotatearrayleft(a, n))"
   ]
  },
  {
   "cell_type": "markdown",
   "id": "2c76e2ba",
   "metadata": {},
   "source": [
    "# Cyclically shift an array by one"
   ]
  },
  {
   "cell_type": "code",
   "execution_count": 54,
   "id": "32fcda90",
   "metadata": {},
   "outputs": [],
   "source": [
    "a = [1,2,3,4,5]"
   ]
  },
  {
   "cell_type": "code",
   "execution_count": 47,
   "id": "89901ce3",
   "metadata": {},
   "outputs": [],
   "source": [
    "def cyclic_shift(a):\n",
    "    b = []\n",
    "    b.append(a[len(a)-1])\n",
    "    a = b + a[:len(a)-1]\n",
    "    return a"
   ]
  },
  {
   "cell_type": "code",
   "execution_count": 58,
   "id": "ead7d655",
   "metadata": {},
   "outputs": [],
   "source": [
    "statement = \"\"\"\n",
    "a = [1,2,3,4,5]\n",
    "b = []\n",
    "b.append(a[len(a)-1])\n",
    "a = b + a[:len(a)-1]\n",
    "\"\"\"\n",
    "\n"
   ]
  },
  {
   "cell_type": "code",
   "execution_count": 59,
   "id": "7d36ed81",
   "metadata": {},
   "outputs": [],
   "source": [
    "import timeit"
   ]
  },
  {
   "cell_type": "code",
   "execution_count": 61,
   "id": "91311291",
   "metadata": {},
   "outputs": [
    {
     "name": "stdout",
     "output_type": "stream",
     "text": [
      "4.418365554000047\n"
     ]
    }
   ],
   "source": [
    "print(timeit.timeit(setup = 'pass', stmt = statement, number = 10000000))"
   ]
  },
  {
   "cell_type": "markdown",
   "id": "6eb2a732",
   "metadata": {},
   "source": [
    "# Rearrange an array such that arr[ i ] = i\n",
    "\n",
    "Given an array of elements of length N, ranging from 0 to N – 1. All elements may not be present in the array. If the element is not present then there will be -1 present in the array. Rearrange the array such that A[i] = i and if i is not present, display -1 at that place."
   ]
  },
  {
   "cell_type": "code",
   "execution_count": 66,
   "id": "b8a6ca67",
   "metadata": {},
   "outputs": [],
   "source": [
    "arr = [-1, -1, 6, 1, 9, 3, 2, -1, 4, -1]"
   ]
  },
  {
   "cell_type": "code",
   "execution_count": 67,
   "id": "c0949f78",
   "metadata": {},
   "outputs": [
    {
     "name": "stdout",
     "output_type": "stream",
     "text": [
      "[-1, 1, 2, 3, 4, -1, 6, -1, -1, 9]\n"
     ]
    }
   ],
   "source": [
    "# Time complexity O(n)\n",
    "n = len(arr)\n",
    "i=0\n",
    "while i<n:\n",
    "    if arr[i]>0 and arr[i]!=i:\n",
    "        arr[arr[i]], arr[i] = arr[i], arr[arr[i]]\n",
    "    else:\n",
    "        i+=1\n",
    "        \n",
    "print(arr)"
   ]
  },
  {
   "cell_type": "code",
   "execution_count": null,
   "id": "0418490f",
   "metadata": {},
   "outputs": [],
   "source": []
  }
 ],
 "metadata": {
  "kernelspec": {
   "display_name": "Python 3",
   "language": "python",
   "name": "python3"
  },
  "language_info": {
   "codemirror_mode": {
    "name": "ipython",
    "version": 3
   },
   "file_extension": ".py",
   "mimetype": "text/x-python",
   "name": "python",
   "nbconvert_exporter": "python",
   "pygments_lexer": "ipython3",
   "version": "3.9.4"
  }
 },
 "nbformat": 4,
 "nbformat_minor": 5
}
