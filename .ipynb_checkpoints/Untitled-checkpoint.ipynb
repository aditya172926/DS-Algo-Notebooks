{
 "cells": [
  {
   "cell_type": "code",
   "execution_count": 17,
   "id": "7a299d5c",
   "metadata": {},
   "outputs": [
    {
     "name": "stdout",
     "output_type": "stream",
     "text": [
      "2\n",
      "[5, 6, 2]\n",
      "[5, 6]\n"
     ]
    }
   ],
   "source": [
    "class Stack:\n",
    "    def __init__(self):\n",
    "        self.stack = []\n",
    "        \n",
    "    def addelement(self, data):\n",
    "        if data not in self.stack:\n",
    "            self.stack.append(data)\n",
    "            return True\n",
    "        else:\n",
    "            return False\n",
    "    \n",
    "    def remove_element(self):\n",
    "        if len(self.stack)<1:\n",
    "            return 'Stack is empty'\n",
    "        else:\n",
    "            self.stack.pop()\n",
    "            \n",
    "    def peek(self):\n",
    "        print(self.stack[-1])\n",
    "        \n",
    "    def showall(self):\n",
    "        print(self.stack)\n",
    "        \n",
    "s = Stack()\n",
    "s.addelement(5)\n",
    "\n",
    "s.addelement(5)\n",
    "\n",
    "s.addelement(6)\n",
    "\n",
    "s.addelement(2)\n",
    "\n",
    "s.peek()\n",
    "\n",
    "s.showall()\n",
    "\n",
    "s.remove_element()\n",
    "\n",
    "s.showall()"
   ]
  },
  {
   "cell_type": "code",
   "execution_count": 22,
   "id": "446a2de1",
   "metadata": {},
   "outputs": [
    {
     "name": "stdout",
     "output_type": "stream",
     "text": [
      "[10, 9, 8, 7, 6, 5]\n",
      "[10, 9, 8, 7, 6]\n"
     ]
    }
   ],
   "source": [
    "# Queue\n",
    "class Queue:\n",
    "    def __init__(self):\n",
    "        self.q = []\n",
    "    def addelement(self, data):\n",
    "        if data not in self.q:\n",
    "            self.q.insert(0, data)\n",
    "            return True\n",
    "        return False\n",
    "    def removeval(self):\n",
    "        if len(self.q)<1:\n",
    "            return 'The Q is empty'\n",
    "        self.q.pop()\n",
    "        return True\n",
    "    def peek(self):\n",
    "        print(self.q)\n",
    "        \n",
    "v = Queue()\n",
    "v.addelement(5)\n",
    "v.addelement(6)\n",
    "v.addelement(7)\n",
    "v.addelement(8)\n",
    "v.addelement(9)\n",
    "v.addelement(10)\n",
    "    \n",
    "\n",
    "v.peek()\n",
    "\n",
    "v.removeval()\n",
    "\n",
    "v.peek()"
   ]
  },
  {
   "cell_type": "code",
   "execution_count": 48,
   "id": "5ee81ef4",
   "metadata": {},
   "outputs": [
    {
     "data": {
      "text/plain": [
       "True"
      ]
     },
     "execution_count": 48,
     "metadata": {},
     "output_type": "execute_result"
    }
   ],
   "source": [
    "# Linkedlist\n",
    "class Node:\n",
    "    def __init__(self, data=None):\n",
    "        self.data = data\n",
    "        self.next = None\n",
    "        \n",
    "class SinglyLinkedList:\n",
    "    def __init__(self):\n",
    "        self.head = None\n",
    "        \n",
    "    def atbeginning(self, ndata):\n",
    "        newnode = Node(ndata)\n",
    "        newnode.next = self.head\n",
    "        self.head = newnode\n",
    "        return True\n",
    "    def atend(self, ndata):\n",
    "        newnode = Node(ndata)\n",
    "        if self.head is None:\n",
    "            self.head = newnode\n",
    "            return\n",
    "        lastnode = self.head\n",
    "        while lastnode.next:\n",
    "            lastnode = lastnode.next\n",
    "        lastnode.next = newnode\n",
    "        return True\n",
    "    def inbet(self, ind, ndata):\n",
    "        newnode = Node(ndata)\n",
    "        if self.head is None:\n",
    "            self.head = newnode\n",
    "            return True\n",
    "        pnt = self.head\n",
    "        for i in range(ind-1):\n",
    "            pnt = pnt.next\n",
    "        newnode.next = pnt.next\n",
    "        pnt.next = newnode\n",
    "        return True\n",
    "    \n",
    "    def printlist(self):\n",
    "        printnode = self.head\n",
    "        while printnode.next is not None:\n",
    "            print(printnode.data)\n",
    "            printnode = printnode.next\n",
    "            \n",
    "l = SinglyLinkedList()\n",
    "l.atbeginning(5)\n",
    "l.atbeginning(6)\n",
    "l.atbeginning(7)\n",
    "l.atbeginning(8)\n",
    "l.atbeginning(59)"
   ]
  },
  {
   "cell_type": "code",
   "execution_count": 49,
   "id": "522db499",
   "metadata": {},
   "outputs": [
    {
     "name": "stdout",
     "output_type": "stream",
     "text": [
      "59\n",
      "8\n",
      "7\n",
      "6\n"
     ]
    }
   ],
   "source": [
    "l.printlist()"
   ]
  },
  {
   "cell_type": "code",
   "execution_count": 50,
   "id": "0104e76f",
   "metadata": {},
   "outputs": [
    {
     "data": {
      "text/plain": [
       "True"
      ]
     },
     "execution_count": 50,
     "metadata": {},
     "output_type": "execute_result"
    }
   ],
   "source": [
    "l.atend(1)"
   ]
  },
  {
   "cell_type": "code",
   "execution_count": 51,
   "id": "67e9dd03",
   "metadata": {},
   "outputs": [
    {
     "name": "stdout",
     "output_type": "stream",
     "text": [
      "59\n",
      "8\n",
      "7\n",
      "6\n",
      "5\n"
     ]
    }
   ],
   "source": [
    "l.printlist()"
   ]
  },
  {
   "cell_type": "code",
   "execution_count": 52,
   "id": "4ef4a267",
   "metadata": {},
   "outputs": [
    {
     "name": "stdout",
     "output_type": "stream",
     "text": [
      "59\n",
      "8\n",
      "7\n",
      "6\n",
      "5\n"
     ]
    }
   ],
   "source": [
    "l.printlist()"
   ]
  },
  {
   "cell_type": "code",
   "execution_count": 53,
   "id": "aed1b063",
   "metadata": {},
   "outputs": [
    {
     "data": {
      "text/plain": [
       "True"
      ]
     },
     "execution_count": 53,
     "metadata": {},
     "output_type": "execute_result"
    }
   ],
   "source": [
    "l.atend(1)"
   ]
  },
  {
   "cell_type": "code",
   "execution_count": 54,
   "id": "98cc71ba",
   "metadata": {},
   "outputs": [
    {
     "name": "stdout",
     "output_type": "stream",
     "text": [
      "59\n",
      "8\n",
      "7\n",
      "6\n",
      "5\n",
      "1\n"
     ]
    }
   ],
   "source": [
    "l.printlist()"
   ]
  },
  {
   "cell_type": "code",
   "execution_count": 55,
   "id": "a94935dc",
   "metadata": {},
   "outputs": [
    {
     "data": {
      "text/plain": [
       "True"
      ]
     },
     "execution_count": 55,
     "metadata": {},
     "output_type": "execute_result"
    }
   ],
   "source": [
    "l.inbet(2, 12)"
   ]
  },
  {
   "cell_type": "code",
   "execution_count": 57,
   "id": "20379ccf",
   "metadata": {},
   "outputs": [
    {
     "name": "stdout",
     "output_type": "stream",
     "text": [
      "59\n",
      "8\n",
      "12\n",
      "7\n",
      "6\n",
      "5\n",
      "1\n"
     ]
    }
   ],
   "source": [
    "l.printlist()"
   ]
  },
  {
   "cell_type": "code",
   "execution_count": 58,
   "id": "a5f83500",
   "metadata": {},
   "outputs": [],
   "source": [
    "# Doubly linked list"
   ]
  },
  {
   "cell_type": "code",
   "execution_count": null,
   "id": "c05d9241",
   "metadata": {},
   "outputs": [],
   "source": []
  }
 ],
 "metadata": {
  "kernelspec": {
   "display_name": "Python 3",
   "language": "python",
   "name": "python3"
  },
  "language_info": {
   "codemirror_mode": {
    "name": "ipython",
    "version": 3
   },
   "file_extension": ".py",
   "mimetype": "text/x-python",
   "name": "python",
   "nbconvert_exporter": "python",
   "pygments_lexer": "ipython3",
   "version": "3.9.4"
  }
 },
 "nbformat": 4,
 "nbformat_minor": 5
}
