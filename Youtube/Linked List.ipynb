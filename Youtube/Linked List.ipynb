{
 "cells": [
  {
   "cell_type": "code",
   "execution_count": 1,
   "id": "fuzzy-nepal",
   "metadata": {},
   "outputs": [],
   "source": [
    "# Singly Linked list\n",
    "# Created by using a node class\n",
    "\n",
    "class Node:\n",
    "    def __init__(self, dataval = None):\n",
    "        self.dataval = dataval\n",
    "        self.nextval = None\n",
    "    \n",
    "class SLinkedlist:\n",
    "    def __init__(self):\n",
    "        self.headval = None\n",
    "        \n",
    "    # Inserting a node at the beginning\n",
    "    def AtBegin(self, newdata):\n",
    "        NewNode = Node(newdata)\n",
    "        #Update the new node to be the Head node\n",
    "        NewNode.nextval = self.headval\n",
    "        self.headval = NewNode\n",
    "        \n",
    "    # To print a linked list\n",
    "    def listprint(self):\n",
    "        printval = self.headval\n",
    "        while printval is not None:\n",
    "            print(printval.dataval)\n",
    "            printval = printval.nextval\n",
    "    \n",
    "    # Inserting a node at the end\n",
    "    def Atend(self, newdata):\n",
    "        NewNode = Node(newdata)\n",
    "        if self.headval is None:\n",
    "            self.headval = NewNode\n",
    "            return\n",
    "        laste = self.headval\n",
    "        while laste.nextval:\n",
    "            laste = laste.nextval\n",
    "        laste.nextval = NewNode\n",
    "        \n",
    "    # Inserting node in between\n",
    "    def Inbetween(self, middle_node, newdata):\n",
    "        if middle_node is None:\n",
    "            print(\"The mentioned node is absend\")\n",
    "            return\n",
    "        NewNode = Node(newdata)\n",
    "        NewNode.nextval = middle_node.nextval\n",
    "        middle_node.nextval = NewNode\n",
    "        \n",
    "    # To remove a node\n",
    "    def removeNode(self, removekey):\n",
    "        Headval = self.headval\n",
    "        if Headval is not None:\n",
    "            if Headval.dataval == removekey:\n",
    "                self.headval = Headval.nextval\n",
    "                Headval = None\n",
    "                return\n",
    "            while Headval is not None:\n",
    "                if Headval.dataval == removekey:\n",
    "                    break\n",
    "                prev = Headval\n",
    "                Headval = Headval.nextval\n",
    "            if Headval == None:\n",
    "                return\n",
    "            prev.nextval = Headval.nextval\n",
    "            Headval = None\n",
    "            \n",
    "li = SLinkedlist()\n",
    "li.headval = Node(\"Mon\")\n",
    "l2 = Node(\"Tue\")\n",
    "l3 = Node(\"Wed\")\n",
    "\n",
    "# link first node to 2nd node\n",
    "li.headval.nextval = l2\n",
    "# link 2nd node to 3re node\n",
    "l2.nextval = l3\n",
    "                    "
   ]
  },
  {
   "cell_type": "code",
   "execution_count": 2,
   "id": "capital-humidity",
   "metadata": {},
   "outputs": [
    {
     "name": "stdout",
     "output_type": "stream",
     "text": [
      "Mon\n",
      "Tue\n",
      "Wed\n"
     ]
    }
   ],
   "source": [
    "# travesing through a singly linked list\n",
    "# using the print function\n",
    "\n",
    "li.listprint()"
   ]
  },
  {
   "cell_type": "code",
   "execution_count": 3,
   "id": "selective-creator",
   "metadata": {},
   "outputs": [
    {
     "name": "stdout",
     "output_type": "stream",
     "text": [
      "Sun\n",
      "Mon\n",
      "Tue\n",
      "Wed\n"
     ]
    }
   ],
   "source": [
    "# Inserting a node at the beginning\n",
    "li.AtBegin(\"Sun\")\n",
    "li.listprint()"
   ]
  },
  {
   "cell_type": "code",
   "execution_count": 4,
   "id": "other-corrections",
   "metadata": {},
   "outputs": [
    {
     "name": "stdout",
     "output_type": "stream",
     "text": [
      "Sun\n",
      "Mon\n",
      "Tue\n",
      "Wed\n",
      "Thu\n"
     ]
    }
   ],
   "source": [
    "# Adding the node at the end\n",
    "li.Atend(\"Thu\")\n",
    "li.listprint()"
   ]
  },
  {
   "cell_type": "code",
   "execution_count": 5,
   "id": "color-wichita",
   "metadata": {},
   "outputs": [
    {
     "name": "stdout",
     "output_type": "stream",
     "text": [
      "Sun\n",
      "Mon\n",
      "Sup\n",
      "Tue\n",
      "Wed\n",
      "Thu\n"
     ]
    }
   ],
   "source": [
    "# Inserting in the middle\n",
    "li.Inbetween(li.headval.nextval, \"Sup\")\n",
    "li.listprint()"
   ]
  },
  {
   "cell_type": "code",
   "execution_count": 6,
   "id": "educational-dependence",
   "metadata": {},
   "outputs": [
    {
     "name": "stdout",
     "output_type": "stream",
     "text": [
      "Sun\n",
      "Mon\n",
      "Tue\n",
      "Wed\n",
      "Thu\n"
     ]
    }
   ],
   "source": [
    "# Removing a node\n",
    "li.removeNode(\"Sup\")\n",
    "li.listprint()"
   ]
  },
  {
   "cell_type": "code",
   "execution_count": null,
   "id": "activated-thread",
   "metadata": {},
   "outputs": [],
   "source": []
  }
 ],
 "metadata": {
  "kernelspec": {
   "display_name": "Python 3",
   "language": "python",
   "name": "python3"
  },
  "language_info": {
   "codemirror_mode": {
    "name": "ipython",
    "version": 3
   },
   "file_extension": ".py",
   "mimetype": "text/x-python",
   "name": "python",
   "nbconvert_exporter": "python",
   "pygments_lexer": "ipython3",
   "version": "3.8.6"
  }
 },
 "nbformat": 4,
 "nbformat_minor": 5
}
