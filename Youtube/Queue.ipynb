{
 "cells": [
  {
   "cell_type": "code",
   "execution_count": 2,
   "id": "fluid-application",
   "metadata": {},
   "outputs": [
    {
     "name": "stdout",
     "output_type": "stream",
     "text": [
      "4\n"
     ]
    }
   ],
   "source": [
    "# Works on Fifo\n",
    "#Adding elements to a queue\n",
    "\n",
    "class Queue:\n",
    "    def __init__(self):\n",
    "        self.queue = list()\n",
    "    \n",
    "    def addTo(self, data):\n",
    "        # Insert method\n",
    "        if data not in self.queue:\n",
    "            self.queue.insert(0, data)\n",
    "            return True\n",
    "        return False\n",
    "    \n",
    "    def removefrom(self):\n",
    "        if len(self.queue)>0:\n",
    "            return self.queue.pop()\n",
    "        return (\"No elements in the Queue\")\n",
    "    \n",
    "    def queueElements(self):\n",
    "        if len(self.queue) > 0:\n",
    "            for i in range(len(self.queue)):\n",
    "                print(self.queue[i])\n",
    "            return True\n",
    "        return False\n",
    "    \n",
    "    def size(self):\n",
    "        return len(self.queue)\n",
    "    \n",
    "q = Queue()\n",
    "q.addTo(\"A\")\n",
    "q.addTo(\"B\")\n",
    "q.addTo(\"C\")\n",
    "q.addTo(\"D\")\n",
    "print(q.size())\n"
   ]
  },
  {
   "cell_type": "code",
   "execution_count": 3,
   "id": "twelve-shadow",
   "metadata": {},
   "outputs": [
    {
     "name": "stdout",
     "output_type": "stream",
     "text": [
      "5\n"
     ]
    }
   ],
   "source": [
    "q.addTo(\"E\")\n",
    "print(q.size())\n"
   ]
  },
  {
   "cell_type": "code",
   "execution_count": 4,
   "id": "concerned-providence",
   "metadata": {},
   "outputs": [
    {
     "name": "stdout",
     "output_type": "stream",
     "text": [
      "E\n",
      "D\n",
      "C\n",
      "B\n",
      "A\n"
     ]
    },
    {
     "data": {
      "text/plain": [
       "True"
      ]
     },
     "execution_count": 4,
     "metadata": {},
     "output_type": "execute_result"
    }
   ],
   "source": [
    "q.queueElements()"
   ]
  },
  {
   "cell_type": "code",
   "execution_count": 5,
   "id": "armed-sally",
   "metadata": {},
   "outputs": [
    {
     "data": {
      "text/plain": [
       "'A'"
      ]
     },
     "execution_count": 5,
     "metadata": {},
     "output_type": "execute_result"
    }
   ],
   "source": [
    "q.removefrom()"
   ]
  },
  {
   "cell_type": "code",
   "execution_count": 6,
   "id": "copyrighted-initial",
   "metadata": {},
   "outputs": [
    {
     "name": "stdout",
     "output_type": "stream",
     "text": [
      "E\n",
      "D\n",
      "C\n",
      "B\n"
     ]
    },
    {
     "data": {
      "text/plain": [
       "True"
      ]
     },
     "execution_count": 6,
     "metadata": {},
     "output_type": "execute_result"
    }
   ],
   "source": [
    "q.queueElements()"
   ]
  },
  {
   "cell_type": "code",
   "execution_count": null,
   "id": "confidential-tower",
   "metadata": {},
   "outputs": [],
   "source": []
  }
 ],
 "metadata": {
  "kernelspec": {
   "display_name": "Python 3",
   "language": "python",
   "name": "python3"
  },
  "language_info": {
   "codemirror_mode": {
    "name": "ipython",
    "version": 3
   },
   "file_extension": ".py",
   "mimetype": "text/x-python",
   "name": "python",
   "nbconvert_exporter": "python",
   "pygments_lexer": "ipython3",
   "version": "3.8.6"
  }
 },
 "nbformat": 4,
 "nbformat_minor": 5
}
