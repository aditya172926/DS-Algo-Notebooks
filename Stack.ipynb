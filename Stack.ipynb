{
 "cells": [
  {
   "cell_type": "code",
   "execution_count": 1,
   "id": "superb-money",
   "metadata": {},
   "outputs": [
    {
     "name": "stdout",
     "output_type": "stream",
     "text": [
      "6\n"
     ]
    }
   ],
   "source": [
    "#STACK \n",
    "# Push into a stack\n",
    "\n",
    "class Stack:\n",
    "    def __init__(self):\n",
    "        self.stack = []\n",
    "        \n",
    "    def add(self, dataval):\n",
    "        # We can use append method\n",
    "        if dataval not in self.stack:\n",
    "            self.stack.append(dataval)\n",
    "            return True\n",
    "        return False\n",
    "    \n",
    "    # Remove from stack\n",
    "    #We can use pop method\n",
    "    def remove(self):\n",
    "        if len(self.stack) <= 0:\n",
    "            return ('There is no element in the stack')\n",
    "        else:\n",
    "            return self.stack.pop()\n",
    "    # Using peek to see the last element or the topmost element in the stack\n",
    "    def peek(self):\n",
    "        return self.stack[-1]\n",
    "    \n",
    "a = Stack()\n",
    "a.add(5)\n",
    "a.add(6)\n",
    "print(a.peek())"
   ]
  },
  {
   "cell_type": "code",
   "execution_count": 2,
   "id": "revolutionary-blair",
   "metadata": {},
   "outputs": [
    {
     "name": "stdout",
     "output_type": "stream",
     "text": [
      "5\n"
     ]
    }
   ],
   "source": [
    "a.remove()\n",
    "print(a.peek())"
   ]
  },
  {
   "cell_type": "code",
   "execution_count": 3,
   "id": "prescribed-cannon",
   "metadata": {},
   "outputs": [
    {
     "data": {
      "text/plain": [
       "True"
      ]
     },
     "execution_count": 3,
     "metadata": {},
     "output_type": "execute_result"
    }
   ],
   "source": [
    "a.add(7)\n",
    "a.add(3)\n",
    "a.add(17)\n",
    "a.add(70)"
   ]
  },
  {
   "cell_type": "code",
   "execution_count": 4,
   "id": "personalized-plant",
   "metadata": {},
   "outputs": [
    {
     "name": "stdout",
     "output_type": "stream",
     "text": [
      "70\n"
     ]
    }
   ],
   "source": [
    "print(a.peek())"
   ]
  },
  {
   "cell_type": "code",
   "execution_count": null,
   "id": "major-compromise",
   "metadata": {},
   "outputs": [],
   "source": []
  }
 ],
 "metadata": {
  "kernelspec": {
   "display_name": "Python 3",
   "language": "python",
   "name": "python3"
  },
  "language_info": {
   "codemirror_mode": {
    "name": "ipython",
    "version": 3
   },
   "file_extension": ".py",
   "mimetype": "text/x-python",
   "name": "python",
   "nbconvert_exporter": "python",
   "pygments_lexer": "ipython3",
   "version": "3.8.6"
  }
 },
 "nbformat": 4,
 "nbformat_minor": 5
}
