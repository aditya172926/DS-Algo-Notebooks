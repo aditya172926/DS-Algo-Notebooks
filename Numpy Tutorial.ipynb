{
 "cells": [
  {
   "cell_type": "code",
   "execution_count": 1,
   "id": "obvious-knitting",
   "metadata": {},
   "outputs": [
    {
     "data": {
      "text/plain": [
       "array([1, 2, 3])"
      ]
     },
     "execution_count": 1,
     "metadata": {},
     "output_type": "execute_result"
    }
   ],
   "source": [
    "import numpy as np\n",
    "a = np.array([1,2,3])\n",
    "a"
   ]
  },
  {
   "cell_type": "code",
   "execution_count": 3,
   "id": "careful-certificate",
   "metadata": {},
   "outputs": [
    {
     "data": {
      "text/plain": [
       "array([[1, 2, 3],\n",
       "       [4, 5, 6]])"
      ]
     },
     "execution_count": 3,
     "metadata": {},
     "output_type": "execute_result"
    }
   ],
   "source": [
    "b = np.array([[1,2,3], [4,5,6]])\n",
    "b"
   ]
  },
  {
   "cell_type": "code",
   "execution_count": 16,
   "id": "eleven-papua",
   "metadata": {},
   "outputs": [
    {
     "name": "stdout",
     "output_type": "stream",
     "text": [
      "[[[1 2 3 4 5]\n",
      "  [7 8 9 0 9]]]\n"
     ]
    }
   ],
   "source": [
    "# with minimum dimensions\n",
    "c = np.array([[1,2,3,4,5],[7,8,9,0,9]], ndmin = 3)\n",
    "print(c)"
   ]
  },
  {
   "cell_type": "code",
   "execution_count": 19,
   "id": "taken-display",
   "metadata": {},
   "outputs": [
    {
     "name": "stdout",
     "output_type": "stream",
     "text": [
      "[1.+0.j 2.+0.j 3.+0.j 4.+0.j 5.+0.j]\n"
     ]
    }
   ],
   "source": [
    "# datatype parameter\n",
    "d = np.array([1,2,3,4,5], dtype=complex)\n",
    "print(d)"
   ]
  },
  {
   "cell_type": "code",
   "execution_count": 21,
   "id": "handled-impression",
   "metadata": {},
   "outputs": [
    {
     "name": "stdout",
     "output_type": "stream",
     "text": [
      "[[1 2 3]\n",
      " [4 5 6]]\n",
      "(2, 3)\n"
     ]
    }
   ],
   "source": [
    "# Shape\n",
    "a = np.array([[1,2,3], [4,5,6]])\n",
    "print(a)\n",
    "print(a.shape)"
   ]
  },
  {
   "cell_type": "code",
   "execution_count": 26,
   "id": "visible-cheese",
   "metadata": {},
   "outputs": [
    {
     "name": "stdout",
     "output_type": "stream",
     "text": [
      "[[1 2]\n",
      " [3 4]\n",
      " [5 6]]\n"
     ]
    }
   ],
   "source": [
    "# Resize the array\n",
    "a.resize(3, 2)\n",
    "print(a)"
   ]
  },
  {
   "cell_type": "code",
   "execution_count": 28,
   "id": "chronic-nicaragua",
   "metadata": {},
   "outputs": [
    {
     "name": "stdout",
     "output_type": "stream",
     "text": [
      "[ 0  1  2  3  4  5  6  7  8  9 10 11 12 13 14 15 16 17 18 19 20 21 22 23]\n"
     ]
    }
   ],
   "source": [
    "# an array of evenly spaced numbers\n",
    "b = np.arange(24)\n",
    "print(b)"
   ]
  },
  {
   "cell_type": "code",
   "execution_count": 40,
   "id": "related-contribution",
   "metadata": {},
   "outputs": [
    {
     "name": "stdout",
     "output_type": "stream",
     "text": [
      "[[[ 0  1  2]\n",
      "  [ 3  4  5]\n",
      "  [ 6  7  8]\n",
      "  [ 9 10 11]]\n",
      "\n",
      " [[12 13 14]\n",
      "  [15 16 17]\n",
      "  [18 19 20]\n",
      "  [21 22 23]]]\n"
     ]
    }
   ],
   "source": [
    "# b is 1 dimensional array\n",
    "# reshape it\n",
    "b = b.reshape(2, 4, 3)\n",
    "print(b)"
   ]
  },
  {
   "cell_type": "code",
   "execution_count": 42,
   "id": "historic-marsh",
   "metadata": {},
   "outputs": [
    {
     "name": "stdout",
     "output_type": "stream",
     "text": [
      "[[1 2]\n",
      " [3 4]\n",
      " [5 6]]\n"
     ]
    }
   ],
   "source": [
    "# The example of an empty array\n",
    "a = np.empty([3,2], dtype = int)\n",
    "print(a)"
   ]
  },
  {
   "cell_type": "code",
   "execution_count": 106,
   "id": "matched-graduation",
   "metadata": {},
   "outputs": [
    {
     "name": "stdout",
     "output_type": "stream",
     "text": [
      "[[0 0 0]\n",
      " [0 0 0]\n",
      " [0 0 0]]\n",
      "next\n",
      "[[0 0 0]\n",
      " [0 0 0]\n",
      " [0 0 0]\n",
      " [0 0 0]]\n",
      "next\n",
      "[[0 0 0 0]\n",
      " [0 0 0 0]\n",
      " [0 0 0 0]\n",
      " [0 0 0 0]]\n"
     ]
    }
   ],
   "source": [
    "# The example of array of zeroes \n",
    "# Syntax = numpy.zeros(shape, dtype = float, order = 'C')\n",
    "\n",
    "a = np.zeros([3, 3], dtype = int)\n",
    "print(a)\n",
    "print('next')\n",
    "a = np.append(a, np.array([[0,0,0]]), axis=0)\n",
    "print(a)\n",
    "print('next')\n",
    "a = np.append(a, np.array([[0], [0], [0], [0]]), axis=1)\n",
    "print(a)"
   ]
  },
  {
   "cell_type": "code",
   "execution_count": 44,
   "id": "danish-laundry",
   "metadata": {},
   "outputs": [
    {
     "name": "stdout",
     "output_type": "stream",
     "text": [
      "[[1 1 1]\n",
      " [1 1 1]\n",
      " [1 1 1]]\n"
     ]
    }
   ],
   "source": [
    "# Array filled with ones\n",
    "# Syntax = numpy.ones(shape, dtype = None, order = 'C')\n",
    "\n",
    "a = np.ones([3,3], dtype = int)\n",
    "print(a)"
   ]
  },
  {
   "cell_type": "code",
   "execution_count": 48,
   "id": "modified-chamber",
   "metadata": {},
   "outputs": [
    {
     "name": "stdout",
     "output_type": "stream",
     "text": [
      "[ 0  2  4  6  8 10 12 14 16 18 20 22 24 26 28 30 32 34 36 38 40 42 44 46\n",
      " 48 50 52 54 56 58 60 62 64 66 68 70 72 74 76 78 80 82 84 86 88 90 92 94\n",
      " 96 98]\n"
     ]
    }
   ],
   "source": [
    "# Arange function\n",
    "# np.arange(start, stop, step, dtype)\n",
    "\n",
    "a = np.arange(0, 100, 2, dtype=int)\n",
    "print(a)"
   ]
  },
  {
   "cell_type": "code",
   "execution_count": 65,
   "id": "enhanced-shuttle",
   "metadata": {},
   "outputs": [
    {
     "name": "stdout",
     "output_type": "stream",
     "text": [
      "[[ 0]\n",
      " [ 2]\n",
      " [ 4]\n",
      " [ 6]\n",
      " [ 8]\n",
      " [10]\n",
      " [12]\n",
      " [14]\n",
      " [16]\n",
      " [18]\n",
      " [20]\n",
      " [22]\n",
      " [24]\n",
      " [26]\n",
      " [28]\n",
      " [30]\n",
      " [32]\n",
      " [34]\n",
      " [36]\n",
      " [38]\n",
      " [40]\n",
      " [42]\n",
      " [44]\n",
      " [46]\n",
      " [48]\n",
      " [50]\n",
      " [52]\n",
      " [54]\n",
      " [56]\n",
      " [58]\n",
      " [60]\n",
      " [62]\n",
      " [64]\n",
      " [66]\n",
      " [68]\n",
      " [70]\n",
      " [72]\n",
      " [74]\n",
      " [76]\n",
      " [78]\n",
      " [80]\n",
      " [82]\n",
      " [84]\n",
      " [86]\n",
      " [88]\n",
      " [90]\n",
      " [92]\n",
      " [94]\n",
      " [96]\n",
      " [98]]\n"
     ]
    }
   ],
   "source": [
    "a = a.reshape(50,1)\n",
    "print(a)"
   ]
  },
  {
   "cell_type": "code",
   "execution_count": 66,
   "id": "tender-exclusive",
   "metadata": {},
   "outputs": [
    {
     "name": "stdout",
     "output_type": "stream",
     "text": [
      "[  1.           2.83333333   4.66666667   6.5          8.33333333\n",
      "  10.16666667  12.          13.83333333  15.66666667  17.5\n",
      "  19.33333333  21.16666667  23.          24.83333333  26.66666667\n",
      "  28.5         30.33333333  32.16666667  34.          35.83333333\n",
      "  37.66666667  39.5         41.33333333  43.16666667  45.\n",
      "  46.83333333  48.66666667  50.5         52.33333333  54.16666667\n",
      "  56.          57.83333333  59.66666667  61.5         63.33333333\n",
      "  65.16666667  67.          68.83333333  70.66666667  72.5\n",
      "  74.33333333  76.16666667  78.          79.83333333  81.66666667\n",
      "  83.5         85.33333333  87.16666667  89.          90.83333333\n",
      "  92.66666667  94.5         96.33333333  98.16666667 100.        ]\n"
     ]
    }
   ],
   "source": [
    "# numpy.linspace\n",
    "# This function is similar to arange() function. In this function, instead of step size, the number of evenly spaced values between the interval is specified. The usage of this function is as follows −\n",
    "\n",
    "# numpy.linspace(start, stop, num, endpoint, retstep, dtype)\n",
    "\n",
    "a = np.linspace(1, 100, 55)\n",
    "print(a)"
   ]
  },
  {
   "cell_type": "code",
   "execution_count": 67,
   "id": "continuing-intersection",
   "metadata": {},
   "outputs": [
    {
     "name": "stdout",
     "output_type": "stream",
     "text": [
      "55\n"
     ]
    }
   ],
   "source": [
    "print(a.size)"
   ]
  },
  {
   "cell_type": "code",
   "execution_count": 68,
   "id": "labeled-fireplace",
   "metadata": {},
   "outputs": [
    {
     "name": "stdout",
     "output_type": "stream",
     "text": [
      "[[  1.        ]\n",
      " [  2.83333333]\n",
      " [  4.66666667]\n",
      " [  6.5       ]\n",
      " [  8.33333333]\n",
      " [ 10.16666667]\n",
      " [ 12.        ]\n",
      " [ 13.83333333]\n",
      " [ 15.66666667]\n",
      " [ 17.5       ]\n",
      " [ 19.33333333]\n",
      " [ 21.16666667]\n",
      " [ 23.        ]\n",
      " [ 24.83333333]\n",
      " [ 26.66666667]\n",
      " [ 28.5       ]\n",
      " [ 30.33333333]\n",
      " [ 32.16666667]\n",
      " [ 34.        ]\n",
      " [ 35.83333333]\n",
      " [ 37.66666667]\n",
      " [ 39.5       ]\n",
      " [ 41.33333333]\n",
      " [ 43.16666667]\n",
      " [ 45.        ]\n",
      " [ 46.83333333]\n",
      " [ 48.66666667]\n",
      " [ 50.5       ]\n",
      " [ 52.33333333]\n",
      " [ 54.16666667]\n",
      " [ 56.        ]\n",
      " [ 57.83333333]\n",
      " [ 59.66666667]\n",
      " [ 61.5       ]\n",
      " [ 63.33333333]\n",
      " [ 65.16666667]\n",
      " [ 67.        ]\n",
      " [ 68.83333333]\n",
      " [ 70.66666667]\n",
      " [ 72.5       ]\n",
      " [ 74.33333333]\n",
      " [ 76.16666667]\n",
      " [ 78.        ]\n",
      " [ 79.83333333]\n",
      " [ 81.66666667]\n",
      " [ 83.5       ]\n",
      " [ 85.33333333]\n",
      " [ 87.16666667]\n",
      " [ 89.        ]\n",
      " [ 90.83333333]\n",
      " [ 92.66666667]\n",
      " [ 94.5       ]\n",
      " [ 96.33333333]\n",
      " [ 98.16666667]\n",
      " [100.        ]]\n"
     ]
    }
   ],
   "source": [
    "a = a.reshape(55, 1)\n",
    "print(a)"
   ]
  },
  {
   "cell_type": "code",
   "execution_count": 69,
   "id": "transsexual-center",
   "metadata": {},
   "outputs": [
    {
     "name": "stdout",
     "output_type": "stream",
     "text": [
      "[1.00000000e+001 2.72133877e+002 7.40568469e+003 2.01533769e+005\n",
      " 5.48441658e+006 1.49249555e+008 4.06158599e+009 1.10529514e+011\n",
      " 3.00788252e+012 8.18546731e+013 2.22754295e+015 6.06189899e+016\n",
      " 1.64964807e+018 4.48925126e+019 1.22167735e+021 3.32459793e+022\n",
      " 9.04735724e+023 2.46209240e+025 6.70018750e+026 1.82334800e+028\n",
      " 4.96194760e+029 1.35031404e+031 3.67466194e+032 1.00000000e+034\n",
      " 2.72133877e+035 7.40568469e+036 2.01533769e+038 5.48441658e+039\n",
      " 1.49249555e+041 4.06158599e+042 1.10529514e+044 3.00788252e+045\n",
      " 8.18546731e+046 2.22754295e+048 6.06189899e+049 1.64964807e+051\n",
      " 4.48925126e+052 1.22167735e+054 3.32459793e+055 9.04735724e+056\n",
      " 2.46209240e+058 6.70018750e+059 1.82334800e+061 4.96194760e+062\n",
      " 1.35031404e+064 3.67466194e+065 1.00000000e+067 2.72133877e+068\n",
      " 7.40568469e+069 2.01533769e+071 5.48441658e+072 1.49249555e+074\n",
      " 4.06158599e+075 1.10529514e+077 3.00788252e+078 8.18546731e+079\n",
      " 2.22754295e+081 6.06189899e+082 1.64964807e+084 4.48925126e+085\n",
      " 1.22167735e+087 3.32459793e+088 9.04735724e+089 2.46209240e+091\n",
      " 6.70018750e+092 1.82334800e+094 4.96194760e+095 1.35031404e+097\n",
      " 3.67466194e+098 1.00000000e+100]\n"
     ]
    }
   ],
   "source": [
    "# numpy.logspace\n",
    "# This function returns an ndarray object that contains the numbers that are evenly spaced on a log scale. \n",
    "# Start and stop endpoints of the scale are indices of the base, usually 10.\n",
    "\n",
    "# # numpy.logspace(start, stop, num, endpoint, base, dtype)\n",
    "# num\n",
    "# The number of values between the range. Default is 50\n",
    "\n",
    "n = np.logspace(1, 100, num = 70)\n",
    "print(n)"
   ]
  },
  {
   "cell_type": "code",
   "execution_count": 74,
   "id": "pleased-ivory",
   "metadata": {},
   "outputs": [
    {
     "name": "stdout",
     "output_type": "stream",
     "text": [
      "[[ 1  2  3  4  5]\n",
      " [ 6  7  8  9 10]\n",
      " [11 12 13 14 15]\n",
      " [16 17 18 19 20]]\n"
     ]
    }
   ],
   "source": [
    "# print values of a 2D array\n",
    "a = np.arange(1, 21)\n",
    "a = a.reshape(4, 5)\n",
    "print(a)"
   ]
  },
  {
   "cell_type": "code",
   "execution_count": 76,
   "id": "significant-heater",
   "metadata": {},
   "outputs": [
    {
     "name": "stdout",
     "output_type": "stream",
     "text": [
      "[1 2 3 4 5]\n",
      "hi\n",
      "[ 6  7  8  9 10]\n",
      "hi\n",
      "[11 12 13 14 15]\n",
      "hi\n",
      "[16 17 18 19 20]\n",
      "hi\n"
     ]
    }
   ],
   "source": [
    "for i in a:\n",
    "    print(i)\n",
    "    print('hi')"
   ]
  },
  {
   "cell_type": "code",
   "execution_count": 77,
   "id": "covered-edgar",
   "metadata": {},
   "outputs": [
    {
     "name": "stdout",
     "output_type": "stream",
     "text": [
      "1\n",
      "2\n",
      "3\n",
      "4\n",
      "5\n",
      "6\n",
      "7\n",
      "8\n",
      "9\n",
      "10\n",
      "11\n",
      "12\n",
      "13\n",
      "14\n",
      "15\n",
      "16\n",
      "17\n",
      "18\n",
      "19\n",
      "20\n"
     ]
    }
   ],
   "source": [
    "for i in a:\n",
    "    for j in i:\n",
    "        print(j)"
   ]
  },
  {
   "cell_type": "code",
   "execution_count": 78,
   "id": "spare-accused",
   "metadata": {},
   "outputs": [
    {
     "name": "stdout",
     "output_type": "stream",
     "text": [
      "[[ 1  2  3  4  5]\n",
      " [ 6  7  8  9 10]\n",
      " [11 12 13 14 15]\n",
      " [16 17 18 19 20]]\n"
     ]
    }
   ],
   "source": [
    "print(a)"
   ]
  },
  {
   "cell_type": "code",
   "execution_count": 85,
   "id": "touched-patrick",
   "metadata": {},
   "outputs": [
    {
     "name": "stdout",
     "output_type": "stream",
     "text": [
      "[[[ 1]\n",
      "  [ 2]\n",
      "  [ 3]\n",
      "  [ 4]\n",
      "  [ 5]]\n",
      "\n",
      " [[ 6]\n",
      "  [ 7]\n",
      "  [ 8]\n",
      "  [ 9]\n",
      "  [10]]\n",
      "\n",
      " [[11]\n",
      "  [12]\n",
      "  [13]\n",
      "  [14]\n",
      "  [15]]\n",
      "\n",
      " [[16]\n",
      "  [17]\n",
      "  [18]\n",
      "  [19]\n",
      "  [20]]]\n"
     ]
    }
   ],
   "source": [
    "a = a.reshape(4, 5, 1)\n",
    "print(a)"
   ]
  },
  {
   "cell_type": "code",
   "execution_count": 98,
   "id": "supreme-battlefield",
   "metadata": {},
   "outputs": [
    {
     "name": "stdout",
     "output_type": "stream",
     "text": [
      "[[ 1  2  3  4  5]\n",
      " [ 6  7  8  9 10]\n",
      " [11 12 13 14 15]\n",
      " [16 17 18 19 20]]\n",
      "20\n"
     ]
    }
   ],
   "source": [
    "a = a.reshape(4, 5)\n",
    "print(a)\n",
    "print(a[3][4])"
   ]
  },
  {
   "cell_type": "code",
   "execution_count": null,
   "id": "manual-potential",
   "metadata": {},
   "outputs": [],
   "source": []
  }
 ],
 "metadata": {
  "kernelspec": {
   "display_name": "Python 3",
   "language": "python",
   "name": "python3"
  },
  "language_info": {
   "codemirror_mode": {
    "name": "ipython",
    "version": 3
   },
   "file_extension": ".py",
   "mimetype": "text/x-python",
   "name": "python",
   "nbconvert_exporter": "python",
   "pygments_lexer": "ipython3",
   "version": "3.8.6"
  }
 },
 "nbformat": 4,
 "nbformat_minor": 5
}
