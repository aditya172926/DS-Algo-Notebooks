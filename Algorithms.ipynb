{
 "cells": [
  {
   "cell_type": "markdown",
   "id": "municipal-lemon",
   "metadata": {},
   "source": [
    "# <u>Bubble Sort Algorithm</u>\n",
    "Bubble sort is an algorithm that compares the adjacent elements and swaps their positions if they are not in the intended order. The order can be ascending or descending order.\n",
    "<br>\n",
    "<b>Use this link for explaination of bubble sort:</b> https://www.programiz.com/dsa/bubble-sort<br>\n"
   ]
  },
  {
   "cell_type": "code",
   "execution_count": 1,
   "id": "dominican-donna",
   "metadata": {},
   "outputs": [
    {
     "name": "stdout",
     "output_type": "stream",
     "text": [
      "The Sorted array using bubble sort is\n",
      "[-56, -12, -4, 0, 23, 45, 56, 67, 89, 89]\n"
     ]
    }
   ],
   "source": [
    "def bubblesort(array):\n",
    "    # run loops two times: one for walking throught the array \n",
    "    # and the other for comparison\n",
    "    for i in range(len(array)):\n",
    "        for j in range(0, len(array)-i-1):\n",
    "            # To sort in descending order, change > to < in this line\n",
    "            if array[j] > array[j+1]:\n",
    "                # swap if greater is at the rear position\n",
    "                (array[j], array[j+1]) = (array[j+1], array[j])\n",
    "\n",
    "data = [-4, 23, 67, 0, -56, -12, 45, 89, 56, 89]\n",
    "bubblesort(data)\n",
    "print(\"The Sorted array using bubble sort is\")\n",
    "print(data)"
   ]
  },
  {
   "cell_type": "markdown",
   "id": "minute-poetry",
   "metadata": {},
   "source": [
    "## Optimised Bubble Sort\n",
    "In the above case all possible comparisons are made even if the array is already sorted. It increases the execution time. The code can be optimised by introducing an extra variable called \"swapped\". After each iteration, if there is no swapping taking place then there is no need to perform the further loops.<br>\n",
    "In such case the variable swapped is set to false. Thus, we can prevent further iterations."
   ]
  },
  {
   "cell_type": "code",
   "execution_count": 3,
   "id": "ultimate-manner",
   "metadata": {},
   "outputs": [
    {
     "name": "stdout",
     "output_type": "stream",
     "text": [
      "The Sorted array using bubble sort is\n",
      "[-345, -90, -56, -12, -4, 0, 23, 23, 39, 45, 56, 67, 67, 89, 89, 145]\n"
     ]
    }
   ],
   "source": [
    "def bubblesort(array):\n",
    "    # Run loops two times: one for walking throught the array\n",
    "    # and the other for comparison\n",
    "    for i in range(len(array)):\n",
    "        # swapped keeps track of swapping\n",
    "        swapped = True\n",
    "        for j in range(0, len(array)-i-1):\n",
    "            # To sort in descending order, change > to < in this line.\n",
    "            if array[j]>array[j+1]:\n",
    "                # Swap if greater is at the rear position\n",
    "                (array[j], array[j+1]) = (array[j+1], array[j])\n",
    "                swapped = False\n",
    "        # If there is not swapping in the last swap, then the array is already sorted\n",
    "        if swapped:\n",
    "            break\n",
    "data = [-4, 23, 67, 0, -56, -12, 45, 89, 56, 89, 23, 67, 39, -90, -345, 145]\n",
    "bubblesort(data)\n",
    "print(\"The Sorted array using bubble sort is\")\n",
    "print(data)"
   ]
  },
  {
   "cell_type": "markdown",
   "id": "applicable-purse",
   "metadata": {},
   "source": [
    "## Complexity\n",
    "O(n^2)<br>\n",
    "Worst Case Complexity:O(n2)<br>\n",
    "If we want to sort in ascending order and the array is in descending order then, the worst case occurs.<br><br>\n",
    "\n",
    "Best Case Complexity:O(n)<br>\n",
    "If the array is already sorted, then there is no need for sorting.<br><br>\n",
    "\n",
    "Average Case Complexity:O(n2)<br>\n",
    "It occurs when the elements of the array are in jumbled order (neither ascending nor descending).<br><br>\n",
    "<b>Space Complexity</b>\n",
    "Space complexity is O(1) because an extra variable temp is used for swapping.<br>\n",
    "\n",
    "In the optimized algorithm, the variable swapped adds to the space complexity thus, making it O(2).<br>\n",
    "## Bubble Sort Applications\n",
    "Bubble sort is used in the following cases where<br>\n",
    "\n",
    "1) the complexity of the code does not matter.<br>\n",
    "2) a short code is preferred.<br>"
   ]
  },
  {
   "cell_type": "markdown",
   "id": "material-sunrise",
   "metadata": {},
   "source": [
    "# Selection Sort\n",
    "Selection sort is an algorithm that selects the smallest element from an unsorted list in each iteration and places that element at the beginning of the unsorted list.<br>\n",
    "Steps: <br>\n",
    "1) Set the first element as minimum<br>\n",
    "2) Compare minimum with the 2nd element. If the 2nd element is smaller than minimum, assign the second element as minimum.<br>\n",
    "Compare minimum with the third element. Again if the 3rd element is smaller then assign minimum to the 3rd element, otherwise do nothing. The process goes on till the last element.<br>\n",
    "3) After each iteration, minimum is placed in the front of the unsorted list.<br>\n",
    "4) For each iteration, indexing starts from the first unsorted element. Step 1 to 3 are repeated until all the elements are placed at the correct positions.<br>\n"
   ]
  },
  {
   "cell_type": "code",
   "execution_count": 1,
   "id": "double-publicity",
   "metadata": {},
   "outputs": [
    {
     "name": "stdout",
     "output_type": "stream",
     "text": [
      "Sorted array is:  [-2, 8, 9, 9, 12, 23, 45, 45, 45, 67, 129]\n"
     ]
    }
   ],
   "source": [
    "def selectionSort(array, size):\n",
    "    for step in range(size):\n",
    "        min_idx = step\n",
    "        for i in range(step + 1, size):\n",
    "            # to sort in descending order, change > to < in this line\n",
    "            # select the minimum element in each loop\n",
    "            if array[i] < array[min_idx]:\n",
    "                min_idx = i\n",
    "        # put min at the correct position\n",
    "        (array[step], array[min_idx]) = (array[min_idx], array[step])\n",
    "        \n",
    "data = [-2, 45, 45, 23, 8, 9, 67, 12, 45, 9, 129]\n",
    "size = len(data)\n",
    "selectionSort(data, size)\n",
    "print('Sorted array is: ', data)"
   ]
  },
  {
   "cell_type": "markdown",
   "id": "egyptian-infection",
   "metadata": {},
   "source": [
    "### Number of Comparisons: n(n-1)/2\n",
    "Nearly equals n^2<br>\n",
    "### Complexity = O(n^2)\n",
    "Worst Case Complexity: O(n2)<br>\n",
    "If we want to sort in ascending order and the array is in descending order then, the worst case occurs.<br>\n",
    "Best Case Complexity: O(n2)<br>\n",
    "It occurs when the array is already sorted<br>\n",
    "Average Case Complexity: O(n2)<br>\n",
    "It occurs when the elements of the array are in jumbled order (neither ascending nor descending).<br>\n",
    "\n",
    "### Space Complexity: O(1)\n",
    "Because of extra variable temp used<br>\n"
   ]
  },
  {
   "cell_type": "markdown",
   "id": "serious-hello",
   "metadata": {},
   "source": [
    "# Insertion Sort\n",
    "Insertion sort works similarly as we sort cards in our hand in a card game.<br>\n",
    "We assume that the first card is already sorted then, we select an unsorted card. If unsorted card is greater than the card in hand, it is placed on the right otherwise on the left.<br>\n",
    "In the same way the other unsorted cards are taken and put at their right place.<br>\n",
    "Insertion sort is a sorting algorithm that places an unsorted element at its suitable place in each iteration.<br>\n",
    "Link: https://www.programiz.com/dsa/insertion-sort<br>\n"
   ]
  },
  {
   "cell_type": "code",
   "execution_count": 2,
   "id": "ordered-actress",
   "metadata": {},
   "outputs": [
    {
     "name": "stdout",
     "output_type": "stream",
     "text": [
      "The sorted array is:  [-2, 8, 9, 9, 12, 23, 45, 45, 45, 67, 129]\n"
     ]
    }
   ],
   "source": [
    "def insertionSort(array):\n",
    "    for step in range(1, len(array)):\n",
    "        key = array[step]\n",
    "        j = step - 1\n",
    "        # Compare key with each element on the left of it until an element smaller than it is found\n",
    "        # For descending order, change key<array[j] to key>array[j].\n",
    "        while j>=0 and key < array[j]:\n",
    "            array[j+1] = array[j]\n",
    "            j = j-1\n",
    "        # Place key at after the element just smaller than it.\n",
    "        array[j+1] = key\n",
    "        \n",
    "data = [-2, 45, 45, 23, 8, 9, 67, 12, 45, 9, 129]\n",
    "insertionSort(data)\n",
    "print('The sorted array is: ', data)"
   ]
  },
  {
   "cell_type": "markdown",
   "id": "velvet-salmon",
   "metadata": {},
   "source": [
    "Worst case: O(n^2)<br>\n",
    "Best case: O(n)<br>\n",
    "Average case: O(n^2)<br>\n",
    "Space complexity: O(1)<br>\n"
   ]
  },
  {
   "attachments": {
    "image.png": {
     "image/png": "[encoded data removed]"
    }
   },
   "cell_type": "markdown",
   "id": "documentary-paradise",
   "metadata": {},
   "source": [
    "# Merge Sort\n",
    "Based on the principle of <b>Divide and Conquer Algorithm</b><br>\n",
    "A problem is divided into multiple sub-problems. Each sub-problem is solved individually. Finally sub-problems are combined to form the final solution.<br>\n",
    "\n",
    "## Divide and Conquer Strategy\n",
    "Using devide and conquer technique we divide a problem into subproblems. When the solution to each subproblem is ready we <b>combine</b> the results from the subproblems to solve the main problem.<br>\n",
    "<br>\n",
    "Suppose we had to sort an array A. The subproblem would be to sort a sub-section of this array starting at index p and ending at index r, denoted as A[p...r]<br>\n",
    "<br>\n",
    "#### Divide\n",
    "If q is the half-way point petween p and r, then we can split the subarray A[p...r] into 2 arrays A[p...q] and A[q+1...r].<br>\n",
    "#### Conquer\n",
    "In the conquer step we try to sort both the subarrays. If we haven't yet reached the base case, we again divide both these subarrays and try to sort them<br>\n",
    "#### Combine\n",
    "When the conquer step reaches the base case and we get 2 sorted subarrays for the original array, we combine the results by creating a sorted array from 2 sorted subarrays.<br>\n",
    "<br>\n",
    "## Algorithm\n",
    "The mergesort function repeatedly divides the array into 2 halves until we reach a stage where we try to perfoem MergeSort on a subarray of size 1 ie p==r.<br>\n",
    "After that, the merge function comes into play and combines the sorted arrays into larger arrays until the whole array is merged.<br>\n",
    "![image.png](attachment:image.png)\n",
    "<b>The merge step of merge sort</b><br>\n",
    "The algorithm maintains 3 pointers, one for each of the 2 arrays and one for maintaining the current index of the final sorted array.<br>\n"
   ]
  },
  {
   "cell_type": "code",
   "execution_count": 5,
   "id": "supported-patch",
   "metadata": {},
   "outputs": [
    {
     "name": "stdout",
     "output_type": "stream",
     "text": [
      "-98 -45 5 5 6 6 7 7 8 9 23 23 34 67 88 854 \n",
      "None\n"
     ]
    }
   ],
   "source": [
    "def mergeSort(array):\n",
    "    if len(array) > 1:\n",
    "        #  r is the point where the array is divided into two subarrays\n",
    "        r = len(array)//2\n",
    "        L = array[:r]\n",
    "        M = array[r:]\n",
    "        \n",
    "        # Sort the 2 halves\n",
    "        mergeSort(L)\n",
    "        mergeSort(M)\n",
    "        \n",
    "        i = j = k = 0\n",
    "        # Until we reach either end of either L or M, pick larger among\n",
    "        # elements L and M and place them in the correct position at A[p..r]\n",
    "        while i < len(L) and j < len(M):\n",
    "            if L[i] < M[j]:\n",
    "                array[k] = L[i]\n",
    "                i+=1\n",
    "            else:\n",
    "                array[k] = M[j]\n",
    "                j+=1\n",
    "            k+=1\n",
    "        # When we run out of elements in either L or M,\n",
    "        # pick up the remaining elements and put in A[p..r]\n",
    "        while i<len(L):\n",
    "            array[k] = L[i]\n",
    "            i+=1\n",
    "            k+=1\n",
    "        while j<len(M):\n",
    "            array[k] = M[j]\n",
    "            j+=1\n",
    "            k+=1\n",
    "            \n",
    "def printList(array):\n",
    "    for i in range(len(array)):\n",
    "        print(array[i], end=\" \")\n",
    "    print()\n",
    "    \n",
    "if __name__ == '__main__':\n",
    "    array = [6,5,7,8,9,23,5,6,7,854,34,67,88,-98, -45, 23]\n",
    "    mergeSort(array)\n",
    "    print(printList(array))"
   ]
  },
  {
   "cell_type": "markdown",
   "id": "geographic-dover",
   "metadata": {},
   "source": [
    "Merge Sort Complexity\n",
    "Time Complexity\n",
    "Best Case Complexity: O(n*log n)\n",
    "\n",
    "Worst Case Complexity: O(n*log n)\n",
    "\n",
    "Average Case Complexity: O(n*log n)\n",
    "\n",
    "Space Complexity\n",
    "The space complexity of merge sort is O(n)."
   ]
  },
  {
   "cell_type": "code",
   "execution_count": null,
   "id": "heated-rwanda",
   "metadata": {},
   "outputs": [],
   "source": []
  }
 ],
 "metadata": {
  "kernelspec": {
   "display_name": "Python 3",
   "language": "python",
   "name": "python3"
  },
  "language_info": {
   "codemirror_mode": {
    "name": "ipython",
    "version": 3
   },
   "file_extension": ".py",
   "mimetype": "text/x-python",
   "name": "python",
   "nbconvert_exporter": "python",
   "pygments_lexer": "ipython3",
   "version": "3.8.6"
  }
 },
 "nbformat": 4,
 "nbformat_minor": 5
}
