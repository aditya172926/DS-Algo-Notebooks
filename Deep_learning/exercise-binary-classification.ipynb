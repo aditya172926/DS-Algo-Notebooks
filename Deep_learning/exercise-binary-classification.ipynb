{
 "cells": [
  {
   "cell_type": "markdown",
   "id": "0f7de105",
   "metadata": {
    "papermill": {
     "duration": 0.016975,
     "end_time": "2021-12-12T20:28:44.583131",
     "exception": false,
     "start_time": "2021-12-12T20:28:44.566156",
     "status": "completed"
    },
    "tags": []
   },
   "source": [
    "**This notebook is an exercise in the [Intro to Deep Learning](https://www.kaggle.com/learn/intro-to-deep-learning) course.  You can reference the tutorial at [this link](https://www.kaggle.com/ryanholbrook/binary-classification).**\n",
    "\n",
    "---\n"
   ]
  },
  {
   "cell_type": "markdown",
   "id": "76232716",
   "metadata": {
    "papermill": {
     "duration": 0.017666,
     "end_time": "2021-12-12T20:28:44.619829",
     "exception": false,
     "start_time": "2021-12-12T20:28:44.602163",
     "status": "completed"
    },
    "tags": []
   },
   "source": [
    "# Introduction #\n",
    "\n",
    "In this exercise, you'll build a model to predict hotel cancellations with a binary classifier."
   ]
  },
  {
   "cell_type": "code",
   "execution_count": 1,
   "id": "cc999a52",
   "metadata": {
    "execution": {
     "iopub.execute_input": "2021-12-12T20:28:44.663765Z",
     "iopub.status.busy": "2021-12-12T20:28:44.662938Z",
     "iopub.status.idle": "2021-12-12T20:28:44.694108Z",
     "shell.execute_reply": "2021-12-12T20:28:44.694519Z",
     "shell.execute_reply.started": "2021-12-12T20:20:55.346643Z"
    },
    "lines_to_next_cell": 0,
    "papermill": {
     "duration": 0.054379,
     "end_time": "2021-12-12T20:28:44.694785",
     "exception": false,
     "start_time": "2021-12-12T20:28:44.640406",
     "status": "completed"
    },
    "tags": []
   },
   "outputs": [],
   "source": [
    "# Setup plotting\n",
    "import matplotlib.pyplot as plt\n",
    "plt.style.use('seaborn-whitegrid')\n",
    "# Set Matplotlib defaults\n",
    "plt.rc('figure', autolayout=True)\n",
    "plt.rc('axes', labelweight='bold', labelsize='large',\n",
    "       titleweight='bold', titlesize=18, titlepad=10)\n",
    "plt.rc('animation', html='html5')\n",
    "\n",
    "# Setup feedback system\n",
    "from learntools.core import binder\n",
    "binder.bind(globals())\n",
    "from learntools.deep_learning_intro.ex6 import *"
   ]
  },
  {
   "cell_type": "markdown",
   "id": "793cc121",
   "metadata": {
    "papermill": {
     "duration": 0.009091,
     "end_time": "2021-12-12T20:28:44.713524",
     "exception": false,
     "start_time": "2021-12-12T20:28:44.704433",
     "status": "completed"
    },
    "tags": []
   },
   "source": [
    "First, load the *Hotel Cancellations* dataset."
   ]
  },
  {
   "cell_type": "code",
   "execution_count": 2,
   "id": "1a8666d3",
   "metadata": {
    "execution": {
     "iopub.execute_input": "2021-12-12T20:28:44.742618Z",
     "iopub.status.busy": "2021-12-12T20:28:44.741932Z",
     "iopub.status.idle": "2021-12-12T20:28:47.313104Z",
     "shell.execute_reply": "2021-12-12T20:28:47.312539Z",
     "shell.execute_reply.started": "2021-12-12T20:21:01.005423Z"
    },
    "lines_to_next_cell": 2,
    "papermill": {
     "duration": 2.590582,
     "end_time": "2021-12-12T20:28:47.313237",
     "exception": false,
     "start_time": "2021-12-12T20:28:44.722655",
     "status": "completed"
    },
    "tags": []
   },
   "outputs": [],
   "source": [
    "import pandas as pd\n",
    "\n",
    "from sklearn.model_selection import train_test_split\n",
    "from sklearn.preprocessing import StandardScaler, OneHotEncoder\n",
    "from sklearn.impute import SimpleImputer\n",
    "from sklearn.pipeline import make_pipeline\n",
    "from sklearn.compose import make_column_transformer\n",
    "\n",
    "hotel = pd.read_csv('../input/dl-course-data/hotel.csv')\n",
    "\n",
    "X = hotel.copy()\n",
    "y = X.pop('is_canceled')\n",
    "\n",
    "X['arrival_date_month'] = \\\n",
    "    X['arrival_date_month'].map(\n",
    "        {'January':1, 'February': 2, 'March':3,\n",
    "         'April':4, 'May':5, 'June':6, 'July':7,\n",
    "         'August':8, 'September':9, 'October':10,\n",
    "         'November':11, 'December':12}\n",
    "    )\n",
    "\n",
    "features_num = [\n",
    "    \"lead_time\", \"arrival_date_week_number\",\n",
    "    \"arrival_date_day_of_month\", \"stays_in_weekend_nights\",\n",
    "    \"stays_in_week_nights\", \"adults\", \"children\", \"babies\",\n",
    "    \"is_repeated_guest\", \"previous_cancellations\",\n",
    "    \"previous_bookings_not_canceled\", \"required_car_parking_spaces\",\n",
    "    \"total_of_special_requests\", \"adr\",\n",
    "]\n",
    "features_cat = [\n",
    "    \"hotel\", \"arrival_date_month\", \"meal\",\n",
    "    \"market_segment\", \"distribution_channel\",\n",
    "    \"reserved_room_type\", \"deposit_type\", \"customer_type\",\n",
    "]\n",
    "\n",
    "transformer_num = make_pipeline(\n",
    "    SimpleImputer(strategy=\"constant\"), # there are a few missing values\n",
    "    StandardScaler(),\n",
    ")\n",
    "transformer_cat = make_pipeline(\n",
    "    SimpleImputer(strategy=\"constant\", fill_value=\"NA\"),\n",
    "    OneHotEncoder(handle_unknown='ignore'),\n",
    ")\n",
    "\n",
    "preprocessor = make_column_transformer(\n",
    "    (transformer_num, features_num),\n",
    "    (transformer_cat, features_cat),\n",
    ")\n",
    "\n",
    "# stratify - make sure classes are evenlly represented across splits\n",
    "X_train, X_valid, y_train, y_valid = \\\n",
    "    train_test_split(X, y, stratify=y, train_size=0.75)\n",
    "\n",
    "X_train = preprocessor.fit_transform(X_train)\n",
    "X_valid = preprocessor.transform(X_valid)\n",
    "\n",
    "input_shape = [X_train.shape[1]]"
   ]
  },
  {
   "cell_type": "markdown",
   "id": "0ce7f314",
   "metadata": {
    "papermill": {
     "duration": 0.009871,
     "end_time": "2021-12-12T20:28:47.333379",
     "exception": false,
     "start_time": "2021-12-12T20:28:47.323508",
     "status": "completed"
    },
    "tags": []
   },
   "source": [
    "# 1) Define Model #\n",
    "\n",
    "The model we'll use this time will have both batch normalization and dropout layers. To ease reading we've broken the diagram into blocks, but you can define it layer by layer as usual.\n",
    "\n",
    "Define a model with an architecture given by this diagram:\n",
    "\n",
    "<figure style=\"padding: 1em;\">\n",
    "<img src=\"https://i.imgur.com/V04o59Z.png\" width=\"400\" alt=\"Diagram of network architecture: BatchNorm, Dense, BatchNorm, Dropout, Dense, BatchNorm, Dropout, Dense.\">\n",
    "<figcaption style=\"textalign: center; font-style: italic\"><center>Diagram of a binary classifier.</center></figcaption>\n",
    "</figure>\n"
   ]
  },
  {
   "cell_type": "code",
   "execution_count": 3,
   "id": "69185f56",
   "metadata": {
    "execution": {
     "iopub.execute_input": "2021-12-12T20:28:47.360757Z",
     "iopub.status.busy": "2021-12-12T20:28:47.360020Z",
     "iopub.status.idle": "2021-12-12T20:28:54.297843Z",
     "shell.execute_reply": "2021-12-12T20:28:54.297372Z",
     "shell.execute_reply.started": "2021-12-12T20:24:40.885749Z"
    },
    "lines_to_next_cell": 2,
    "papermill": {
     "duration": 6.954171,
     "end_time": "2021-12-12T20:28:54.297964",
     "exception": false,
     "start_time": "2021-12-12T20:28:47.343793",
     "status": "completed"
    },
    "tags": []
   },
   "outputs": [
    {
     "name": "stderr",
     "output_type": "stream",
     "text": [
      "2021-12-12 20:28:52.032535: I tensorflow/stream_executor/cuda/cuda_gpu_executor.cc:937] successful NUMA node read from SysFS had negative value (-1), but there must be at least one NUMA node, so returning NUMA node zero\n",
      "2021-12-12 20:28:52.129213: I tensorflow/stream_executor/cuda/cuda_gpu_executor.cc:937] successful NUMA node read from SysFS had negative value (-1), but there must be at least one NUMA node, so returning NUMA node zero\n",
      "2021-12-12 20:28:52.130018: I tensorflow/stream_executor/cuda/cuda_gpu_executor.cc:937] successful NUMA node read from SysFS had negative value (-1), but there must be at least one NUMA node, so returning NUMA node zero\n",
      "2021-12-12 20:28:52.131249: I tensorflow/core/platform/cpu_feature_guard.cc:142] This TensorFlow binary is optimized with oneAPI Deep Neural Network Library (oneDNN) to use the following CPU instructions in performance-critical operations:  AVX2 AVX512F FMA\n",
      "To enable them in other operations, rebuild TensorFlow with the appropriate compiler flags.\n",
      "2021-12-12 20:28:52.132432: I tensorflow/stream_executor/cuda/cuda_gpu_executor.cc:937] successful NUMA node read from SysFS had negative value (-1), but there must be at least one NUMA node, so returning NUMA node zero\n",
      "2021-12-12 20:28:52.133154: I tensorflow/stream_executor/cuda/cuda_gpu_executor.cc:937] successful NUMA node read from SysFS had negative value (-1), but there must be at least one NUMA node, so returning NUMA node zero\n",
      "2021-12-12 20:28:52.133776: I tensorflow/stream_executor/cuda/cuda_gpu_executor.cc:937] successful NUMA node read from SysFS had negative value (-1), but there must be at least one NUMA node, so returning NUMA node zero\n",
      "2021-12-12 20:28:53.866233: I tensorflow/stream_executor/cuda/cuda_gpu_executor.cc:937] successful NUMA node read from SysFS had negative value (-1), but there must be at least one NUMA node, so returning NUMA node zero\n",
      "2021-12-12 20:28:53.867052: I tensorflow/stream_executor/cuda/cuda_gpu_executor.cc:937] successful NUMA node read from SysFS had negative value (-1), but there must be at least one NUMA node, so returning NUMA node zero\n",
      "2021-12-12 20:28:53.867879: I tensorflow/stream_executor/cuda/cuda_gpu_executor.cc:937] successful NUMA node read from SysFS had negative value (-1), but there must be at least one NUMA node, so returning NUMA node zero\n",
      "2021-12-12 20:28:53.868480: I tensorflow/core/common_runtime/gpu/gpu_device.cc:1510] Created device /job:localhost/replica:0/task:0/device:GPU:0 with 15403 MB memory:  -> device: 0, name: Tesla P100-PCIE-16GB, pci bus id: 0000:00:04.0, compute capability: 6.0\n"
     ]
    },
    {
     "data": {
      "application/javascript": [
       "parent.postMessage({\"jupyterEvent\": \"custom.exercise_interaction\", \"data\": {\"outcomeType\": 1, \"valueTowardsCompletion\": 0.3333333333333333, \"interactionType\": 1, \"questionType\": 2, \"questionId\": \"1_Q1\", \"learnToolsVersion\": \"0.3.4\", \"failureMessage\": \"\", \"exceptionClass\": \"\", \"trace\": \"\"}}, \"*\")"
      ],
      "text/plain": [
       "<IPython.core.display.Javascript object>"
      ]
     },
     "metadata": {},
     "output_type": "display_data"
    },
    {
     "data": {
      "text/markdown": [
       "<span style=\"color:#33cc33\">Correct</span>"
      ],
      "text/plain": [
       "Correct"
      ]
     },
     "metadata": {},
     "output_type": "display_data"
    }
   ],
   "source": [
    "from tensorflow import keras\n",
    "from tensorflow.keras import layers\n",
    "\n",
    "# YOUR CODE HERE: define the model given in the diagram\n",
    "model = keras.Sequential([\n",
    "    layers.BatchNormalization(input_shape = input_shape),\n",
    "    layers.Dense(256, activation=\"relu\"),\n",
    "    layers.BatchNormalization(),\n",
    "    layers.Dropout(rate = 0.3),\n",
    "    layers.Dense(256, activation=\"relu\"),\n",
    "    layers.BatchNormalization(),\n",
    "    layers.Dropout(rate = 0.3),\n",
    "    layers.Dense(1, activation = \"sigmoid\")\n",
    "])\n",
    "\n",
    "# Check your answer\n",
    "q_1.check()"
   ]
  },
  {
   "cell_type": "markdown",
   "id": "6f766475",
   "metadata": {
    "papermill": {
     "duration": 0.010741,
     "end_time": "2021-12-12T20:28:54.320284",
     "exception": false,
     "start_time": "2021-12-12T20:28:54.309543",
     "status": "completed"
    },
    "tags": []
   },
   "source": [
    "# 2) Add Optimizer, Loss, and Metric #\n",
    "\n",
    "Now compile the model with the Adam optimizer and binary versions of the cross-entropy loss and accuracy metric."
   ]
  },
  {
   "cell_type": "code",
   "execution_count": 4,
   "id": "e221fb4c",
   "metadata": {
    "execution": {
     "iopub.execute_input": "2021-12-12T20:28:54.348796Z",
     "iopub.status.busy": "2021-12-12T20:28:54.346000Z",
     "iopub.status.idle": "2021-12-12T20:28:54.361847Z",
     "shell.execute_reply": "2021-12-12T20:28:54.362346Z",
     "shell.execute_reply.started": "2021-12-12T20:26:29.568404Z"
    },
    "lines_to_next_cell": 0,
    "papermill": {
     "duration": 0.031135,
     "end_time": "2021-12-12T20:28:54.362491",
     "exception": false,
     "start_time": "2021-12-12T20:28:54.331356",
     "status": "completed"
    },
    "tags": []
   },
   "outputs": [
    {
     "data": {
      "application/javascript": [
       "parent.postMessage({\"jupyterEvent\": \"custom.exercise_interaction\", \"data\": {\"outcomeType\": 1, \"valueTowardsCompletion\": 0.3333333333333333, \"interactionType\": 1, \"questionType\": 2, \"questionId\": \"2_Q2\", \"learnToolsVersion\": \"0.3.4\", \"failureMessage\": \"\", \"exceptionClass\": \"\", \"trace\": \"\"}}, \"*\")"
      ],
      "text/plain": [
       "<IPython.core.display.Javascript object>"
      ]
     },
     "metadata": {},
     "output_type": "display_data"
    },
    {
     "data": {
      "text/markdown": [
       "<span style=\"color:#33cc33\">Correct</span>"
      ],
      "text/plain": [
       "Correct"
      ]
     },
     "metadata": {},
     "output_type": "display_data"
    }
   ],
   "source": [
    "# YOUR CODE HERE\n",
    "model.compile(\n",
    "    optimizer = \"adam\",\n",
    "    loss = \"binary_crossentropy\",\n",
    "    metrics = ['binary_accuracy'],\n",
    ")\n",
    "\n",
    "# Check your answer\n",
    "q_2.check()"
   ]
  },
  {
   "cell_type": "code",
   "execution_count": 5,
   "id": "f7ab82ed",
   "metadata": {
    "execution": {
     "iopub.execute_input": "2021-12-12T20:28:54.390702Z",
     "iopub.status.busy": "2021-12-12T20:28:54.389799Z",
     "iopub.status.idle": "2021-12-12T20:28:54.393310Z",
     "shell.execute_reply": "2021-12-12T20:28:54.392844Z"
    },
    "lines_to_next_cell": 0,
    "papermill": {
     "duration": 0.019152,
     "end_time": "2021-12-12T20:28:54.393432",
     "exception": false,
     "start_time": "2021-12-12T20:28:54.374280",
     "status": "completed"
    },
    "tags": []
   },
   "outputs": [],
   "source": [
    "# Lines below will give you a hint or solution code\n",
    "#q_2.hint()\n",
    "#q_2.solution()"
   ]
  },
  {
   "cell_type": "markdown",
   "id": "e0d247b0",
   "metadata": {
    "papermill": {
     "duration": 0.012152,
     "end_time": "2021-12-12T20:28:54.417912",
     "exception": false,
     "start_time": "2021-12-12T20:28:54.405760",
     "status": "completed"
    },
    "tags": []
   },
   "source": [
    "Finally, run this cell to train the model and view the learning curves. It may run for around 60 to 70 epochs, which could take a minute or two."
   ]
  },
  {
   "cell_type": "code",
   "execution_count": 6,
   "id": "fa907baf",
   "metadata": {
    "execution": {
     "iopub.execute_input": "2021-12-12T20:28:54.450315Z",
     "iopub.status.busy": "2021-12-12T20:28:54.449409Z",
     "iopub.status.idle": "2021-12-12T20:29:33.780636Z",
     "shell.execute_reply": "2021-12-12T20:29:33.781019Z",
     "shell.execute_reply.started": "2021-12-12T20:26:47.018284Z"
    },
    "papermill": {
     "duration": 39.351132,
     "end_time": "2021-12-12T20:29:33.781218",
     "exception": false,
     "start_time": "2021-12-12T20:28:54.430086",
     "status": "completed"
    },
    "tags": []
   },
   "outputs": [
    {
     "name": "stderr",
     "output_type": "stream",
     "text": [
      "2021-12-12 20:28:54.570454: I tensorflow/compiler/mlir/mlir_graph_optimization_pass.cc:185] None of the MLIR Optimization Passes are enabled (registered 2)\n"
     ]
    },
    {
     "name": "stdout",
     "output_type": "stream",
     "text": [
      "Epoch 1/200\n",
      "175/175 [==============================] - 3s 6ms/step - loss: 0.4850 - binary_accuracy: 0.7705 - val_loss: 0.4456 - val_binary_accuracy: 0.7996\n",
      "Epoch 2/200\n",
      "175/175 [==============================] - 1s 7ms/step - loss: 0.4235 - binary_accuracy: 0.8013 - val_loss: 0.4093 - val_binary_accuracy: 0.8101\n",
      "Epoch 3/200\n",
      "175/175 [==============================] - 1s 5ms/step - loss: 0.4090 - binary_accuracy: 0.8087 - val_loss: 0.4039 - val_binary_accuracy: 0.8129\n",
      "Epoch 4/200\n",
      "175/175 [==============================] - 1s 5ms/step - loss: 0.4005 - binary_accuracy: 0.8129 - val_loss: 0.3980 - val_binary_accuracy: 0.8155\n",
      "Epoch 5/200\n",
      "175/175 [==============================] - 1s 5ms/step - loss: 0.3953 - binary_accuracy: 0.8158 - val_loss: 0.3941 - val_binary_accuracy: 0.8185\n",
      "Epoch 6/200\n",
      "175/175 [==============================] - 1s 5ms/step - loss: 0.3904 - binary_accuracy: 0.8180 - val_loss: 0.3949 - val_binary_accuracy: 0.8166\n",
      "Epoch 7/200\n",
      "175/175 [==============================] - 1s 5ms/step - loss: 0.3865 - binary_accuracy: 0.8202 - val_loss: 0.3893 - val_binary_accuracy: 0.8210\n",
      "Epoch 8/200\n",
      "175/175 [==============================] - 1s 5ms/step - loss: 0.3834 - binary_accuracy: 0.8215 - val_loss: 0.3871 - val_binary_accuracy: 0.8218\n",
      "Epoch 9/200\n",
      "175/175 [==============================] - 1s 5ms/step - loss: 0.3789 - binary_accuracy: 0.8246 - val_loss: 0.3837 - val_binary_accuracy: 0.8237\n",
      "Epoch 10/200\n",
      "175/175 [==============================] - 1s 5ms/step - loss: 0.3767 - binary_accuracy: 0.8267 - val_loss: 0.3827 - val_binary_accuracy: 0.8229\n",
      "Epoch 11/200\n",
      "175/175 [==============================] - 1s 5ms/step - loss: 0.3739 - binary_accuracy: 0.8269 - val_loss: 0.3761 - val_binary_accuracy: 0.8269\n",
      "Epoch 12/200\n",
      "175/175 [==============================] - 1s 7ms/step - loss: 0.3709 - binary_accuracy: 0.8290 - val_loss: 0.3776 - val_binary_accuracy: 0.8253\n",
      "Epoch 13/200\n",
      "175/175 [==============================] - 1s 6ms/step - loss: 0.3692 - binary_accuracy: 0.8296 - val_loss: 0.3742 - val_binary_accuracy: 0.8270\n",
      "Epoch 14/200\n",
      "175/175 [==============================] - 1s 7ms/step - loss: 0.3681 - binary_accuracy: 0.8299 - val_loss: 0.3737 - val_binary_accuracy: 0.8269\n",
      "Epoch 15/200\n",
      "175/175 [==============================] - 1s 5ms/step - loss: 0.3650 - binary_accuracy: 0.8313 - val_loss: 0.3714 - val_binary_accuracy: 0.8297\n",
      "Epoch 16/200\n",
      "175/175 [==============================] - 1s 5ms/step - loss: 0.3639 - binary_accuracy: 0.8321 - val_loss: 0.3701 - val_binary_accuracy: 0.8303\n",
      "Epoch 17/200\n",
      "175/175 [==============================] - 1s 5ms/step - loss: 0.3614 - binary_accuracy: 0.8327 - val_loss: 0.3679 - val_binary_accuracy: 0.8314\n",
      "Epoch 18/200\n",
      "175/175 [==============================] - 1s 5ms/step - loss: 0.3599 - binary_accuracy: 0.8334 - val_loss: 0.3677 - val_binary_accuracy: 0.8315\n",
      "Epoch 19/200\n",
      "175/175 [==============================] - 1s 5ms/step - loss: 0.3572 - binary_accuracy: 0.8362 - val_loss: 0.3666 - val_binary_accuracy: 0.8327\n",
      "Epoch 20/200\n",
      "175/175 [==============================] - 1s 5ms/step - loss: 0.3563 - binary_accuracy: 0.8356 - val_loss: 0.3688 - val_binary_accuracy: 0.8293\n",
      "Epoch 21/200\n",
      "175/175 [==============================] - 1s 5ms/step - loss: 0.3554 - binary_accuracy: 0.8364 - val_loss: 0.3693 - val_binary_accuracy: 0.8292\n",
      "Epoch 22/200\n",
      "175/175 [==============================] - 1s 5ms/step - loss: 0.3546 - binary_accuracy: 0.8368 - val_loss: 0.3645 - val_binary_accuracy: 0.8337\n",
      "Epoch 23/200\n",
      "175/175 [==============================] - 1s 5ms/step - loss: 0.3534 - binary_accuracy: 0.8360 - val_loss: 0.3648 - val_binary_accuracy: 0.8330\n",
      "Epoch 24/200\n",
      "175/175 [==============================] - 1s 5ms/step - loss: 0.3494 - binary_accuracy: 0.8403 - val_loss: 0.3628 - val_binary_accuracy: 0.8321\n",
      "Epoch 25/200\n",
      "175/175 [==============================] - 1s 5ms/step - loss: 0.3495 - binary_accuracy: 0.8383 - val_loss: 0.3619 - val_binary_accuracy: 0.8344\n",
      "Epoch 26/200\n",
      "175/175 [==============================] - 1s 6ms/step - loss: 0.3486 - binary_accuracy: 0.8390 - val_loss: 0.3635 - val_binary_accuracy: 0.8334\n",
      "Epoch 27/200\n",
      "175/175 [==============================] - 1s 5ms/step - loss: 0.3476 - binary_accuracy: 0.8394 - val_loss: 0.3615 - val_binary_accuracy: 0.8341\n",
      "Epoch 28/200\n",
      "175/175 [==============================] - 1s 5ms/step - loss: 0.3465 - binary_accuracy: 0.8406 - val_loss: 0.3604 - val_binary_accuracy: 0.8352\n",
      "Epoch 29/200\n",
      "175/175 [==============================] - 1s 5ms/step - loss: 0.3453 - binary_accuracy: 0.8405 - val_loss: 0.3598 - val_binary_accuracy: 0.8352\n",
      "Epoch 30/200\n",
      "175/175 [==============================] - 1s 5ms/step - loss: 0.3430 - binary_accuracy: 0.8434 - val_loss: 0.3632 - val_binary_accuracy: 0.8328\n",
      "Epoch 31/200\n",
      "175/175 [==============================] - 1s 5ms/step - loss: 0.3443 - binary_accuracy: 0.8420 - val_loss: 0.3594 - val_binary_accuracy: 0.8340\n",
      "Epoch 32/200\n",
      "175/175 [==============================] - 1s 5ms/step - loss: 0.3418 - binary_accuracy: 0.8418 - val_loss: 0.3598 - val_binary_accuracy: 0.8340\n",
      "Epoch 33/200\n",
      "175/175 [==============================] - 1s 5ms/step - loss: 0.3412 - binary_accuracy: 0.8431 - val_loss: 0.3586 - val_binary_accuracy: 0.8348\n",
      "Epoch 34/200\n",
      "175/175 [==============================] - 1s 5ms/step - loss: 0.3413 - binary_accuracy: 0.8432 - val_loss: 0.3580 - val_binary_accuracy: 0.8373\n",
      "Epoch 35/200\n",
      "175/175 [==============================] - 1s 5ms/step - loss: 0.3400 - binary_accuracy: 0.8426 - val_loss: 0.3579 - val_binary_accuracy: 0.8380\n",
      "Epoch 36/200\n",
      "175/175 [==============================] - 1s 5ms/step - loss: 0.3394 - binary_accuracy: 0.8451 - val_loss: 0.3557 - val_binary_accuracy: 0.8372\n",
      "Epoch 37/200\n",
      "175/175 [==============================] - 1s 5ms/step - loss: 0.3366 - binary_accuracy: 0.8452 - val_loss: 0.3574 - val_binary_accuracy: 0.8371\n",
      "Epoch 38/200\n",
      "175/175 [==============================] - 1s 5ms/step - loss: 0.3375 - binary_accuracy: 0.8446 - val_loss: 0.3571 - val_binary_accuracy: 0.8374\n",
      "Epoch 39/200\n",
      "175/175 [==============================] - 1s 6ms/step - loss: 0.3367 - binary_accuracy: 0.8450 - val_loss: 0.3572 - val_binary_accuracy: 0.8372\n",
      "Epoch 40/200\n",
      "175/175 [==============================] - 1s 5ms/step - loss: 0.3354 - binary_accuracy: 0.8464 - val_loss: 0.3551 - val_binary_accuracy: 0.8385\n",
      "Epoch 41/200\n",
      "175/175 [==============================] - 1s 5ms/step - loss: 0.3360 - binary_accuracy: 0.8446 - val_loss: 0.3570 - val_binary_accuracy: 0.8370\n"
     ]
    },
    {
     "data": {
      "text/plain": [
       "<AxesSubplot:title={'center':'Accuracy'}>"
      ]
     },
     "execution_count": 6,
     "metadata": {},
     "output_type": "execute_result"
    },
    {
     "data": {
      "image/png": "[encoded data removed]",
      "text/plain": [
       "<Figure size 432x288 with 1 Axes>"
      ]
     },
     "metadata": {},
     "output_type": "display_data"
    },
    {
     "data": {
      "image/png": "[encoded data removed]",
      "text/plain": [
       "<Figure size 432x288 with 1 Axes>"
      ]
     },
     "metadata": {},
     "output_type": "display_data"
    }
   ],
   "source": [
    "early_stopping = keras.callbacks.EarlyStopping(\n",
    "    patience=5,\n",
    "    min_delta=0.001,\n",
    "    restore_best_weights=True,\n",
    ")\n",
    "history = model.fit(\n",
    "    X_train, y_train,\n",
    "    validation_data=(X_valid, y_valid),\n",
    "    batch_size=512,\n",
    "    epochs=200,\n",
    "    callbacks=[early_stopping],\n",
    ")\n",
    "\n",
    "history_df = pd.DataFrame(history.history)\n",
    "history_df.loc[:, ['loss', 'val_loss']].plot(title=\"Cross-entropy\")\n",
    "history_df.loc[:, ['binary_accuracy', 'val_binary_accuracy']].plot(title=\"Accuracy\")"
   ]
  },
  {
   "cell_type": "markdown",
   "id": "ce5844ad",
   "metadata": {
    "papermill": {
     "duration": 0.21635,
     "end_time": "2021-12-12T20:29:34.182178",
     "exception": false,
     "start_time": "2021-12-12T20:29:33.965828",
     "status": "completed"
    },
    "tags": []
   },
   "source": [
    "# 3) Train and Evaluate #\n",
    "\n",
    "\n",
    "What do you think about the learning curves? Does it look like the model underfit or overfit? Was the cross-entropy loss a good stand-in for accuracy?"
   ]
  },
  {
   "cell_type": "code",
   "execution_count": 7,
   "id": "8aab5f68",
   "metadata": {
    "execution": {
     "iopub.execute_input": "2021-12-12T20:29:34.593631Z",
     "iopub.status.busy": "2021-12-12T20:29:34.592811Z",
     "iopub.status.idle": "2021-12-12T20:29:34.599945Z",
     "shell.execute_reply": "2021-12-12T20:29:34.599159Z",
     "shell.execute_reply.started": "2021-12-12T20:27:45.544350Z"
    },
    "papermill": {
     "duration": 0.220921,
     "end_time": "2021-12-12T20:29:34.600212",
     "exception": false,
     "start_time": "2021-12-12T20:29:34.379291",
     "status": "completed"
    },
    "tags": []
   },
   "outputs": [
    {
     "data": {
      "application/javascript": [
       "parent.postMessage({\"jupyterEvent\": \"custom.exercise_interaction\", \"data\": {\"outcomeType\": 1, \"valueTowardsCompletion\": 0.3333333333333333, \"interactionType\": 1, \"questionType\": 4, \"questionId\": \"3_Q3\", \"learnToolsVersion\": \"0.3.4\", \"failureMessage\": \"\", \"exceptionClass\": \"\", \"trace\": \"\"}}, \"*\")"
      ],
      "text/plain": [
       "<IPython.core.display.Javascript object>"
      ]
     },
     "metadata": {},
     "output_type": "display_data"
    },
    {
     "data": {
      "text/markdown": [
       "<span style=\"color:#33cc33\">Correct:</span> \n",
       "\n",
       "Though we can see the training loss continuing to fall, the early stopping callback prevented any overfitting. Moreover, the accuracy rose at the same rate as the cross-entropy fell, so it appears that minimizing cross-entropy was a good stand-in. All in all, it looks like this training was a success!"
      ],
      "text/plain": [
       "Correct: \n",
       "\n",
       "Though we can see the training loss continuing to fall, the early stopping callback prevented any overfitting. Moreover, the accuracy rose at the same rate as the cross-entropy fell, so it appears that minimizing cross-entropy was a good stand-in. All in all, it looks like this training was a success!"
      ]
     },
     "metadata": {},
     "output_type": "display_data"
    }
   ],
   "source": [
    "# View the solution (Run this cell to receive credit!)\n",
    "q_3.check()"
   ]
  },
  {
   "cell_type": "markdown",
   "id": "20db182a",
   "metadata": {
    "papermill": {
     "duration": 0.188725,
     "end_time": "2021-12-12T20:29:34.979678",
     "exception": false,
     "start_time": "2021-12-12T20:29:34.790953",
     "status": "completed"
    },
    "tags": []
   },
   "source": [
    "# Conclusion #\n",
    "\n",
    "Congratulations! You've completed Kaggle's *Introduction to Deep Learning* course!\n",
    "\n",
    "With your new skills you're ready to take on more advanced applications like computer vision and sentiment classification. What would you like to do next?\n",
    "\n",
    "Why not try one of our *Getting Started* competitions?\n",
    "\n",
    "- Classify images with TPUs in [**Petals to the Metal**](https://www.kaggle.com/c/tpu-getting-started)\n",
    "- Create art with GANs in [**I'm Something of a Painter Myself**](https://www.kaggle.com/c/gan-getting-started)\n",
    "- Classify Tweets in [**Real or Not? NLP with Disaster Tweets**](https://www.kaggle.com/c/nlp-getting-started)\n",
    "- Detect contradiction and entailment in [**Contradictory, My Dear Watson**](https://www.kaggle.com/c/contradictory-my-dear-watson)\n",
    "\n",
    "Until next time, Kagglers!"
   ]
  },
  {
   "cell_type": "markdown",
   "id": "21bd8ac2",
   "metadata": {
    "papermill": {
     "duration": 0.210941,
     "end_time": "2021-12-12T20:29:35.398875",
     "exception": false,
     "start_time": "2021-12-12T20:29:35.187934",
     "status": "completed"
    },
    "tags": []
   },
   "source": [
    "---\n",
    "\n",
    "\n",
    "\n",
    "\n",
    "*Have questions or comments? Visit the [course discussion forum](https://www.kaggle.com/learn/intro-to-deep-learning/discussion) to chat with other learners.*"
   ]
  }
 ],
 "metadata": {
  "kernelspec": {
   "display_name": "Python 3",
   "language": "python",
   "name": "python3"
  },
  "language_info": {
   "codemirror_mode": {
    "name": "ipython",
    "version": 3
   },
   "file_extension": ".py",
   "mimetype": "text/x-python",
   "name": "python",
   "nbconvert_exporter": "python",
   "pygments_lexer": "ipython3",
   "version": "3.7.12"
  },
  "papermill": {
   "default_parameters": {},
   "duration": 62.388714,
   "end_time": "2021-12-12T20:29:38.621450",
   "environment_variables": {},
   "exception": null,
   "input_path": "__notebook__.ipynb",
   "output_path": "__notebook__.ipynb",
   "parameters": {},
   "start_time": "2021-12-12T20:28:36.232736",
   "version": "2.3.3"
  }
 },
 "nbformat": 4,
 "nbformat_minor": 5
}
