{
 "cells": [
  {
   "cell_type": "markdown",
   "id": "3783708f",
   "metadata": {
    "papermill": {
     "duration": 0.014101,
     "end_time": "2021-12-12T19:50:05.387002",
     "exception": false,
     "start_time": "2021-12-12T19:50:05.372901",
     "status": "completed"
    },
    "tags": []
   },
   "source": [
    "**This notebook is an exercise in the [Intro to Deep Learning](https://www.kaggle.com/learn/intro-to-deep-learning) course.  You can reference the tutorial at [this link](https://www.kaggle.com/ryanholbrook/overfitting-and-underfitting).**\n",
    "\n",
    "---\n"
   ]
  },
  {
   "cell_type": "markdown",
   "id": "fb976395",
   "metadata": {
    "papermill": {
     "duration": 0.013378,
     "end_time": "2021-12-12T19:50:05.415800",
     "exception": false,
     "start_time": "2021-12-12T19:50:05.402422",
     "status": "completed"
    },
    "tags": []
   },
   "source": [
    "# Introduction #\n",
    "\n",
    "In this exercise, you’ll learn how to improve training outcomes by including an early stopping callback to prevent overfitting.\n",
    "\n",
    "When you're ready, run this next cell to set everything up!"
   ]
  },
  {
   "cell_type": "code",
   "execution_count": 1,
   "id": "86484a85",
   "metadata": {
    "execution": {
     "iopub.execute_input": "2021-12-12T19:50:05.454310Z",
     "iopub.status.busy": "2021-12-12T19:50:05.453481Z",
     "iopub.status.idle": "2021-12-12T19:50:05.485167Z",
     "shell.execute_reply": "2021-12-12T19:50:05.484648Z",
     "shell.execute_reply.started": "2021-12-12T19:43:02.547954Z"
    },
    "papermill": {
     "duration": 0.056491,
     "end_time": "2021-12-12T19:50:05.485288",
     "exception": false,
     "start_time": "2021-12-12T19:50:05.428797",
     "status": "completed"
    },
    "tags": []
   },
   "outputs": [],
   "source": [
    "# Setup plotting\n",
    "import matplotlib.pyplot as plt\n",
    "plt.style.use('seaborn-whitegrid')\n",
    "# Set Matplotlib defaults\n",
    "plt.rc('figure', autolayout=True)\n",
    "plt.rc('axes', labelweight='bold', labelsize='large',\n",
    "       titleweight='bold', titlesize=18, titlepad=10)\n",
    "plt.rc('animation', html='html5')\n",
    "\n",
    "# Setup feedback system\n",
    "from learntools.core import binder\n",
    "binder.bind(globals())\n",
    "from learntools.deep_learning_intro.ex4 import *"
   ]
  },
  {
   "cell_type": "markdown",
   "id": "384b8f1c",
   "metadata": {
    "papermill": {
     "duration": 0.012841,
     "end_time": "2021-12-12T19:50:05.511084",
     "exception": false,
     "start_time": "2021-12-12T19:50:05.498243",
     "status": "completed"
    },
    "tags": []
   },
   "source": [
    "First load the *Spotify* dataset. Your task will be to predict the popularity of a song based on various audio features, like `'tempo'`, `'danceability'`, and `'mode'`."
   ]
  },
  {
   "cell_type": "code",
   "execution_count": 2,
   "id": "2389d0b2",
   "metadata": {
    "execution": {
     "iopub.execute_input": "2021-12-12T19:50:05.546080Z",
     "iopub.status.busy": "2021-12-12T19:50:05.545401Z",
     "iopub.status.idle": "2021-12-12T19:50:11.510522Z",
     "shell.execute_reply": "2021-12-12T19:50:11.511232Z",
     "shell.execute_reply.started": "2021-12-12T19:43:28.528492Z"
    },
    "papermill": {
     "duration": 5.987315,
     "end_time": "2021-12-12T19:50:11.511422",
     "exception": false,
     "start_time": "2021-12-12T19:50:05.524107",
     "status": "completed"
    },
    "tags": []
   },
   "outputs": [
    {
     "name": "stdout",
     "output_type": "stream",
     "text": [
      "Input shape: [18]\n"
     ]
    }
   ],
   "source": [
    "import pandas as pd\n",
    "from sklearn.preprocessing import StandardScaler, OneHotEncoder\n",
    "from sklearn.compose import make_column_transformer\n",
    "from sklearn.model_selection import GroupShuffleSplit\n",
    "\n",
    "from tensorflow import keras\n",
    "from tensorflow.keras import layers\n",
    "from tensorflow.keras import callbacks\n",
    "\n",
    "spotify = pd.read_csv('../input/dl-course-data/spotify.csv')\n",
    "\n",
    "X = spotify.copy().dropna()\n",
    "y = X.pop('track_popularity')\n",
    "artists = X['track_artist']\n",
    "\n",
    "features_num = ['danceability', 'energy', 'key', 'loudness', 'mode',\n",
    "                'speechiness', 'acousticness', 'instrumentalness',\n",
    "                'liveness', 'valence', 'tempo', 'duration_ms']\n",
    "features_cat = ['playlist_genre']\n",
    "\n",
    "preprocessor = make_column_transformer(\n",
    "    (StandardScaler(), features_num),\n",
    "    (OneHotEncoder(), features_cat),\n",
    ")\n",
    "\n",
    "# We'll do a \"grouped\" split to keep all of an artist's songs in one\n",
    "# split or the other. This is to help prevent signal leakage.\n",
    "def group_split(X, y, group, train_size=0.75):\n",
    "    splitter = GroupShuffleSplit(train_size=train_size)\n",
    "    train, test = next(splitter.split(X, y, groups=group))\n",
    "    return (X.iloc[train], X.iloc[test], y.iloc[train], y.iloc[test])\n",
    "\n",
    "X_train, X_valid, y_train, y_valid = group_split(X, y, artists)\n",
    "\n",
    "X_train = preprocessor.fit_transform(X_train)\n",
    "X_valid = preprocessor.transform(X_valid)\n",
    "y_train = y_train / 100 # popularity is on a scale 0-100, so this rescales to 0-1.\n",
    "y_valid = y_valid / 100\n",
    "\n",
    "input_shape = [X_train.shape[1]]\n",
    "print(\"Input shape: {}\".format(input_shape))"
   ]
  },
  {
   "cell_type": "markdown",
   "id": "283b28eb",
   "metadata": {
    "papermill": {
     "duration": 0.013435,
     "end_time": "2021-12-12T19:50:11.539389",
     "exception": false,
     "start_time": "2021-12-12T19:50:11.525954",
     "status": "completed"
    },
    "tags": []
   },
   "source": [
    "Let's start with the simplest network, a linear model. This model has low capacity.\n",
    "\n",
    "Run this next cell without any changes to train a linear model on the *Spotify* dataset."
   ]
  },
  {
   "cell_type": "code",
   "execution_count": 3,
   "id": "140f97ff",
   "metadata": {
    "execution": {
     "iopub.execute_input": "2021-12-12T19:50:11.569953Z",
     "iopub.status.busy": "2021-12-12T19:50:11.569125Z",
     "iopub.status.idle": "2021-12-12T19:50:24.966338Z",
     "shell.execute_reply": "2021-12-12T19:50:24.966794Z",
     "shell.execute_reply.started": "2021-12-12T19:43:54.984303Z"
    },
    "lines_to_next_cell": 0,
    "papermill": {
     "duration": 13.413851,
     "end_time": "2021-12-12T19:50:24.966946",
     "exception": false,
     "start_time": "2021-12-12T19:50:11.553095",
     "status": "completed"
    },
    "tags": []
   },
   "outputs": [
    {
     "name": "stderr",
     "output_type": "stream",
     "text": [
      "2021-12-12 19:50:11.651738: I tensorflow/stream_executor/cuda/cuda_gpu_executor.cc:937] successful NUMA node read from SysFS had negative value (-1), but there must be at least one NUMA node, so returning NUMA node zero\n",
      "2021-12-12 19:50:11.747190: I tensorflow/stream_executor/cuda/cuda_gpu_executor.cc:937] successful NUMA node read from SysFS had negative value (-1), but there must be at least one NUMA node, so returning NUMA node zero\n",
      "2021-12-12 19:50:11.747997: I tensorflow/stream_executor/cuda/cuda_gpu_executor.cc:937] successful NUMA node read from SysFS had negative value (-1), but there must be at least one NUMA node, so returning NUMA node zero\n",
      "2021-12-12 19:50:11.749850: I tensorflow/core/platform/cpu_feature_guard.cc:142] This TensorFlow binary is optimized with oneAPI Deep Neural Network Library (oneDNN) to use the following CPU instructions in performance-critical operations:  AVX2 AVX512F FMA\n",
      "To enable them in other operations, rebuild TensorFlow with the appropriate compiler flags.\n",
      "2021-12-12 19:50:11.751116: I tensorflow/stream_executor/cuda/cuda_gpu_executor.cc:937] successful NUMA node read from SysFS had negative value (-1), but there must be at least one NUMA node, so returning NUMA node zero\n",
      "2021-12-12 19:50:11.751867: I tensorflow/stream_executor/cuda/cuda_gpu_executor.cc:937] successful NUMA node read from SysFS had negative value (-1), but there must be at least one NUMA node, so returning NUMA node zero\n",
      "2021-12-12 19:50:11.752522: I tensorflow/stream_executor/cuda/cuda_gpu_executor.cc:937] successful NUMA node read from SysFS had negative value (-1), but there must be at least one NUMA node, so returning NUMA node zero\n",
      "2021-12-12 19:50:13.666803: I tensorflow/stream_executor/cuda/cuda_gpu_executor.cc:937] successful NUMA node read from SysFS had negative value (-1), but there must be at least one NUMA node, so returning NUMA node zero\n",
      "2021-12-12 19:50:13.667587: I tensorflow/stream_executor/cuda/cuda_gpu_executor.cc:937] successful NUMA node read from SysFS had negative value (-1), but there must be at least one NUMA node, so returning NUMA node zero\n",
      "2021-12-12 19:50:13.668227: I tensorflow/stream_executor/cuda/cuda_gpu_executor.cc:937] successful NUMA node read from SysFS had negative value (-1), but there must be at least one NUMA node, so returning NUMA node zero\n",
      "2021-12-12 19:50:13.668807: I tensorflow/core/common_runtime/gpu/gpu_device.cc:1510] Created device /job:localhost/replica:0/task:0/device:GPU:0 with 15403 MB memory:  -> device: 0, name: Tesla P100-PCIE-16GB, pci bus id: 0000:00:04.0, compute capability: 6.0\n",
      "2021-12-12 19:50:14.105706: I tensorflow/compiler/mlir/mlir_graph_optimization_pass.cc:185] None of the MLIR Optimization Passes are enabled (registered 2)\n"
     ]
    },
    {
     "name": "stdout",
     "output_type": "stream",
     "text": [
      "Minimum Validation Loss: 0.1903\n"
     ]
    },
    {
     "data": {
      "image/png": "[encoded data removed]",
      "text/plain": [
       "<Figure size 432x288 with 1 Axes>"
      ]
     },
     "metadata": {},
     "output_type": "display_data"
    }
   ],
   "source": [
    "model = keras.Sequential([\n",
    "    layers.Dense(1, input_shape=input_shape),\n",
    "])\n",
    "model.compile(\n",
    "    optimizer='adam',\n",
    "    loss='mae',\n",
    ")\n",
    "history = model.fit(\n",
    "    X_train, y_train,\n",
    "    validation_data=(X_valid, y_valid),\n",
    "    batch_size=512,\n",
    "    epochs=50,\n",
    "    verbose=0, # suppress output since we'll plot the curves\n",
    ")\n",
    "history_df = pd.DataFrame(history.history)\n",
    "history_df.loc[0:, ['loss', 'val_loss']].plot()\n",
    "print(\"Minimum Validation Loss: {:0.4f}\".format(history_df['val_loss'].min()));"
   ]
  },
  {
   "cell_type": "markdown",
   "id": "9417a5f9",
   "metadata": {
    "papermill": {
     "duration": 0.014867,
     "end_time": "2021-12-12T19:50:24.997267",
     "exception": false,
     "start_time": "2021-12-12T19:50:24.982400",
     "status": "completed"
    },
    "tags": []
   },
   "source": [
    "It's not uncommon for the curves to follow a \"hockey stick\" pattern like you see here. This makes the final part of training hard to see, so let's start at epoch 10 instead:"
   ]
  },
  {
   "cell_type": "code",
   "execution_count": 4,
   "id": "b643d7dd",
   "metadata": {
    "execution": {
     "iopub.execute_input": "2021-12-12T19:50:25.030109Z",
     "iopub.status.busy": "2021-12-12T19:50:25.029315Z",
     "iopub.status.idle": "2021-12-12T19:50:25.297581Z",
     "shell.execute_reply": "2021-12-12T19:50:25.297130Z",
     "shell.execute_reply.started": "2021-12-12T19:44:39.378905Z"
    },
    "papermill": {
     "duration": 0.285713,
     "end_time": "2021-12-12T19:50:25.297709",
     "exception": false,
     "start_time": "2021-12-12T19:50:25.011996",
     "status": "completed"
    },
    "tags": []
   },
   "outputs": [
    {
     "name": "stdout",
     "output_type": "stream",
     "text": [
      "Minimum Validation Loss: 0.1903\n"
     ]
    },
    {
     "data": {
      "image/png": "[encoded data removed]",
      "text/plain": [
       "<Figure size 432x288 with 1 Axes>"
      ]
     },
     "metadata": {},
     "output_type": "display_data"
    }
   ],
   "source": [
    "# Start the plot at epoch 10\n",
    "history_df.loc[10:, ['loss', 'val_loss']].plot()\n",
    "print(\"Minimum Validation Loss: {:0.4f}\".format(history_df['val_loss'].min()));"
   ]
  },
  {
   "cell_type": "markdown",
   "id": "f259ac49",
   "metadata": {
    "papermill": {
     "duration": 0.015716,
     "end_time": "2021-12-12T19:50:25.329764",
     "exception": false,
     "start_time": "2021-12-12T19:50:25.314048",
     "status": "completed"
    },
    "tags": []
   },
   "source": [
    "# 1) Evaluate Baseline\n",
    "\n",
    "What do you think? Would you say this model is underfitting, overfitting, just right?"
   ]
  },
  {
   "cell_type": "code",
   "execution_count": 5,
   "id": "b31a7380",
   "metadata": {
    "execution": {
     "iopub.execute_input": "2021-12-12T19:50:25.368704Z",
     "iopub.status.busy": "2021-12-12T19:50:25.367064Z",
     "iopub.status.idle": "2021-12-12T19:50:25.372200Z",
     "shell.execute_reply": "2021-12-12T19:50:25.372630Z",
     "shell.execute_reply.started": "2021-12-12T19:45:08.564795Z"
    },
    "papermill": {
     "duration": 0.026561,
     "end_time": "2021-12-12T19:50:25.372767",
     "exception": false,
     "start_time": "2021-12-12T19:50:25.346206",
     "status": "completed"
    },
    "tags": []
   },
   "outputs": [
    {
     "data": {
      "application/javascript": [
       "parent.postMessage({\"jupyterEvent\": \"custom.exercise_interaction\", \"data\": {\"outcomeType\": 1, \"valueTowardsCompletion\": 0.25, \"interactionType\": 1, \"questionType\": 4, \"questionId\": \"1_Q1\", \"learnToolsVersion\": \"0.3.4\", \"failureMessage\": \"\", \"exceptionClass\": \"\", \"trace\": \"\"}}, \"*\")"
      ],
      "text/plain": [
       "<IPython.core.display.Javascript object>"
      ]
     },
     "metadata": {},
     "output_type": "display_data"
    },
    {
     "data": {
      "text/markdown": [
       "<span style=\"color:#33cc33\">Correct:</span> \n",
       "\n",
       "The gap between these curves is quite small and the validation loss never increases, so it's more likely that the network is underfitting than overfitting. It would be worth experimenting with more capacity to see if that's the case."
      ],
      "text/plain": [
       "Correct: \n",
       "\n",
       "The gap between these curves is quite small and the validation loss never increases, so it's more likely that the network is underfitting than overfitting. It would be worth experimenting with more capacity to see if that's the case."
      ]
     },
     "metadata": {},
     "output_type": "display_data"
    }
   ],
   "source": [
    "# View the solution (Run this cell to receive credit!)\n",
    "q_1.check()"
   ]
  },
  {
   "cell_type": "markdown",
   "id": "a3197d1e",
   "metadata": {
    "papermill": {
     "duration": 0.016837,
     "end_time": "2021-12-12T19:50:25.407137",
     "exception": false,
     "start_time": "2021-12-12T19:50:25.390300",
     "status": "completed"
    },
    "tags": []
   },
   "source": [
    "Now let's add some capacity to our network. We'll add three hidden layers with 128 units each. Run the next cell to train the network and see the learning curves."
   ]
  },
  {
   "cell_type": "code",
   "execution_count": 6,
   "id": "5b2b8686",
   "metadata": {
    "execution": {
     "iopub.execute_input": "2021-12-12T19:50:25.450682Z",
     "iopub.status.busy": "2021-12-12T19:50:25.449865Z",
     "iopub.status.idle": "2021-12-12T19:50:33.873466Z",
     "shell.execute_reply": "2021-12-12T19:50:33.874137Z",
     "shell.execute_reply.started": "2021-12-12T19:45:34.697829Z"
    },
    "papermill": {
     "duration": 8.450327,
     "end_time": "2021-12-12T19:50:33.874296",
     "exception": false,
     "start_time": "2021-12-12T19:50:25.423969",
     "status": "completed"
    },
    "tags": []
   },
   "outputs": [
    {
     "name": "stdout",
     "output_type": "stream",
     "text": [
      "Epoch 1/50\n",
      "49/49 [==============================] - 0s 4ms/step - loss: 0.2386 - val_loss: 0.2034\n",
      "Epoch 2/50\n",
      "49/49 [==============================] - 0s 3ms/step - loss: 0.2038 - val_loss: 0.1967\n",
      "Epoch 3/50\n",
      "49/49 [==============================] - 0s 3ms/step - loss: 0.1990 - val_loss: 0.1945\n",
      "Epoch 4/50\n",
      "49/49 [==============================] - 0s 3ms/step - loss: 0.1955 - val_loss: 0.1954\n",
      "Epoch 5/50\n",
      "49/49 [==============================] - 0s 3ms/step - loss: 0.1933 - val_loss: 0.1920\n",
      "Epoch 6/50\n",
      "49/49 [==============================] - 0s 3ms/step - loss: 0.1914 - val_loss: 0.1920\n",
      "Epoch 7/50\n",
      "49/49 [==============================] - 0s 3ms/step - loss: 0.1903 - val_loss: 0.1912\n",
      "Epoch 8/50\n",
      "49/49 [==============================] - 0s 3ms/step - loss: 0.1886 - val_loss: 0.1909\n",
      "Epoch 9/50\n",
      "49/49 [==============================] - 0s 3ms/step - loss: 0.1880 - val_loss: 0.1915\n",
      "Epoch 10/50\n",
      "49/49 [==============================] - 0s 3ms/step - loss: 0.1869 - val_loss: 0.1922\n",
      "Epoch 11/50\n",
      "49/49 [==============================] - 0s 3ms/step - loss: 0.1860 - val_loss: 0.1915\n",
      "Epoch 12/50\n",
      "49/49 [==============================] - 0s 3ms/step - loss: 0.1851 - val_loss: 0.1912\n",
      "Epoch 13/50\n",
      "49/49 [==============================] - 0s 3ms/step - loss: 0.1849 - val_loss: 0.1950\n",
      "Epoch 14/50\n",
      "49/49 [==============================] - 0s 3ms/step - loss: 0.1835 - val_loss: 0.1912\n",
      "Epoch 15/50\n",
      "49/49 [==============================] - 0s 3ms/step - loss: 0.1829 - val_loss: 0.1919\n",
      "Epoch 16/50\n",
      "49/49 [==============================] - 0s 3ms/step - loss: 0.1821 - val_loss: 0.1923\n",
      "Epoch 17/50\n",
      "49/49 [==============================] - 0s 3ms/step - loss: 0.1814 - val_loss: 0.1915\n",
      "Epoch 18/50\n",
      "49/49 [==============================] - 0s 3ms/step - loss: 0.1822 - val_loss: 0.1947\n",
      "Epoch 19/50\n",
      "49/49 [==============================] - 0s 6ms/step - loss: 0.1806 - val_loss: 0.1922\n",
      "Epoch 20/50\n",
      "49/49 [==============================] - 0s 5ms/step - loss: 0.1799 - val_loss: 0.1922\n",
      "Epoch 21/50\n",
      "49/49 [==============================] - 0s 3ms/step - loss: 0.1794 - val_loss: 0.1927\n",
      "Epoch 22/50\n",
      "49/49 [==============================] - 0s 3ms/step - loss: 0.1791 - val_loss: 0.1932\n",
      "Epoch 23/50\n",
      "49/49 [==============================] - 0s 3ms/step - loss: 0.1777 - val_loss: 0.1933\n",
      "Epoch 24/50\n",
      "49/49 [==============================] - 0s 3ms/step - loss: 0.1773 - val_loss: 0.1924\n",
      "Epoch 25/50\n",
      "49/49 [==============================] - 0s 3ms/step - loss: 0.1769 - val_loss: 0.1918\n",
      "Epoch 26/50\n",
      "49/49 [==============================] - 0s 3ms/step - loss: 0.1771 - val_loss: 0.1929\n",
      "Epoch 27/50\n",
      "49/49 [==============================] - 0s 3ms/step - loss: 0.1759 - val_loss: 0.1935\n",
      "Epoch 28/50\n",
      "49/49 [==============================] - 0s 4ms/step - loss: 0.1762 - val_loss: 0.1961\n",
      "Epoch 29/50\n",
      "49/49 [==============================] - 0s 3ms/step - loss: 0.1754 - val_loss: 0.1931\n",
      "Epoch 30/50\n",
      "49/49 [==============================] - 0s 3ms/step - loss: 0.1748 - val_loss: 0.1965\n",
      "Epoch 31/50\n",
      "49/49 [==============================] - 0s 5ms/step - loss: 0.1749 - val_loss: 0.1933\n",
      "Epoch 32/50\n",
      "49/49 [==============================] - 0s 4ms/step - loss: 0.1734 - val_loss: 0.1958\n",
      "Epoch 33/50\n",
      "49/49 [==============================] - 0s 5ms/step - loss: 0.1736 - val_loss: 0.1951\n",
      "Epoch 34/50\n",
      "49/49 [==============================] - 0s 5ms/step - loss: 0.1732 - val_loss: 0.1953\n",
      "Epoch 35/50\n",
      "49/49 [==============================] - 0s 4ms/step - loss: 0.1719 - val_loss: 0.1948\n",
      "Epoch 36/50\n",
      "49/49 [==============================] - 0s 3ms/step - loss: 0.1718 - val_loss: 0.1957\n",
      "Epoch 37/50\n",
      "49/49 [==============================] - 0s 3ms/step - loss: 0.1709 - val_loss: 0.1960\n",
      "Epoch 38/50\n",
      "49/49 [==============================] - 0s 3ms/step - loss: 0.1716 - val_loss: 0.1963\n",
      "Epoch 39/50\n",
      "49/49 [==============================] - 0s 3ms/step - loss: 0.1706 - val_loss: 0.1966\n",
      "Epoch 40/50\n",
      "49/49 [==============================] - 0s 3ms/step - loss: 0.1695 - val_loss: 0.1974\n",
      "Epoch 41/50\n",
      "49/49 [==============================] - 0s 3ms/step - loss: 0.1701 - val_loss: 0.1964\n",
      "Epoch 42/50\n",
      "49/49 [==============================] - 0s 3ms/step - loss: 0.1694 - val_loss: 0.1963\n",
      "Epoch 43/50\n",
      "49/49 [==============================] - 0s 3ms/step - loss: 0.1687 - val_loss: 0.1987\n",
      "Epoch 44/50\n",
      "49/49 [==============================] - 0s 3ms/step - loss: 0.1688 - val_loss: 0.1970\n",
      "Epoch 45/50\n",
      "49/49 [==============================] - 0s 3ms/step - loss: 0.1679 - val_loss: 0.1976\n",
      "Epoch 46/50\n",
      "49/49 [==============================] - 0s 4ms/step - loss: 0.1672 - val_loss: 0.1972\n",
      "Epoch 47/50\n",
      "49/49 [==============================] - 0s 3ms/step - loss: 0.1671 - val_loss: 0.1973\n",
      "Epoch 48/50\n",
      "49/49 [==============================] - 0s 3ms/step - loss: 0.1677 - val_loss: 0.2015\n",
      "Epoch 49/50\n",
      "49/49 [==============================] - 0s 3ms/step - loss: 0.1682 - val_loss: 0.1978\n",
      "Epoch 50/50\n",
      "49/49 [==============================] - 0s 3ms/step - loss: 0.1668 - val_loss: 0.1993\n",
      "Minimum Validation Loss: 0.1909\n"
     ]
    },
    {
     "data": {
      "image/png": "[encoded data removed]",
      "text/plain": [
       "<Figure size 432x288 with 1 Axes>"
      ]
     },
     "metadata": {},
     "output_type": "display_data"
    }
   ],
   "source": [
    "model = keras.Sequential([\n",
    "    layers.Dense(128, activation='relu', input_shape=input_shape),\n",
    "    layers.Dense(64, activation='relu'),\n",
    "    layers.Dense(1)\n",
    "])\n",
    "model.compile(\n",
    "    optimizer='adam',\n",
    "    loss='mae',\n",
    ")\n",
    "history = model.fit(\n",
    "    X_train, y_train,\n",
    "    validation_data=(X_valid, y_valid),\n",
    "    batch_size=512,\n",
    "    epochs=50,\n",
    ")\n",
    "history_df = pd.DataFrame(history.history)\n",
    "history_df.loc[:, ['loss', 'val_loss']].plot()\n",
    "print(\"Minimum Validation Loss: {:0.4f}\".format(history_df['val_loss'].min()));"
   ]
  },
  {
   "cell_type": "markdown",
   "id": "07403abc",
   "metadata": {
    "papermill": {
     "duration": 0.061697,
     "end_time": "2021-12-12T19:50:34.000864",
     "exception": false,
     "start_time": "2021-12-12T19:50:33.939167",
     "status": "completed"
    },
    "tags": []
   },
   "source": [
    "# 2) Add Capacity\n",
    "\n",
    "What is your evaluation of these curves? Underfitting, overfitting, just right?"
   ]
  },
  {
   "cell_type": "code",
   "execution_count": 7,
   "id": "10412e32",
   "metadata": {
    "execution": {
     "iopub.execute_input": "2021-12-12T19:50:34.131946Z",
     "iopub.status.busy": "2021-12-12T19:50:34.130981Z",
     "iopub.status.idle": "2021-12-12T19:50:34.135711Z",
     "shell.execute_reply": "2021-12-12T19:50:34.136170Z",
     "shell.execute_reply.started": "2021-12-12T19:46:00.226060Z"
    },
    "papermill": {
     "duration": 0.073335,
     "end_time": "2021-12-12T19:50:34.136307",
     "exception": false,
     "start_time": "2021-12-12T19:50:34.062972",
     "status": "completed"
    },
    "tags": []
   },
   "outputs": [
    {
     "data": {
      "application/javascript": [
       "parent.postMessage({\"jupyterEvent\": \"custom.exercise_interaction\", \"data\": {\"outcomeType\": 1, \"valueTowardsCompletion\": 0.25, \"interactionType\": 1, \"questionType\": 4, \"questionId\": \"2_Q2\", \"learnToolsVersion\": \"0.3.4\", \"failureMessage\": \"\", \"exceptionClass\": \"\", \"trace\": \"\"}}, \"*\")"
      ],
      "text/plain": [
       "<IPython.core.display.Javascript object>"
      ]
     },
     "metadata": {},
     "output_type": "display_data"
    },
    {
     "data": {
      "text/markdown": [
       "<span style=\"color:#33cc33\">Correct:</span> \n",
       "\n",
       "Now the validation loss begins to rise very early, while the training loss continues to decrease. This indicates that the network has begun to overfit. At this point, we would need to try something to prevent it, either by reducing the number of units or through a method like early stopping. (We'll see another in the next lesson!)"
      ],
      "text/plain": [
       "Correct: \n",
       "\n",
       "Now the validation loss begins to rise very early, while the training loss continues to decrease. This indicates that the network has begun to overfit. At this point, we would need to try something to prevent it, either by reducing the number of units or through a method like early stopping. (We'll see another in the next lesson!)"
      ]
     },
     "metadata": {},
     "output_type": "display_data"
    }
   ],
   "source": [
    "# View the solution (Run this cell to receive credit!)\n",
    "q_2.check()"
   ]
  },
  {
   "cell_type": "markdown",
   "id": "7eaa3720",
   "metadata": {
    "papermill": {
     "duration": 0.061856,
     "end_time": "2021-12-12T19:50:34.262668",
     "exception": false,
     "start_time": "2021-12-12T19:50:34.200812",
     "status": "completed"
    },
    "tags": []
   },
   "source": [
    "# 3) Define Early Stopping Callback\n",
    "\n",
    "Now define an early stopping callback that waits 5 epochs (`patience'`) for a change in validation loss of at least `0.001` (`min_delta`) and keeps the weights with the best loss (`restore_best_weights`)."
   ]
  },
  {
   "cell_type": "code",
   "execution_count": 8,
   "id": "6a2a7039",
   "metadata": {
    "execution": {
     "iopub.execute_input": "2021-12-12T19:50:34.408012Z",
     "iopub.status.busy": "2021-12-12T19:50:34.407067Z",
     "iopub.status.idle": "2021-12-12T19:50:34.412424Z",
     "shell.execute_reply": "2021-12-12T19:50:34.412033Z",
     "shell.execute_reply.started": "2021-12-12T19:47:36.149973Z"
    },
    "lines_to_next_cell": 0,
    "papermill": {
     "duration": 0.087908,
     "end_time": "2021-12-12T19:50:34.412568",
     "exception": false,
     "start_time": "2021-12-12T19:50:34.324660",
     "status": "completed"
    },
    "tags": []
   },
   "outputs": [
    {
     "data": {
      "application/javascript": [
       "parent.postMessage({\"jupyterEvent\": \"custom.exercise_interaction\", \"data\": {\"outcomeType\": 1, \"valueTowardsCompletion\": 0.25, \"interactionType\": 1, \"questionType\": 2, \"questionId\": \"3_Q3\", \"learnToolsVersion\": \"0.3.4\", \"failureMessage\": \"\", \"exceptionClass\": \"\", \"trace\": \"\"}}, \"*\")"
      ],
      "text/plain": [
       "<IPython.core.display.Javascript object>"
      ]
     },
     "metadata": {},
     "output_type": "display_data"
    },
    {
     "data": {
      "text/markdown": [
       "<span style=\"color:#33cc33\">Correct</span>"
      ],
      "text/plain": [
       "Correct"
      ]
     },
     "metadata": {},
     "output_type": "display_data"
    }
   ],
   "source": [
    "from tensorflow.keras import callbacks\n",
    "\n",
    "# YOUR CODE HERE: define an early stopping callback\n",
    "early_stopping = callbacks.EarlyStopping(\n",
    "    min_delta = 0.001,\n",
    "    patience = 5,\n",
    "    restore_best_weights = True,\n",
    ")\n",
    "\n",
    "# Check your answer\n",
    "q_3.check()"
   ]
  },
  {
   "cell_type": "code",
   "execution_count": 9,
   "id": "98ced1fd",
   "metadata": {
    "execution": {
     "iopub.execute_input": "2021-12-12T19:50:34.542996Z",
     "iopub.status.busy": "2021-12-12T19:50:34.541383Z",
     "iopub.status.idle": "2021-12-12T19:50:34.544813Z",
     "shell.execute_reply": "2021-12-12T19:50:34.545192Z"
    },
    "papermill": {
     "duration": 0.069691,
     "end_time": "2021-12-12T19:50:34.545325",
     "exception": false,
     "start_time": "2021-12-12T19:50:34.475634",
     "status": "completed"
    },
    "tags": []
   },
   "outputs": [],
   "source": [
    "# Lines below will give you a hint or solution code\n",
    "#q_3.hint()\n",
    "#q_3.solution()"
   ]
  },
  {
   "cell_type": "markdown",
   "id": "0f9b43a0",
   "metadata": {
    "papermill": {
     "duration": 0.064004,
     "end_time": "2021-12-12T19:50:34.673319",
     "exception": false,
     "start_time": "2021-12-12T19:50:34.609315",
     "status": "completed"
    },
    "tags": []
   },
   "source": [
    "Now run this cell to train the model and get the learning curves. Notice the `callbacks` argument in `model.fit`."
   ]
  },
  {
   "cell_type": "code",
   "execution_count": 10,
   "id": "9066097b",
   "metadata": {
    "execution": {
     "iopub.execute_input": "2021-12-12T19:50:34.823526Z",
     "iopub.status.busy": "2021-12-12T19:50:34.822609Z",
     "iopub.status.idle": "2021-12-12T19:50:37.999415Z",
     "shell.execute_reply": "2021-12-12T19:50:37.999869Z",
     "shell.execute_reply.started": "2021-12-12T19:47:52.428702Z"
    },
    "papermill": {
     "duration": 3.259212,
     "end_time": "2021-12-12T19:50:38.000050",
     "exception": false,
     "start_time": "2021-12-12T19:50:34.740838",
     "status": "completed"
    },
    "tags": []
   },
   "outputs": [
    {
     "name": "stdout",
     "output_type": "stream",
     "text": [
      "Epoch 1/50\n",
      "49/49 [==============================] - 1s 5ms/step - loss: 0.2221 - val_loss: 0.1999\n",
      "Epoch 2/50\n",
      "49/49 [==============================] - 0s 3ms/step - loss: 0.2013 - val_loss: 0.1931\n",
      "Epoch 3/50\n",
      "49/49 [==============================] - 0s 3ms/step - loss: 0.1958 - val_loss: 0.1926\n",
      "Epoch 4/50\n",
      "49/49 [==============================] - 0s 3ms/step - loss: 0.1932 - val_loss: 0.1910\n",
      "Epoch 5/50\n",
      "49/49 [==============================] - 0s 3ms/step - loss: 0.1916 - val_loss: 0.1920\n",
      "Epoch 6/50\n",
      "49/49 [==============================] - 0s 3ms/step - loss: 0.1900 - val_loss: 0.1918\n",
      "Epoch 7/50\n",
      "49/49 [==============================] - 0s 3ms/step - loss: 0.1887 - val_loss: 0.1907\n",
      "Epoch 8/50\n",
      "49/49 [==============================] - 0s 3ms/step - loss: 0.1878 - val_loss: 0.1899\n",
      "Epoch 9/50\n",
      "49/49 [==============================] - 0s 3ms/step - loss: 0.1866 - val_loss: 0.1901\n",
      "Epoch 10/50\n",
      "49/49 [==============================] - 0s 3ms/step - loss: 0.1854 - val_loss: 0.1912\n",
      "Epoch 11/50\n",
      "49/49 [==============================] - 0s 3ms/step - loss: 0.1848 - val_loss: 0.1906\n",
      "Epoch 12/50\n",
      "49/49 [==============================] - 0s 3ms/step - loss: 0.1846 - val_loss: 0.1920\n",
      "Epoch 13/50\n",
      "49/49 [==============================] - 0s 3ms/step - loss: 0.1835 - val_loss: 0.1918\n",
      "Minimum Validation Loss: 0.1899\n"
     ]
    },
    {
     "data": {
      "image/png": "[encoded data removed]",
      "text/plain": [
       "<Figure size 432x288 with 1 Axes>"
      ]
     },
     "metadata": {},
     "output_type": "display_data"
    }
   ],
   "source": [
    "model = keras.Sequential([\n",
    "    layers.Dense(128, activation='relu', input_shape=input_shape),\n",
    "    layers.Dense(64, activation='relu'),    \n",
    "    layers.Dense(1)\n",
    "])\n",
    "model.compile(\n",
    "    optimizer='adam',\n",
    "    loss='mae',\n",
    ")\n",
    "history = model.fit(\n",
    "    X_train, y_train,\n",
    "    validation_data=(X_valid, y_valid),\n",
    "    batch_size=512,\n",
    "    epochs=50,\n",
    "    callbacks=[early_stopping]\n",
    ")\n",
    "history_df = pd.DataFrame(history.history)\n",
    "history_df.loc[:, ['loss', 'val_loss']].plot()\n",
    "print(\"Minimum Validation Loss: {:0.4f}\".format(history_df['val_loss'].min()));"
   ]
  },
  {
   "cell_type": "markdown",
   "id": "b4c74d98",
   "metadata": {
    "papermill": {
     "duration": 0.077032,
     "end_time": "2021-12-12T19:50:38.157096",
     "exception": false,
     "start_time": "2021-12-12T19:50:38.080064",
     "status": "completed"
    },
    "tags": []
   },
   "source": [
    "# 4) Train and Interpret\n",
    "\n",
    "Was this an improvement compared to training without early stopping?"
   ]
  },
  {
   "cell_type": "code",
   "execution_count": 11,
   "id": "544a73ed",
   "metadata": {
    "execution": {
     "iopub.execute_input": "2021-12-12T19:50:38.316002Z",
     "iopub.status.busy": "2021-12-12T19:50:38.313905Z",
     "iopub.status.idle": "2021-12-12T19:50:38.319892Z",
     "shell.execute_reply": "2021-12-12T19:50:38.319427Z",
     "shell.execute_reply.started": "2021-12-12T19:48:22.593793Z"
    },
    "papermill": {
     "duration": 0.086748,
     "end_time": "2021-12-12T19:50:38.320005",
     "exception": false,
     "start_time": "2021-12-12T19:50:38.233257",
     "status": "completed"
    },
    "tags": []
   },
   "outputs": [
    {
     "data": {
      "application/javascript": [
       "parent.postMessage({\"jupyterEvent\": \"custom.exercise_interaction\", \"data\": {\"outcomeType\": 1, \"valueTowardsCompletion\": 0.25, \"interactionType\": 1, \"questionType\": 4, \"questionId\": \"4_Q4\", \"learnToolsVersion\": \"0.3.4\", \"failureMessage\": \"\", \"exceptionClass\": \"\", \"trace\": \"\"}}, \"*\")"
      ],
      "text/plain": [
       "<IPython.core.display.Javascript object>"
      ]
     },
     "metadata": {},
     "output_type": "display_data"
    },
    {
     "data": {
      "text/markdown": [
       "<span style=\"color:#33cc33\">Correct:</span> \n",
       "\n",
       "The early stopping callback did stop the training once the network began overfitting. Moreover, by including `restore_best_weights` we still get to keep the model where validation loss was lowest."
      ],
      "text/plain": [
       "Correct: \n",
       "\n",
       "The early stopping callback did stop the training once the network began overfitting. Moreover, by including `restore_best_weights` we still get to keep the model where validation loss was lowest."
      ]
     },
     "metadata": {},
     "output_type": "display_data"
    }
   ],
   "source": [
    "# View the solution (Run this cell to receive credit!)\n",
    "q_4.check()"
   ]
  },
  {
   "cell_type": "markdown",
   "id": "d11ba473",
   "metadata": {
    "papermill": {
     "duration": 0.077751,
     "end_time": "2021-12-12T19:50:38.477539",
     "exception": false,
     "start_time": "2021-12-12T19:50:38.399788",
     "status": "completed"
    },
    "tags": []
   },
   "source": [
    "If you like, try experimenting with `patience` and `min_delta` to see what difference it might make.\n",
    "\n",
    "# Keep Going #\n",
    "\n",
    "Move on to [**learn about a couple of special layers**](https://www.kaggle.com/ryanholbrook/dropout-and-batch-normalization): batch normalization and dropout."
   ]
  },
  {
   "cell_type": "markdown",
   "id": "ef10a8c8",
   "metadata": {
    "papermill": {
     "duration": 0.077131,
     "end_time": "2021-12-12T19:50:38.632308",
     "exception": false,
     "start_time": "2021-12-12T19:50:38.555177",
     "status": "completed"
    },
    "tags": []
   },
   "source": [
    "---\n",
    "\n",
    "\n",
    "\n",
    "\n",
    "*Have questions or comments? Visit the [course discussion forum](https://www.kaggle.com/learn/intro-to-deep-learning/discussion) to chat with other learners.*"
   ]
  }
 ],
 "metadata": {
  "kernelspec": {
   "display_name": "Python 3",
   "language": "python",
   "name": "python3"
  },
  "language_info": {
   "codemirror_mode": {
    "name": "ipython",
    "version": 3
   },
   "file_extension": ".py",
   "mimetype": "text/x-python",
   "name": "python",
   "nbconvert_exporter": "python",
   "pygments_lexer": "ipython3",
   "version": "3.7.12"
  },
  "papermill": {
   "default_parameters": {},
   "duration": 45.572457,
   "end_time": "2021-12-12T19:50:42.419382",
   "environment_variables": {},
   "exception": null,
   "input_path": "__notebook__.ipynb",
   "output_path": "__notebook__.ipynb",
   "parameters": {},
   "start_time": "2021-12-12T19:49:56.846925",
   "version": "2.3.3"
  }
 },
 "nbformat": 4,
 "nbformat_minor": 5
}
