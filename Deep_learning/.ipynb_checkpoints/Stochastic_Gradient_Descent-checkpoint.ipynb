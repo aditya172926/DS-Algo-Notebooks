{
 "cells": [
  {
   "cell_type": "markdown",
   "id": "unlike-perry",
   "metadata": {},
   "source": [
    "# Introduction\n",
    "In the first 2 lessons, we learned how to build fully-connected networks out of stacks of dense layers. When first created, all of the network's weights are set randomly. The network doesn't know anything yet. Here we will see how to train a neural network and how neural networks learn.\n",
    "\n",
    "We first begin to set the training data. Each example in the training data consists of some features (the inputs) together with an expected target (output). training the network means adjusting its weights in such a way that it can transform the features into the target. The 80 cereals dataset for instance we want a network that takes each cereals sugar, fiber and protien content and produce a prediction for that cereals calories. If we can successfully train a network to do that, its weights must represent in some way the relationship between those features and that target as expressed in the training data.\n",
    "\n",
    "In addition to the training data, we need two more things:\n",
    "\n",
    "1. A <b>\"loss function\"</b>. that measures how good the network's predictions are.\n",
    "2. An <b>\"optimizer\"</b> that can tell the network how to change its weights.\n",
    "\n",
    "## Loss function\n",
    "We've seen how to design an architecture for a network, but we haven't seen how to tell a network what problem to solve. This is the job of the loss function."
   ]
  },
  {
   "cell_type": "code",
   "execution_count": null,
   "id": "loose-nirvana",
   "metadata": {},
   "outputs": [],
   "source": []
  }
 ],
 "metadata": {
  "kernelspec": {
   "display_name": "Python 3",
   "language": "python",
   "name": "python3"
  },
  "language_info": {
   "codemirror_mode": {
    "name": "ipython",
    "version": 3
   },
   "file_extension": ".py",
   "mimetype": "text/x-python",
   "name": "python",
   "nbconvert_exporter": "python",
   "pygments_lexer": "ipython3",
   "version": "3.8.6"
  }
 },
 "nbformat": 4,
 "nbformat_minor": 5
}
