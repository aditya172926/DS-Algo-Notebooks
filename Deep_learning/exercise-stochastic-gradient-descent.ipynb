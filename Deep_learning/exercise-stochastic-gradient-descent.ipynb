{
 "cells": [
  {
   "cell_type": "markdown",
   "metadata": {},
   "source": [
    "**This notebook is an exercise in the [Intro to Deep Learning](https://www.kaggle.com/learn/intro-to-deep-learning) course.  You can reference the tutorial at [this link](https://www.kaggle.com/ryanholbrook/stochastic-gradient-descent).**\n",
    "\n",
    "---\n"
   ]
  },
  {
   "cell_type": "markdown",
   "metadata": {},
   "source": [
    "# Introduction #\n",
    "\n",
    "In this exercise you'll train a neural network on the *Fuel Economy* dataset and then explore the effect of the learning rate and batch size on SGD.\n",
    "\n",
    "When you're ready, run this next cell to set everything up!"
   ]
  },
  {
   "cell_type": "code",
   "execution_count": 1,
   "metadata": {
    "execution": {
     "iopub.execute_input": "2021-12-12T19:12:39.233410Z",
     "iopub.status.busy": "2021-12-12T19:12:39.232843Z",
     "iopub.status.idle": "2021-12-12T19:12:44.428547Z",
     "shell.execute_reply": "2021-12-12T19:12:44.427736Z",
     "shell.execute_reply.started": "2021-12-12T19:12:39.233319Z"
    }
   },
   "outputs": [],
   "source": [
    "# Setup plotting\n",
    "import matplotlib.pyplot as plt\n",
    "from learntools.deep_learning_intro.dltools import animate_sgd\n",
    "plt.style.use('seaborn-whitegrid')\n",
    "# Set Matplotlib defaults\n",
    "plt.rc('figure', autolayout=True)\n",
    "plt.rc('axes', labelweight='bold', labelsize='large',\n",
    "       titleweight='bold', titlesize=18, titlepad=10)\n",
    "plt.rc('animation', html='html5')\n",
    "\n",
    "# Setup feedback system\n",
    "from learntools.core import binder\n",
    "binder.bind(globals())\n",
    "from learntools.deep_learning_intro.ex3 import *"
   ]
  },
  {
   "cell_type": "markdown",
   "metadata": {},
   "source": [
    "In the *Fuel Economy* dataset your task is to predict the fuel economy of an automobile given features like its type of engine or the year it was made. \n",
    "\n",
    "First load the dataset by running the cell below."
   ]
  },
  {
   "cell_type": "code",
   "execution_count": 2,
   "metadata": {
    "execution": {
     "iopub.execute_input": "2021-12-12T19:12:53.271463Z",
     "iopub.status.busy": "2021-12-12T19:12:53.270991Z",
     "iopub.status.idle": "2021-12-12T19:12:53.890309Z",
     "shell.execute_reply": "2021-12-12T19:12:53.889560Z",
     "shell.execute_reply.started": "2021-12-12T19:12:53.271423Z"
    }
   },
   "outputs": [],
   "source": [
    "import numpy as np\n",
    "import pandas as pd\n",
    "from sklearn.preprocessing import StandardScaler, OneHotEncoder\n",
    "from sklearn.compose import make_column_transformer, make_column_selector\n",
    "from sklearn.model_selection import train_test_split\n",
    "\n",
    "fuel = pd.read_csv('../input/dl-course-data/fuel.csv')\n",
    "\n",
    "X = fuel.copy()\n",
    "# Remove target\n",
    "y = X.pop('FE')\n",
    "\n",
    "preprocessor = make_column_transformer(\n",
    "    (StandardScaler(),\n",
    "     make_column_selector(dtype_include=np.number)),\n",
    "    (OneHotEncoder(sparse=False),\n",
    "     make_column_selector(dtype_include=object)),\n",
    ")\n",
    "\n",
    "X = preprocessor.fit_transform(X)\n",
    "y = np.log(y) # log transform target instead of standardizing\n",
    "\n",
    "input_shape = [X.shape[1]]\n",
    "print(\"Input shape: {}\".format(input_shape))"
   ]
  },
  {
   "cell_type": "markdown",
   "metadata": {},
   "source": [
    "Take a look at the data if you like. Our target in this case is the `'FE'` column and the remaining columns are the features."
   ]
  },
  {
   "cell_type": "code",
   "execution_count": 3,
   "metadata": {
    "execution": {
     "iopub.execute_input": "2021-12-12T19:13:10.368341Z",
     "iopub.status.busy": "2021-12-12T19:13:10.367833Z",
     "iopub.status.idle": "2021-12-12T19:13:10.403922Z",
     "shell.execute_reply": "2021-12-12T19:13:10.403067Z",
     "shell.execute_reply.started": "2021-12-12T19:13:10.368300Z"
    }
   },
   "outputs": [],
   "source": [
    "# Uncomment to see original data\n",
    "fuel.head()\n",
    "# Uncomment to see processed features\n",
    "pd.DataFrame(X[:10,:]).head()"
   ]
  },
  {
   "cell_type": "markdown",
   "metadata": {},
   "source": [
    "Run the next cell to define the network we'll use for this task."
   ]
  },
  {
   "cell_type": "code",
   "execution_count": 4,
   "metadata": {
    "execution": {
     "iopub.execute_input": "2021-12-12T19:14:17.537264Z",
     "iopub.status.busy": "2021-12-12T19:14:17.536710Z",
     "iopub.status.idle": "2021-12-12T19:14:19.905971Z",
     "shell.execute_reply": "2021-12-12T19:14:19.904297Z",
     "shell.execute_reply.started": "2021-12-12T19:14:17.537225Z"
    }
   },
   "outputs": [],
   "source": [
    "from tensorflow import keras\n",
    "from tensorflow.keras import layers\n",
    "\n",
    "model = keras.Sequential([\n",
    "    layers.Dense(128, activation='relu', input_shape=input_shape),\n",
    "    layers.Dense(128, activation='relu'),    \n",
    "    layers.Dense(64, activation='relu'),\n",
    "    layers.Dense(1),\n",
    "])"
   ]
  },
  {
   "cell_type": "markdown",
   "metadata": {},
   "source": [
    "# 1) Add Loss and Optimizer\n",
    "\n",
    "Before training the network we need to define the loss and optimizer we'll use. Using the model's `compile` method, add the Adam optimizer and MAE loss."
   ]
  },
  {
   "cell_type": "code",
   "execution_count": 5,
   "metadata": {
    "execution": {
     "iopub.execute_input": "2021-12-12T19:15:32.727792Z",
     "iopub.status.busy": "2021-12-12T19:15:32.726970Z",
     "iopub.status.idle": "2021-12-12T19:15:32.747485Z",
     "shell.execute_reply": "2021-12-12T19:15:32.746850Z",
     "shell.execute_reply.started": "2021-12-12T19:15:32.727739Z"
    },
    "lines_to_next_cell": 0
   },
   "outputs": [],
   "source": [
    "# YOUR CODE HERE\n",
    "model.compile(\n",
    "    optimizer = \"adam\",\n",
    "    loss = \"mae\"\n",
    ")\n",
    "\n",
    "# Check your answer\n",
    "q_1.check()"
   ]
  },
  {
   "cell_type": "code",
   "execution_count": null,
   "metadata": {},
   "outputs": [],
   "source": [
    "# Lines below will give you a hint or solution code\n",
    "#q_1.hint()\n",
    "#q_1.solution()"
   ]
  },
  {
   "cell_type": "markdown",
   "metadata": {},
   "source": [
    "# 2) Train Model\n",
    "\n",
    "Once you've defined the model and compiled it with a loss and optimizer you're ready for training. Train the network for 200 epochs with a batch size of 128. The input data is `X` with target `y`."
   ]
  },
  {
   "cell_type": "code",
   "execution_count": 7,
   "metadata": {
    "execution": {
     "iopub.execute_input": "2021-12-12T19:17:11.115162Z",
     "iopub.status.busy": "2021-12-12T19:17:11.114867Z",
     "iopub.status.idle": "2021-12-12T19:17:21.793798Z",
     "shell.execute_reply": "2021-12-12T19:17:21.793070Z",
     "shell.execute_reply.started": "2021-12-12T19:17:11.115116Z"
    },
    "lines_to_next_cell": 0
   },
   "outputs": [],
   "source": [
    "# YOUR CODE HERE\n",
    "history = model.fit(\n",
    "    X, y,\n",
    "    batch_size = 128,\n",
    "    epochs = 200\n",
    ")\n",
    "\n",
    "# Check your answer\n",
    "q_2.check()"
   ]
  },
  {
   "cell_type": "code",
   "execution_count": null,
   "metadata": {
    "lines_to_next_cell": 0
   },
   "outputs": [],
   "source": [
    "# Lines below will give you a hint or solution code\n",
    "#q_2.hint()\n",
    "#q_2.solution()"
   ]
  },
  {
   "cell_type": "markdown",
   "metadata": {},
   "source": [
    "The last step is to look at the loss curves and evaluate the training. Run the cell below to get a plot of the training loss."
   ]
  },
  {
   "cell_type": "code",
   "execution_count": 12,
   "metadata": {
    "execution": {
     "iopub.execute_input": "2021-12-12T19:18:18.667137Z",
     "iopub.status.busy": "2021-12-12T19:18:18.666881Z",
     "iopub.status.idle": "2021-12-12T19:18:18.949963Z",
     "shell.execute_reply": "2021-12-12T19:18:18.949278Z",
     "shell.execute_reply.started": "2021-12-12T19:18:18.667107Z"
    },
    "lines_to_next_cell": 0
   },
   "outputs": [],
   "source": [
    "import pandas as pd\n",
    "\n",
    "history_df = pd.DataFrame(history.history)\n",
    "# Start the plot at epoch 5. You can change this to get a different view.\n",
    "history_df.loc[5:, ['loss']].plot();"
   ]
  },
  {
   "cell_type": "markdown",
   "metadata": {},
   "source": [
    "# 3) Evaluate Training\n",
    "\n",
    "If you trained the model longer, would you expect the loss to decrease further?"
   ]
  },
  {
   "cell_type": "code",
   "execution_count": 13,
   "metadata": {
    "execution": {
     "iopub.execute_input": "2021-12-12T19:18:32.740717Z",
     "iopub.status.busy": "2021-12-12T19:18:32.740452Z",
     "iopub.status.idle": "2021-12-12T19:18:32.749032Z",
     "shell.execute_reply": "2021-12-12T19:18:32.748098Z",
     "shell.execute_reply.started": "2021-12-12T19:18:32.740689Z"
    },
    "lines_to_next_cell": 0
   },
   "outputs": [],
   "source": [
    "# View the solution (Run this cell to receive credit!)\n",
    "q_3.check()"
   ]
  },
  {
   "cell_type": "markdown",
   "metadata": {},
   "source": [
    "With the learning rate and the batch size, you have some control over:\n",
    "- How long it takes to train a model\n",
    "- How noisy the learning curves are\n",
    "- How small the loss becomes\n",
    "\n",
    "To get a better understanding of these two parameters, we'll look at the linear model, our ppsimplest neural network. Having only a single weight and a bias, it's easier to see what effect a change of parameter has.\n",
    "\n",
    "The next cell will generate an animation like the one in the tutorial. Change the values for `learning_rate`, `batch_size`, and `num_examples` (how many data points) and then run the cell. (It may take a moment or two.) Try the following combinations, or try some of your own:\n",
    "\n",
    "| `learning_rate` | `batch_size` | `num_examples` |\n",
    "|-----------------|--------------|----------------|\n",
    "| 0.05            | 32           | 256            |\n",
    "| 0.05            | 2            | 256            |\n",
    "| 0.05            | 128          | 256            |\n",
    "| 0.02            | 32           | 256            |\n",
    "| 0.2             | 32           | 256            |\n",
    "| 1.0             | 32           | 256            |\n",
    "| 0.9             | 4096         | 8192           |\n",
    "| 0.99            | 4096         | 8192           |"
   ]
  },
  {
   "cell_type": "code",
   "execution_count": 19,
   "metadata": {
    "execution": {
     "iopub.execute_input": "2021-12-12T19:24:19.964782Z",
     "iopub.status.busy": "2021-12-12T19:24:19.964050Z",
     "iopub.status.idle": "2021-12-12T19:24:33.628792Z",
     "shell.execute_reply": "2021-12-12T19:24:33.628033Z",
     "shell.execute_reply.started": "2021-12-12T19:24:19.964738Z"
    }
   },
   "outputs": [],
   "source": [
    "# YOUR CODE HERE: Experiment with different values for the learning rate, batch size, and number of examples\n",
    "learning_rate = 0.05\n",
    "batch_size = 32\n",
    "num_examples = 8192\n",
    "\n",
    "animate_sgd(\n",
    "    learning_rate=learning_rate,\n",
    "    batch_size=batch_size,\n",
    "    num_examples=num_examples,\n",
    "    # You can also change these, if you like\n",
    "    steps=50, # total training steps (batches seen)\n",
    "    true_w=3.0, # the slope of the data\n",
    "    true_b=2.0, # the bias of the data\n",
    ")"
   ]
  },
  {
   "cell_type": "markdown",
   "metadata": {},
   "source": [
    "# 4) Learning Rate and Batch Size\n",
    "\n",
    "What effect did changing these parameters have? After you've thought about it, run the cell below for some discussion."
   ]
  },
  {
   "cell_type": "code",
   "execution_count": 20,
   "metadata": {
    "execution": {
     "iopub.execute_input": "2021-12-12T19:24:50.569992Z",
     "iopub.status.busy": "2021-12-12T19:24:50.569234Z",
     "iopub.status.idle": "2021-12-12T19:24:50.577108Z",
     "shell.execute_reply": "2021-12-12T19:24:50.576216Z",
     "shell.execute_reply.started": "2021-12-12T19:24:50.569949Z"
    },
    "lines_to_next_cell": 0
   },
   "outputs": [],
   "source": [
    "# View the solution (Run this cell to receive credit!)\n",
    "q_4.check()"
   ]
  },
  {
   "cell_type": "markdown",
   "metadata": {},
   "source": [
    "# Keep Going #\n",
    "\n",
    "Learn how to [**improve your model's performance**](https://www.kaggle.com/ryanholbrook/overfitting-and-underfitting) by tuning capacity or adding an early stopping callback."
   ]
  },
  {
   "cell_type": "markdown",
   "metadata": {},
   "source": [
    "---\n",
    "\n",
    "\n",
    "\n",
    "\n",
    "*Have questions or comments? Visit the [course discussion forum](https://www.kaggle.com/learn/intro-to-deep-learning/discussion) to chat with other learners.*"
   ]
  }
 ],
 "metadata": {
  "jupytext": {
   "cell_metadata_filter": "-all",
   "formats": "ipynb"
  },
  "kernelspec": {
   "display_name": "Python 3",
   "language": "python",
   "name": "python3"
  },
  "language_info": {
   "codemirror_mode": {
    "name": "ipython",
    "version": 3
   },
   "file_extension": ".py",
   "mimetype": "text/x-python",
   "name": "python",
   "nbconvert_exporter": "python",
   "pygments_lexer": "ipython3",
   "version": "3.8.6"
  }
 },
 "nbformat": 4,
 "nbformat_minor": 4
}
