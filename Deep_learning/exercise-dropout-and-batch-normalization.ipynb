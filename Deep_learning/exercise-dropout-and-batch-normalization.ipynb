{
 "cells": [
  {
   "cell_type": "markdown",
   "id": "53018bff",
   "metadata": {
    "papermill": {
     "duration": 0.021816,
     "end_time": "2021-12-12T20:11:18.091181",
     "exception": false,
     "start_time": "2021-12-12T20:11:18.069365",
     "status": "completed"
    },
    "tags": []
   },
   "source": [
    "**This notebook is an exercise in the [Intro to Deep Learning](https://www.kaggle.com/learn/intro-to-deep-learning) course.  You can reference the tutorial at [this link](https://www.kaggle.com/ryanholbrook/dropout-and-batch-normalization).**\n",
    "\n",
    "---\n"
   ]
  },
  {
   "cell_type": "markdown",
   "id": "f528ec53",
   "metadata": {
    "papermill": {
     "duration": 0.022819,
     "end_time": "2021-12-12T20:11:18.137841",
     "exception": false,
     "start_time": "2021-12-12T20:11:18.115022",
     "status": "completed"
    },
    "tags": []
   },
   "source": [
    "# Introduction #\n",
    "\n",
    "In this exercise, you'll add dropout to the *Spotify* model from Exercise 4 and see how batch normalization can let you successfully train models on difficult datasets.\n",
    "\n",
    "Run the next cell to get started!"
   ]
  },
  {
   "cell_type": "code",
   "execution_count": 1,
   "id": "0fa5c412",
   "metadata": {
    "execution": {
     "iopub.execute_input": "2021-12-12T20:11:18.180172Z",
     "iopub.status.busy": "2021-12-12T20:11:18.179364Z",
     "iopub.status.idle": "2021-12-12T20:11:18.211610Z",
     "shell.execute_reply": "2021-12-12T20:11:18.210956Z",
     "shell.execute_reply.started": "2021-12-12T20:05:19.059904Z"
    },
    "papermill": {
     "duration": 0.059444,
     "end_time": "2021-12-12T20:11:18.211782",
     "exception": false,
     "start_time": "2021-12-12T20:11:18.152338",
     "status": "completed"
    },
    "tags": []
   },
   "outputs": [],
   "source": [
    "# Setup plotting\n",
    "import matplotlib.pyplot as plt\n",
    "plt.style.use('seaborn-whitegrid')\n",
    "# Set Matplotlib defaults\n",
    "plt.rc('figure', autolayout=True)\n",
    "plt.rc('axes', labelweight='bold', labelsize='large',\n",
    "       titleweight='bold', titlesize=18, titlepad=10)\n",
    "plt.rc('animation', html='html5')\n",
    "\n",
    "# Setup feedback system\n",
    "from learntools.core import binder\n",
    "binder.bind(globals())\n",
    "from learntools.deep_learning_intro.ex5 import *"
   ]
  },
  {
   "cell_type": "markdown",
   "id": "c2b0c5d5",
   "metadata": {
    "papermill": {
     "duration": 0.019542,
     "end_time": "2021-12-12T20:11:18.245994",
     "exception": false,
     "start_time": "2021-12-12T20:11:18.226452",
     "status": "completed"
    },
    "tags": []
   },
   "source": [
    "First load the *Spotify* dataset."
   ]
  },
  {
   "cell_type": "code",
   "execution_count": 2,
   "id": "ba13848f",
   "metadata": {
    "execution": {
     "iopub.execute_input": "2021-12-12T20:11:18.314482Z",
     "iopub.status.busy": "2021-12-12T20:11:18.313576Z",
     "iopub.status.idle": "2021-12-12T20:11:24.306101Z",
     "shell.execute_reply": "2021-12-12T20:11:24.306673Z",
     "shell.execute_reply.started": "2021-12-12T20:05:19.121906Z"
    },
    "papermill": {
     "duration": 6.03552,
     "end_time": "2021-12-12T20:11:24.306868",
     "exception": false,
     "start_time": "2021-12-12T20:11:18.271348",
     "status": "completed"
    },
    "tags": []
   },
   "outputs": [
    {
     "name": "stdout",
     "output_type": "stream",
     "text": [
      "Input shape: [18]\n"
     ]
    }
   ],
   "source": [
    "import pandas as pd\n",
    "from sklearn.preprocessing import StandardScaler, OneHotEncoder\n",
    "from sklearn.compose import make_column_transformer\n",
    "from sklearn.model_selection import GroupShuffleSplit\n",
    "\n",
    "from tensorflow import keras\n",
    "from tensorflow.keras import layers\n",
    "from tensorflow.keras import callbacks\n",
    "\n",
    "spotify = pd.read_csv('../input/dl-course-data/spotify.csv')\n",
    "\n",
    "X = spotify.copy().dropna()\n",
    "y = X.pop('track_popularity')\n",
    "artists = X['track_artist']\n",
    "\n",
    "features_num = ['danceability', 'energy', 'key', 'loudness', 'mode',\n",
    "                'speechiness', 'acousticness', 'instrumentalness',\n",
    "                'liveness', 'valence', 'tempo', 'duration_ms']\n",
    "features_cat = ['playlist_genre']\n",
    "\n",
    "preprocessor = make_column_transformer(\n",
    "    (StandardScaler(), features_num),\n",
    "    (OneHotEncoder(), features_cat),\n",
    ")\n",
    "\n",
    "def group_split(X, y, group, train_size=0.75):\n",
    "    splitter = GroupShuffleSplit(train_size=train_size)\n",
    "    train, test = next(splitter.split(X, y, groups=group))\n",
    "    return (X.iloc[train], X.iloc[test], y.iloc[train], y.iloc[test])\n",
    "\n",
    "X_train, X_valid, y_train, y_valid = group_split(X, y, artists)\n",
    "\n",
    "X_train = preprocessor.fit_transform(X_train)\n",
    "X_valid = preprocessor.transform(X_valid)\n",
    "y_train = y_train / 100\n",
    "y_valid = y_valid / 100\n",
    "\n",
    "input_shape = [X_train.shape[1]]\n",
    "print(\"Input shape: {}\".format(input_shape))"
   ]
  },
  {
   "cell_type": "markdown",
   "id": "d9d524a6",
   "metadata": {
    "papermill": {
     "duration": 0.015433,
     "end_time": "2021-12-12T20:11:24.337817",
     "exception": false,
     "start_time": "2021-12-12T20:11:24.322384",
     "status": "completed"
    },
    "tags": []
   },
   "source": [
    "# 1) Add Dropout to Spotify Model\n",
    "\n",
    "Here is the last model from Exercise 4. Add two dropout layers, one after the `Dense` layer with 128 units, and one after the `Dense` layer with 64 units. Set the dropout rate on both to `0.3`."
   ]
  },
  {
   "cell_type": "code",
   "execution_count": 3,
   "id": "4f418b87",
   "metadata": {
    "execution": {
     "iopub.execute_input": "2021-12-12T20:11:24.370493Z",
     "iopub.status.busy": "2021-12-12T20:11:24.369943Z",
     "iopub.status.idle": "2021-12-12T20:11:26.789337Z",
     "shell.execute_reply": "2021-12-12T20:11:26.788718Z",
     "shell.execute_reply.started": "2021-12-12T20:06:19.017762Z"
    },
    "lines_to_next_cell": 2,
    "papermill": {
     "duration": 2.437794,
     "end_time": "2021-12-12T20:11:26.789489",
     "exception": false,
     "start_time": "2021-12-12T20:11:24.351695",
     "status": "completed"
    },
    "tags": []
   },
   "outputs": [
    {
     "name": "stderr",
     "output_type": "stream",
     "text": [
      "2021-12-12 20:11:24.450829: I tensorflow/stream_executor/cuda/cuda_gpu_executor.cc:937] successful NUMA node read from SysFS had negative value (-1), but there must be at least one NUMA node, so returning NUMA node zero\n",
      "2021-12-12 20:11:24.554463: I tensorflow/stream_executor/cuda/cuda_gpu_executor.cc:937] successful NUMA node read from SysFS had negative value (-1), but there must be at least one NUMA node, so returning NUMA node zero\n",
      "2021-12-12 20:11:24.555226: I tensorflow/stream_executor/cuda/cuda_gpu_executor.cc:937] successful NUMA node read from SysFS had negative value (-1), but there must be at least one NUMA node, so returning NUMA node zero\n",
      "2021-12-12 20:11:24.556804: I tensorflow/core/platform/cpu_feature_guard.cc:142] This TensorFlow binary is optimized with oneAPI Deep Neural Network Library (oneDNN) to use the following CPU instructions in performance-critical operations:  AVX2 AVX512F FMA\n",
      "To enable them in other operations, rebuild TensorFlow with the appropriate compiler flags.\n",
      "2021-12-12 20:11:24.558030: I tensorflow/stream_executor/cuda/cuda_gpu_executor.cc:937] successful NUMA node read from SysFS had negative value (-1), but there must be at least one NUMA node, so returning NUMA node zero\n",
      "2021-12-12 20:11:24.558935: I tensorflow/stream_executor/cuda/cuda_gpu_executor.cc:937] successful NUMA node read from SysFS had negative value (-1), but there must be at least one NUMA node, so returning NUMA node zero\n",
      "2021-12-12 20:11:24.559946: I tensorflow/stream_executor/cuda/cuda_gpu_executor.cc:937] successful NUMA node read from SysFS had negative value (-1), but there must be at least one NUMA node, so returning NUMA node zero\n",
      "2021-12-12 20:11:26.404919: I tensorflow/stream_executor/cuda/cuda_gpu_executor.cc:937] successful NUMA node read from SysFS had negative value (-1), but there must be at least one NUMA node, so returning NUMA node zero\n",
      "2021-12-12 20:11:26.405974: I tensorflow/stream_executor/cuda/cuda_gpu_executor.cc:937] successful NUMA node read from SysFS had negative value (-1), but there must be at least one NUMA node, so returning NUMA node zero\n",
      "2021-12-12 20:11:26.406810: I tensorflow/stream_executor/cuda/cuda_gpu_executor.cc:937] successful NUMA node read from SysFS had negative value (-1), but there must be at least one NUMA node, so returning NUMA node zero\n",
      "2021-12-12 20:11:26.407532: I tensorflow/core/common_runtime/gpu/gpu_device.cc:1510] Created device /job:localhost/replica:0/task:0/device:GPU:0 with 15403 MB memory:  -> device: 0, name: Tesla P100-PCIE-16GB, pci bus id: 0000:00:04.0, compute capability: 6.0\n"
     ]
    },
    {
     "data": {
      "application/javascript": [
       "parent.postMessage({\"jupyterEvent\": \"custom.exercise_interaction\", \"data\": {\"outcomeType\": 1, \"valueTowardsCompletion\": 0.25, \"interactionType\": 1, \"questionType\": 2, \"questionId\": \"1_Q1\", \"learnToolsVersion\": \"0.3.4\", \"failureMessage\": \"\", \"exceptionClass\": \"\", \"trace\": \"\"}}, \"*\")"
      ],
      "text/plain": [
       "<IPython.core.display.Javascript object>"
      ]
     },
     "metadata": {},
     "output_type": "display_data"
    },
    {
     "data": {
      "text/markdown": [
       "<span style=\"color:#33cc33\">Correct</span>"
      ],
      "text/plain": [
       "Correct"
      ]
     },
     "metadata": {},
     "output_type": "display_data"
    }
   ],
   "source": [
    "# YOUR CODE HERE: Add two 30% dropout layers, one after 128 and one after 64\n",
    "model = keras.Sequential([\n",
    "    layers.Dense(128, activation='relu', input_shape=input_shape),\n",
    "    layers.Dropout(rate=0.3),\n",
    "    layers.Dense(64, activation='relu'),\n",
    "    layers.Dropout(rate=0.3),\n",
    "    layers.Dense(1)\n",
    "])\n",
    "\n",
    "# Check your answer\n",
    "q_1.check()"
   ]
  },
  {
   "cell_type": "code",
   "execution_count": 4,
   "id": "fe89d030",
   "metadata": {
    "execution": {
     "iopub.execute_input": "2021-12-12T20:11:26.825139Z",
     "iopub.status.busy": "2021-12-12T20:11:26.823387Z",
     "iopub.status.idle": "2021-12-12T20:11:26.827718Z",
     "shell.execute_reply": "2021-12-12T20:11:26.827261Z"
    },
    "papermill": {
     "duration": 0.022212,
     "end_time": "2021-12-12T20:11:26.827840",
     "exception": false,
     "start_time": "2021-12-12T20:11:26.805628",
     "status": "completed"
    },
    "tags": []
   },
   "outputs": [],
   "source": [
    "# Lines below will give you a hint or solution code\n",
    "#q_1.hint()\n",
    "#q_1.solution()"
   ]
  },
  {
   "cell_type": "markdown",
   "id": "d6d13ef1",
   "metadata": {
    "papermill": {
     "duration": 0.015599,
     "end_time": "2021-12-12T20:11:26.859132",
     "exception": false,
     "start_time": "2021-12-12T20:11:26.843533",
     "status": "completed"
    },
    "tags": []
   },
   "source": [
    "Now run this next cell to train the model see the effect of adding dropout."
   ]
  },
  {
   "cell_type": "code",
   "execution_count": 5,
   "id": "da2f64db",
   "metadata": {
    "execution": {
     "iopub.execute_input": "2021-12-12T20:11:26.896222Z",
     "iopub.status.busy": "2021-12-12T20:11:26.895319Z",
     "iopub.status.idle": "2021-12-12T20:11:37.887795Z",
     "shell.execute_reply": "2021-12-12T20:11:37.887332Z",
     "shell.execute_reply.started": "2021-12-12T20:06:35.891903Z"
    },
    "papermill": {
     "duration": 11.013592,
     "end_time": "2021-12-12T20:11:37.887931",
     "exception": false,
     "start_time": "2021-12-12T20:11:26.874339",
     "status": "completed"
    },
    "tags": []
   },
   "outputs": [
    {
     "name": "stderr",
     "output_type": "stream",
     "text": [
      "2021-12-12 20:11:26.967886: I tensorflow/compiler/mlir/mlir_graph_optimization_pass.cc:185] None of the MLIR Optimization Passes are enabled (registered 2)\n"
     ]
    },
    {
     "name": "stdout",
     "output_type": "stream",
     "text": [
      "Minimum Validation Loss: 0.1930\n"
     ]
    },
    {
     "data": {
      "image/png": "[encoded data removed]",
      "text/plain": [
       "<Figure size 432x288 with 1 Axes>"
      ]
     },
     "metadata": {},
     "output_type": "display_data"
    }
   ],
   "source": [
    "model.compile(\n",
    "    optimizer='adam',\n",
    "    loss='mae',\n",
    ")\n",
    "history = model.fit(\n",
    "    X_train, y_train,\n",
    "    validation_data=(X_valid, y_valid),\n",
    "    batch_size=512,\n",
    "    epochs=50,\n",
    "    verbose=0,\n",
    ")\n",
    "history_df = pd.DataFrame(history.history)\n",
    "history_df.loc[:, ['loss', 'val_loss']].plot()\n",
    "print(\"Minimum Validation Loss: {:0.4f}\".format(history_df['val_loss'].min()))"
   ]
  },
  {
   "cell_type": "markdown",
   "id": "0fb667d0",
   "metadata": {
    "papermill": {
     "duration": 0.016828,
     "end_time": "2021-12-12T20:11:37.921869",
     "exception": false,
     "start_time": "2021-12-12T20:11:37.905041",
     "status": "completed"
    },
    "tags": []
   },
   "source": [
    "# 2) Evaluate Dropout\n",
    "\n",
    "Recall from Exercise 4 that this model tended to overfit the data around epoch 5. Did adding dropout seem to help prevent overfitting this time?"
   ]
  },
  {
   "cell_type": "code",
   "execution_count": 6,
   "id": "45a9be60",
   "metadata": {
    "execution": {
     "iopub.execute_input": "2021-12-12T20:11:37.961573Z",
     "iopub.status.busy": "2021-12-12T20:11:37.959649Z",
     "iopub.status.idle": "2021-12-12T20:11:37.964974Z",
     "shell.execute_reply": "2021-12-12T20:11:37.965370Z",
     "shell.execute_reply.started": "2021-12-12T20:07:10.241045Z"
    },
    "papermill": {
     "duration": 0.026556,
     "end_time": "2021-12-12T20:11:37.965492",
     "exception": false,
     "start_time": "2021-12-12T20:11:37.938936",
     "status": "completed"
    },
    "tags": []
   },
   "outputs": [
    {
     "data": {
      "application/javascript": [
       "parent.postMessage({\"jupyterEvent\": \"custom.exercise_interaction\", \"data\": {\"outcomeType\": 1, \"valueTowardsCompletion\": 0.25, \"interactionType\": 1, \"questionType\": 4, \"questionId\": \"2_Q2\", \"learnToolsVersion\": \"0.3.4\", \"failureMessage\": \"\", \"exceptionClass\": \"\", \"trace\": \"\"}}, \"*\")"
      ],
      "text/plain": [
       "<IPython.core.display.Javascript object>"
      ]
     },
     "metadata": {},
     "output_type": "display_data"
    },
    {
     "data": {
      "text/markdown": [
       "<span style=\"color:#33cc33\">Correct:</span> \n",
       "\n",
       "\n",
       "From the learning curves, you can see that the validation loss remains near a constant minimum even though the training loss continues to decrease. So we can see that adding dropout did prevent overfitting this time. Moreover, by making it harder for the network to fit spurious patterns, dropout may have encouraged the network to seek out more of the true patterns, possibly improving the validation loss some as well).\n"
      ],
      "text/plain": [
       "Correct: \n",
       "\n",
       "\n",
       "From the learning curves, you can see that the validation loss remains near a constant minimum even though the training loss continues to decrease. So we can see that adding dropout did prevent overfitting this time. Moreover, by making it harder for the network to fit spurious patterns, dropout may have encouraged the network to seek out more of the true patterns, possibly improving the validation loss some as well)."
      ]
     },
     "metadata": {},
     "output_type": "display_data"
    }
   ],
   "source": [
    "# View the solution (Run this cell to receive credit!)\n",
    "q_2.check()"
   ]
  },
  {
   "cell_type": "markdown",
   "id": "ec57a755",
   "metadata": {
    "papermill": {
     "duration": 0.017967,
     "end_time": "2021-12-12T20:11:38.001174",
     "exception": false,
     "start_time": "2021-12-12T20:11:37.983207",
     "status": "completed"
    },
    "tags": []
   },
   "source": [
    "Now, we'll switch topics to explore how batch normalization can fix problems in training.\n",
    "\n",
    "Load the *Concrete* dataset. We won't do any standardization this time. This will make the effect of batch normalization much more apparent."
   ]
  },
  {
   "cell_type": "code",
   "execution_count": 7,
   "id": "a7d8e5b2",
   "metadata": {
    "execution": {
     "iopub.execute_input": "2021-12-12T20:11:38.043587Z",
     "iopub.status.busy": "2021-12-12T20:11:38.043074Z",
     "iopub.status.idle": "2021-12-12T20:11:38.059728Z",
     "shell.execute_reply": "2021-12-12T20:11:38.059275Z",
     "shell.execute_reply.started": "2021-12-12T20:07:48.999901Z"
    },
    "papermill": {
     "duration": 0.040439,
     "end_time": "2021-12-12T20:11:38.059856",
     "exception": false,
     "start_time": "2021-12-12T20:11:38.019417",
     "status": "completed"
    },
    "tags": []
   },
   "outputs": [],
   "source": [
    "import pandas as pd\n",
    "\n",
    "concrete = pd.read_csv('../input/dl-course-data/concrete.csv')\n",
    "df = concrete.copy()\n",
    "\n",
    "df_train = df.sample(frac=0.7, random_state=0)\n",
    "df_valid = df.drop(df_train.index)\n",
    "\n",
    "X_train = df_train.drop('CompressiveStrength', axis=1)\n",
    "X_valid = df_valid.drop('CompressiveStrength', axis=1)\n",
    "y_train = df_train['CompressiveStrength']\n",
    "y_valid = df_valid['CompressiveStrength']\n",
    "\n",
    "input_shape = [X_train.shape[1]]"
   ]
  },
  {
   "cell_type": "markdown",
   "id": "81b7cac9",
   "metadata": {
    "papermill": {
     "duration": 0.017912,
     "end_time": "2021-12-12T20:11:38.095830",
     "exception": false,
     "start_time": "2021-12-12T20:11:38.077918",
     "status": "completed"
    },
    "tags": []
   },
   "source": [
    "Run the following cell to train the network on the unstandardized *Concrete* data."
   ]
  },
  {
   "cell_type": "code",
   "execution_count": 8,
   "id": "86273387",
   "metadata": {
    "execution": {
     "iopub.execute_input": "2021-12-12T20:11:38.141651Z",
     "iopub.status.busy": "2021-12-12T20:11:38.141122Z",
     "iopub.status.idle": "2021-12-12T20:11:43.553270Z",
     "shell.execute_reply": "2021-12-12T20:11:43.552823Z",
     "shell.execute_reply.started": "2021-12-12T20:08:15.973388Z"
    },
    "papermill": {
     "duration": 5.439759,
     "end_time": "2021-12-12T20:11:43.553407",
     "exception": false,
     "start_time": "2021-12-12T20:11:38.113648",
     "status": "completed"
    },
    "tags": []
   },
   "outputs": [
    {
     "name": "stdout",
     "output_type": "stream",
     "text": [
      "Minimum Validation Loss: nan\n"
     ]
    },
    {
     "data": {
      "image/png": "[encoded data removed]",
      "text/plain": [
       "<Figure size 432x288 with 1 Axes>"
      ]
     },
     "metadata": {},
     "output_type": "display_data"
    }
   ],
   "source": [
    "model = keras.Sequential([\n",
    "    layers.Dense(512, activation='relu', input_shape=input_shape),\n",
    "    layers.Dense(512, activation='relu'),    \n",
    "    layers.Dense(512, activation='relu'),\n",
    "    layers.Dense(1),\n",
    "])\n",
    "model.compile(\n",
    "    optimizer='sgd', # SGD is more sensitive to differences of scale\n",
    "    loss='mae',\n",
    "    metrics=['mae'],\n",
    ")\n",
    "history = model.fit(\n",
    "    X_train, y_train,\n",
    "    validation_data=(X_valid, y_valid),\n",
    "    batch_size=64,\n",
    "    epochs=100,\n",
    "    verbose=0,\n",
    ")\n",
    "\n",
    "history_df = pd.DataFrame(history.history)\n",
    "history_df.loc[0:, ['loss', 'val_loss']].plot()\n",
    "print((\"Minimum Validation Loss: {:0.4f}\").format(history_df['val_loss'].min()))"
   ]
  },
  {
   "cell_type": "markdown",
   "id": "925008a4",
   "metadata": {
    "papermill": {
     "duration": 0.018513,
     "end_time": "2021-12-12T20:11:43.591666",
     "exception": false,
     "start_time": "2021-12-12T20:11:43.573153",
     "status": "completed"
    },
    "tags": []
   },
   "source": [
    "Did you end up with a blank graph? Trying to train this network on this dataset will usually fail. Even when it does converge (due to a lucky weight initialization), it tends to converge to a very large number.\n",
    "\n",
    "# 3) Add Batch Normalization Layers\n",
    "\n",
    "Batch normalization can help correct problems like this.\n",
    "\n",
    "Add four `BatchNormalization` layers, one before each of the dense layers. (Remember to move the `input_shape` argument to the new first layer.)"
   ]
  },
  {
   "cell_type": "code",
   "execution_count": 9,
   "id": "ecf1066a",
   "metadata": {
    "execution": {
     "iopub.execute_input": "2021-12-12T20:11:43.641597Z",
     "iopub.status.busy": "2021-12-12T20:11:43.640802Z",
     "iopub.status.idle": "2021-12-12T20:11:43.650538Z",
     "shell.execute_reply": "2021-12-12T20:11:43.650148Z",
     "shell.execute_reply.started": "2021-12-12T20:09:58.761068Z"
    },
    "lines_to_next_cell": 0,
    "papermill": {
     "duration": 0.040719,
     "end_time": "2021-12-12T20:11:43.650674",
     "exception": false,
     "start_time": "2021-12-12T20:11:43.609955",
     "status": "completed"
    },
    "tags": []
   },
   "outputs": [
    {
     "data": {
      "application/javascript": [
       "parent.postMessage({\"jupyterEvent\": \"custom.exercise_interaction\", \"data\": {\"outcomeType\": 1, \"valueTowardsCompletion\": 0.25, \"interactionType\": 1, \"questionType\": 2, \"questionId\": \"3_Q3\", \"learnToolsVersion\": \"0.3.4\", \"failureMessage\": \"\", \"exceptionClass\": \"\", \"trace\": \"\"}}, \"*\")"
      ],
      "text/plain": [
       "<IPython.core.display.Javascript object>"
      ]
     },
     "metadata": {},
     "output_type": "display_data"
    },
    {
     "data": {
      "text/markdown": [
       "<span style=\"color:#33cc33\">Correct</span>"
      ],
      "text/plain": [
       "Correct"
      ]
     },
     "metadata": {},
     "output_type": "display_data"
    }
   ],
   "source": [
    "# YOUR CODE HERE: Add a BatchNormalization layer before each Dense layer\n",
    "model = keras.Sequential([\n",
    "    layers.BatchNormalization(),\n",
    "    layers.Dense(512, activation='relu', input_shape=input_shape),\n",
    "    layers.BatchNormalization(),\n",
    "    layers.Dense(512, activation='relu'),\n",
    "    layers.BatchNormalization(),\n",
    "    layers.Dense(512, activation='relu'),\n",
    "    layers.BatchNormalization(),\n",
    "    layers.Dense(1),\n",
    "])\n",
    "\n",
    "# Check your answer\n",
    "q_3.check()"
   ]
  },
  {
   "cell_type": "code",
   "execution_count": 10,
   "id": "7dd403ef",
   "metadata": {
    "execution": {
     "iopub.execute_input": "2021-12-12T20:11:43.692671Z",
     "iopub.status.busy": "2021-12-12T20:11:43.691903Z",
     "iopub.status.idle": "2021-12-12T20:11:43.693910Z",
     "shell.execute_reply": "2021-12-12T20:11:43.694283Z"
    },
    "papermill": {
     "duration": 0.024462,
     "end_time": "2021-12-12T20:11:43.694403",
     "exception": false,
     "start_time": "2021-12-12T20:11:43.669941",
     "status": "completed"
    },
    "tags": []
   },
   "outputs": [],
   "source": [
    "# Lines below will give you a hint or solution code\n",
    "#q_3.hint()\n",
    "#q_3.solution()"
   ]
  },
  {
   "cell_type": "markdown",
   "id": "f1af8bcb",
   "metadata": {
    "papermill": {
     "duration": 0.019177,
     "end_time": "2021-12-12T20:11:43.732920",
     "exception": false,
     "start_time": "2021-12-12T20:11:43.713743",
     "status": "completed"
    },
    "tags": []
   },
   "source": [
    "Run the next cell to see if batch normalization will let us train the model."
   ]
  },
  {
   "cell_type": "code",
   "execution_count": 11,
   "id": "b78dd9fb",
   "metadata": {
    "execution": {
     "iopub.execute_input": "2021-12-12T20:11:43.779684Z",
     "iopub.status.busy": "2021-12-12T20:11:43.779118Z",
     "iopub.status.idle": "2021-12-12T20:11:51.966238Z",
     "shell.execute_reply": "2021-12-12T20:11:51.965460Z",
     "shell.execute_reply.started": "2021-12-12T20:10:15.116460Z"
    },
    "papermill": {
     "duration": 8.214171,
     "end_time": "2021-12-12T20:11:51.966363",
     "exception": false,
     "start_time": "2021-12-12T20:11:43.752192",
     "status": "completed"
    },
    "tags": []
   },
   "outputs": [
    {
     "name": "stdout",
     "output_type": "stream",
     "text": [
      "Minimum Validation Loss: 3.9500\n"
     ]
    },
    {
     "data": {
      "image/png": "[encoded data removed]",
      "text/plain": [
       "<Figure size 432x288 with 1 Axes>"
      ]
     },
     "metadata": {},
     "output_type": "display_data"
    }
   ],
   "source": [
    "model.compile(\n",
    "    optimizer='sgd',\n",
    "    loss='mae',\n",
    "    metrics=['mae'],\n",
    ")\n",
    "EPOCHS = 100\n",
    "history = model.fit(\n",
    "    X_train, y_train,\n",
    "    validation_data=(X_valid, y_valid),\n",
    "    batch_size=64,\n",
    "    epochs=EPOCHS,\n",
    "    verbose=0,\n",
    ")\n",
    "\n",
    "history_df = pd.DataFrame(history.history)\n",
    "history_df.loc[0:, ['loss', 'val_loss']].plot()\n",
    "print((\"Minimum Validation Loss: {:0.4f}\").format(history_df['val_loss'].min()))"
   ]
  },
  {
   "cell_type": "markdown",
   "id": "506869de",
   "metadata": {
    "papermill": {
     "duration": 0.021931,
     "end_time": "2021-12-12T20:11:52.010913",
     "exception": false,
     "start_time": "2021-12-12T20:11:51.988982",
     "status": "completed"
    },
    "tags": []
   },
   "source": [
    "# 4) Evaluate Batch Normalization\n",
    "\n",
    "Did adding batch normalization help?"
   ]
  },
  {
   "cell_type": "code",
   "execution_count": 12,
   "id": "9fbb3dcc",
   "metadata": {
    "execution": {
     "iopub.execute_input": "2021-12-12T20:11:52.060816Z",
     "iopub.status.busy": "2021-12-12T20:11:52.058978Z",
     "iopub.status.idle": "2021-12-12T20:11:52.065016Z",
     "shell.execute_reply": "2021-12-12T20:11:52.064494Z",
     "shell.execute_reply.started": "2021-12-12T20:10:36.632236Z"
    },
    "lines_to_next_cell": 0,
    "papermill": {
     "duration": 0.032219,
     "end_time": "2021-12-12T20:11:52.065134",
     "exception": false,
     "start_time": "2021-12-12T20:11:52.032915",
     "status": "completed"
    },
    "tags": []
   },
   "outputs": [
    {
     "data": {
      "application/javascript": [
       "parent.postMessage({\"jupyterEvent\": \"custom.exercise_interaction\", \"data\": {\"outcomeType\": 1, \"valueTowardsCompletion\": 0.25, \"interactionType\": 1, \"questionType\": 4, \"questionId\": \"4_Q4\", \"learnToolsVersion\": \"0.3.4\", \"failureMessage\": \"\", \"exceptionClass\": \"\", \"trace\": \"\"}}, \"*\")"
      ],
      "text/plain": [
       "<IPython.core.display.Javascript object>"
      ]
     },
     "metadata": {},
     "output_type": "display_data"
    },
    {
     "data": {
      "text/markdown": [
       "<span style=\"color:#33cc33\">Correct:</span> \n",
       "\n",
       "\n",
       "You can see that adding batch normalization was a big improvement on the first attempt! By adaptively scaling the data as it passes through the network, batch normalization can let you train models on difficult datasets.\n"
      ],
      "text/plain": [
       "Correct: \n",
       "\n",
       "\n",
       "You can see that adding batch normalization was a big improvement on the first attempt! By adaptively scaling the data as it passes through the network, batch normalization can let you train models on difficult datasets."
      ]
     },
     "metadata": {},
     "output_type": "display_data"
    }
   ],
   "source": [
    "# View the solution (Run this cell to receive credit!)\n",
    "q_4.check()"
   ]
  },
  {
   "cell_type": "markdown",
   "id": "03f33cf2",
   "metadata": {
    "papermill": {
     "duration": 0.021355,
     "end_time": "2021-12-12T20:11:52.108374",
     "exception": false,
     "start_time": "2021-12-12T20:11:52.087019",
     "status": "completed"
    },
    "tags": []
   },
   "source": [
    "# Keep Going #\n",
    "\n",
    "[**Create neural networks**](https://www.kaggle.com/ryanholbrook/binary-classification) for binary classification."
   ]
  },
  {
   "cell_type": "markdown",
   "id": "0e8c9f5d",
   "metadata": {
    "papermill": {
     "duration": 0.021552,
     "end_time": "2021-12-12T20:11:52.151470",
     "exception": false,
     "start_time": "2021-12-12T20:11:52.129918",
     "status": "completed"
    },
    "tags": []
   },
   "source": [
    "---\n",
    "\n",
    "\n",
    "\n",
    "\n",
    "*Have questions or comments? Visit the [course discussion forum](https://www.kaggle.com/learn/intro-to-deep-learning/discussion) to chat with other learners.*"
   ]
  }
 ],
 "metadata": {
  "kernelspec": {
   "display_name": "Python 3",
   "language": "python",
   "name": "python3"
  },
  "language_info": {
   "codemirror_mode": {
    "name": "ipython",
    "version": 3
   },
   "file_extension": ".py",
   "mimetype": "text/x-python",
   "name": "python",
   "nbconvert_exporter": "python",
   "pygments_lexer": "ipython3",
   "version": "3.7.12"
  },
  "papermill": {
   "default_parameters": {},
   "duration": 45.334559,
   "end_time": "2021-12-12T20:11:55.348798",
   "environment_variables": {},
   "exception": null,
   "input_path": "__notebook__.ipynb",
   "output_path": "__notebook__.ipynb",
   "parameters": {},
   "start_time": "2021-12-12T20:11:10.014239",
   "version": "2.3.3"
  }
 },
 "nbformat": 4,
 "nbformat_minor": 5
}
