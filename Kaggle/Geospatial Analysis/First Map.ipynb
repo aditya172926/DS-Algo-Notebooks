{
 "cells": [
  {
   "cell_type": "markdown",
   "id": "96584a66",
   "metadata": {},
   "source": [
    "# Inroduction\n",
    "Different methods to wrangle and visualize geospatial data or data with a geospatial location.<br>\n",
    "Some solutions to real world problems.<br>\n",
    "Like visualizing crime in a city, examine health facilities, explore top universities in Europe, track releases of toxic materials, etc.<br>\n",
    "## Reading data\n",
    "We'll use the GeoPandas"
   ]
  },
  {
   "cell_type": "code",
   "execution_count": 1,
   "id": "08260247",
   "metadata": {},
   "outputs": [],
   "source": [
    "import geopandas as gpd"
   ]
  },
  {
   "cell_type": "markdown",
   "id": "63a495ab",
   "metadata": {},
   "source": [
    "There are many different geospatial file formats such as shapefile, GeoJSON, KML, GPKG.<br>\n",
    "shapefile is the most common file type we will see and all of these files can be quickly loaded with the gpd.read_file().\n",
    "The next dataset we will use is the information about forests, wilderness areas and other lands under the care of Department of Environment Conservation int he state of New York."
   ]
  },
  {
   "cell_type": "code",
   "execution_count": 2,
   "id": "99a189fc",
   "metadata": {},
   "outputs": [],
   "source": [
    "full_data = gpd.read_file('../Datasets/DEC_lands/DEClands.shp')"
   ]
  },
  {
   "cell_type": "code",
   "execution_count": 4,
   "id": "9ae9099e",
   "metadata": {},
   "outputs": [
    {
     "data": {
      "text/html": [
       "<div>\n",
       "<style scoped>\n",
       "    .dataframe tbody tr th:only-of-type {\n",
       "        vertical-align: middle;\n",
       "    }\n",
       "\n",
       "    .dataframe tbody tr th {\n",
       "        vertical-align: top;\n",
       "    }\n",
       "\n",
       "    .dataframe thead th {\n",
       "        text-align: right;\n",
       "    }\n",
       "</style>\n",
       "<table border=\"1\" class=\"dataframe\">\n",
       "  <thead>\n",
       "    <tr style=\"text-align: right;\">\n",
       "      <th></th>\n",
       "      <th>OBJECTID</th>\n",
       "      <th>CATEGORY</th>\n",
       "      <th>UNIT</th>\n",
       "      <th>FACILITY</th>\n",
       "      <th>CLASS</th>\n",
       "      <th>UMP</th>\n",
       "      <th>DESCRIPTIO</th>\n",
       "      <th>REGION</th>\n",
       "      <th>COUNTY</th>\n",
       "      <th>URL</th>\n",
       "      <th>SOURCE</th>\n",
       "      <th>UPDATE_</th>\n",
       "      <th>OFFICE</th>\n",
       "      <th>ACRES</th>\n",
       "      <th>LANDS_UID</th>\n",
       "      <th>GREENCERT</th>\n",
       "      <th>UMPURL</th>\n",
       "      <th>SHAPE_AREA</th>\n",
       "      <th>SHAPE_LEN</th>\n",
       "      <th>geometry</th>\n",
       "    </tr>\n",
       "  </thead>\n",
       "  <tbody>\n",
       "    <tr>\n",
       "      <th>0</th>\n",
       "      <td>2743</td>\n",
       "      <td>FOREST PRESERVE</td>\n",
       "      <td>AFP</td>\n",
       "      <td>FULTON CHAIN WILD FOREST</td>\n",
       "      <td>WILD FOREST</td>\n",
       "      <td>FULTON CHAIN</td>\n",
       "      <td>None</td>\n",
       "      <td>6</td>\n",
       "      <td>HERKIMER</td>\n",
       "      <td>https://www.dec.ny.gov/lands/75305.html</td>\n",
       "      <td>DECRP</td>\n",
       "      <td>3/11</td>\n",
       "      <td>HERKIMER</td>\n",
       "      <td>739.361639</td>\n",
       "      <td>4239</td>\n",
       "      <td>N</td>\n",
       "      <td>http://www.dec.ny.gov/lands/51309.html</td>\n",
       "      <td>2.992090e+06</td>\n",
       "      <td>14445.172046</td>\n",
       "      <td>POLYGON ((502476.666 4842386.993, 502476.739 4...</td>\n",
       "    </tr>\n",
       "    <tr>\n",
       "      <th>1</th>\n",
       "      <td>2744</td>\n",
       "      <td>FOREST PRESERVE</td>\n",
       "      <td>AFP</td>\n",
       "      <td>FULTON CHAIN WILD FOREST</td>\n",
       "      <td>WILD FOREST</td>\n",
       "      <td>FULTON CHAIN</td>\n",
       "      <td>None</td>\n",
       "      <td>6</td>\n",
       "      <td>HERKIMER</td>\n",
       "      <td>https://www.dec.ny.gov/lands/75305.html</td>\n",
       "      <td>DECRP</td>\n",
       "      <td>11/08</td>\n",
       "      <td>HERKIMER</td>\n",
       "      <td>7.538903</td>\n",
       "      <td>3841</td>\n",
       "      <td>N</td>\n",
       "      <td>http://www.dec.ny.gov/lands/51309.html</td>\n",
       "      <td>3.050886e+04</td>\n",
       "      <td>870.836410</td>\n",
       "      <td>POLYGON ((502090.747 4840324.577, 502110.011 4...</td>\n",
       "    </tr>\n",
       "    <tr>\n",
       "      <th>2</th>\n",
       "      <td>2745</td>\n",
       "      <td>FOREST PRESERVE</td>\n",
       "      <td>AFP</td>\n",
       "      <td>INDEPENDENCE RIVER WILD FOREST</td>\n",
       "      <td>WILD FOREST</td>\n",
       "      <td>INDEPENDENCE RIVER</td>\n",
       "      <td>None</td>\n",
       "      <td>6</td>\n",
       "      <td>LEWIS</td>\n",
       "      <td>https://www.dec.ny.gov/lands/58192.html</td>\n",
       "      <td>DECRP</td>\n",
       "      <td>8/19</td>\n",
       "      <td>LOWVILLE</td>\n",
       "      <td>76519.233602</td>\n",
       "      <td>4253</td>\n",
       "      <td>N</td>\n",
       "      <td>https://www.dec.ny.gov/lands/22574.html</td>\n",
       "      <td>3.096624e+08</td>\n",
       "      <td>270633.583850</td>\n",
       "      <td>POLYGON ((508503.626 4864992.965, 509092.576 4...</td>\n",
       "    </tr>\n",
       "    <tr>\n",
       "      <th>3</th>\n",
       "      <td>2746</td>\n",
       "      <td>FOREST PRESERVE</td>\n",
       "      <td>AFP</td>\n",
       "      <td>INDEPENDENCE RIVER WILD FOREST</td>\n",
       "      <td>WILD FOREST</td>\n",
       "      <td>INDEPENDENCE RIVER</td>\n",
       "      <td>None</td>\n",
       "      <td>6</td>\n",
       "      <td>LEWIS</td>\n",
       "      <td>https://www.dec.ny.gov/lands/58192.html</td>\n",
       "      <td>DECRP</td>\n",
       "      <td>3/11</td>\n",
       "      <td>LOWVILLE</td>\n",
       "      <td>223.803334</td>\n",
       "      <td>4252</td>\n",
       "      <td>N</td>\n",
       "      <td>https://www.dec.ny.gov/lands/22574.html</td>\n",
       "      <td>9.057000e+05</td>\n",
       "      <td>5609.447134</td>\n",
       "      <td>POLYGON ((490114.810 4859403.501, 490142.561 4...</td>\n",
       "    </tr>\n",
       "    <tr>\n",
       "      <th>4</th>\n",
       "      <td>2747</td>\n",
       "      <td>FOREST PRESERVE</td>\n",
       "      <td>AFP</td>\n",
       "      <td>INDEPENDENCE RIVER WILD FOREST</td>\n",
       "      <td>WILD FOREST</td>\n",
       "      <td>INDEPENDENCE RIVER</td>\n",
       "      <td>None</td>\n",
       "      <td>6</td>\n",
       "      <td>LEWIS</td>\n",
       "      <td>https://www.dec.ny.gov/lands/58192.html</td>\n",
       "      <td>DECRP</td>\n",
       "      <td>3/11</td>\n",
       "      <td>LOWVILLE</td>\n",
       "      <td>114.466837</td>\n",
       "      <td>4019</td>\n",
       "      <td>N</td>\n",
       "      <td>https://www.dec.ny.gov/lands/22574.html</td>\n",
       "      <td>4.632309e+05</td>\n",
       "      <td>2723.724659</td>\n",
       "      <td>POLYGON ((481679.514 4853407.042, 481072.554 4...</td>\n",
       "    </tr>\n",
       "  </tbody>\n",
       "</table>\n",
       "</div>"
      ],
      "text/plain": [
       "   OBJECTID         CATEGORY UNIT                        FACILITY  \\\n",
       "0      2743  FOREST PRESERVE  AFP        FULTON CHAIN WILD FOREST   \n",
       "1      2744  FOREST PRESERVE  AFP        FULTON CHAIN WILD FOREST   \n",
       "2      2745  FOREST PRESERVE  AFP  INDEPENDENCE RIVER WILD FOREST   \n",
       "3      2746  FOREST PRESERVE  AFP  INDEPENDENCE RIVER WILD FOREST   \n",
       "4      2747  FOREST PRESERVE  AFP  INDEPENDENCE RIVER WILD FOREST   \n",
       "\n",
       "         CLASS                 UMP DESCRIPTIO  REGION    COUNTY  \\\n",
       "0  WILD FOREST        FULTON CHAIN       None       6  HERKIMER   \n",
       "1  WILD FOREST        FULTON CHAIN       None       6  HERKIMER   \n",
       "2  WILD FOREST  INDEPENDENCE RIVER       None       6     LEWIS   \n",
       "3  WILD FOREST  INDEPENDENCE RIVER       None       6     LEWIS   \n",
       "4  WILD FOREST  INDEPENDENCE RIVER       None       6     LEWIS   \n",
       "\n",
       "                                       URL SOURCE UPDATE_    OFFICE  \\\n",
       "0  https://www.dec.ny.gov/lands/75305.html  DECRP    3/11  HERKIMER   \n",
       "1  https://www.dec.ny.gov/lands/75305.html  DECRP   11/08  HERKIMER   \n",
       "2  https://www.dec.ny.gov/lands/58192.html  DECRP    8/19  LOWVILLE   \n",
       "3  https://www.dec.ny.gov/lands/58192.html  DECRP    3/11  LOWVILLE   \n",
       "4  https://www.dec.ny.gov/lands/58192.html  DECRP    3/11  LOWVILLE   \n",
       "\n",
       "          ACRES  LANDS_UID GREENCERT                                   UMPURL  \\\n",
       "0    739.361639       4239         N   http://www.dec.ny.gov/lands/51309.html   \n",
       "1      7.538903       3841         N   http://www.dec.ny.gov/lands/51309.html   \n",
       "2  76519.233602       4253         N  https://www.dec.ny.gov/lands/22574.html   \n",
       "3    223.803334       4252         N  https://www.dec.ny.gov/lands/22574.html   \n",
       "4    114.466837       4019         N  https://www.dec.ny.gov/lands/22574.html   \n",
       "\n",
       "     SHAPE_AREA      SHAPE_LEN  \\\n",
       "0  2.992090e+06   14445.172046   \n",
       "1  3.050886e+04     870.836410   \n",
       "2  3.096624e+08  270633.583850   \n",
       "3  9.057000e+05    5609.447134   \n",
       "4  4.632309e+05    2723.724659   \n",
       "\n",
       "                                            geometry  \n",
       "0  POLYGON ((502476.666 4842386.993, 502476.739 4...  \n",
       "1  POLYGON ((502090.747 4840324.577, 502110.011 4...  \n",
       "2  POLYGON ((508503.626 4864992.965, 509092.576 4...  \n",
       "3  POLYGON ((490114.810 4859403.501, 490142.561 4...  \n",
       "4  POLYGON ((481679.514 4853407.042, 481072.554 4...  "
      ]
     },
     "execution_count": 4,
     "metadata": {},
     "output_type": "execute_result"
    }
   ],
   "source": [
    "full_data.head()"
   ]
  },
  {
   "cell_type": "markdown",
   "id": "763abb0b",
   "metadata": {},
   "source": [
    "As you can see in the \"CLASS\" column, each of the first five rows corresponds to a different forest.\n",
    "\n",
    "For the rest of this tutorial, consider a scenario where you'd like to use this data to plan a weekend camping trip. Instead of relying on crowd-sourced reviews online, you decide to create your own map. This way, you can tailor the trip to your specific interests.\n",
    "\n"
   ]
  },
  {
   "cell_type": "code",
   "execution_count": 9,
   "id": "b2902fce",
   "metadata": {},
   "outputs": [
    {
     "name": "stdout",
     "output_type": "stream",
     "text": [
      "<class 'geopandas.geodataframe.GeoDataFrame'>\n",
      "(3004, 20)\n"
     ]
    }
   ],
   "source": [
    "print(type(full_data))\n",
    "print(full_data.shape)"
   ]
  },
  {
   "cell_type": "code",
   "execution_count": 10,
   "id": "421edff0",
   "metadata": {},
   "outputs": [],
   "source": [
    "data = full_data.loc[:, ['CLASS', 'COUNTY', 'geometry']].copy()"
   ]
  },
  {
   "cell_type": "code",
   "execution_count": 11,
   "id": "a6f4e423",
   "metadata": {},
   "outputs": [
    {
     "data": {
      "text/html": [
       "<div>\n",
       "<style scoped>\n",
       "    .dataframe tbody tr th:only-of-type {\n",
       "        vertical-align: middle;\n",
       "    }\n",
       "\n",
       "    .dataframe tbody tr th {\n",
       "        vertical-align: top;\n",
       "    }\n",
       "\n",
       "    .dataframe thead th {\n",
       "        text-align: right;\n",
       "    }\n",
       "</style>\n",
       "<table border=\"1\" class=\"dataframe\">\n",
       "  <thead>\n",
       "    <tr style=\"text-align: right;\">\n",
       "      <th></th>\n",
       "      <th>CLASS</th>\n",
       "      <th>COUNTY</th>\n",
       "      <th>geometry</th>\n",
       "    </tr>\n",
       "  </thead>\n",
       "  <tbody>\n",
       "    <tr>\n",
       "      <th>0</th>\n",
       "      <td>WILD FOREST</td>\n",
       "      <td>HERKIMER</td>\n",
       "      <td>POLYGON ((502476.666 4842386.993, 502476.739 4...</td>\n",
       "    </tr>\n",
       "    <tr>\n",
       "      <th>1</th>\n",
       "      <td>WILD FOREST</td>\n",
       "      <td>HERKIMER</td>\n",
       "      <td>POLYGON ((502090.747 4840324.577, 502110.011 4...</td>\n",
       "    </tr>\n",
       "    <tr>\n",
       "      <th>2</th>\n",
       "      <td>WILD FOREST</td>\n",
       "      <td>LEWIS</td>\n",
       "      <td>POLYGON ((508503.626 4864992.965, 509092.576 4...</td>\n",
       "    </tr>\n",
       "    <tr>\n",
       "      <th>3</th>\n",
       "      <td>WILD FOREST</td>\n",
       "      <td>LEWIS</td>\n",
       "      <td>POLYGON ((490114.810 4859403.501, 490142.561 4...</td>\n",
       "    </tr>\n",
       "    <tr>\n",
       "      <th>4</th>\n",
       "      <td>WILD FOREST</td>\n",
       "      <td>LEWIS</td>\n",
       "      <td>POLYGON ((481679.514 4853407.042, 481072.554 4...</td>\n",
       "    </tr>\n",
       "  </tbody>\n",
       "</table>\n",
       "</div>"
      ],
      "text/plain": [
       "         CLASS    COUNTY                                           geometry\n",
       "0  WILD FOREST  HERKIMER  POLYGON ((502476.666 4842386.993, 502476.739 4...\n",
       "1  WILD FOREST  HERKIMER  POLYGON ((502090.747 4840324.577, 502110.011 4...\n",
       "2  WILD FOREST     LEWIS  POLYGON ((508503.626 4864992.965, 509092.576 4...\n",
       "3  WILD FOREST     LEWIS  POLYGON ((490114.810 4859403.501, 490142.561 4...\n",
       "4  WILD FOREST     LEWIS  POLYGON ((481679.514 4853407.042, 481072.554 4..."
      ]
     },
     "execution_count": 11,
     "metadata": {},
     "output_type": "execute_result"
    }
   ],
   "source": [
    "data.head()"
   ]
  },
  {
   "cell_type": "markdown",
   "id": "9c275106",
   "metadata": {},
   "source": [
    "We use the value_counts() method to see a list of different types of land along with how many times they appear in the dataset."
   ]
  },
  {
   "cell_type": "code",
   "execution_count": 12,
   "id": "6188cd20",
   "metadata": {},
   "outputs": [
    {
     "data": {
      "text/plain": [
       "WILD FOREST                   963\n",
       "INTENSIVE USE                 107\n",
       "PRIMITIVE                      63\n",
       "WILDERNESS                     52\n",
       "UNCLASSIFIED                   13\n",
       "HISTORIC                        5\n",
       "PRIMITIVE BICYCLE CORRIDOR      4\n",
       "CANOE AREA                      1\n",
       "Name: CLASS, dtype: int64"
      ]
     },
     "execution_count": 12,
     "metadata": {},
     "output_type": "execute_result"
    }
   ],
   "source": [
    "data.CLASS.value_counts()"
   ]
  },
  {
   "cell_type": "code",
   "execution_count": 13,
   "id": "7f412219",
   "metadata": {},
   "outputs": [
    {
     "data": {
      "text/html": [
       "<div>\n",
       "<style scoped>\n",
       "    .dataframe tbody tr th:only-of-type {\n",
       "        vertical-align: middle;\n",
       "    }\n",
       "\n",
       "    .dataframe tbody tr th {\n",
       "        vertical-align: top;\n",
       "    }\n",
       "\n",
       "    .dataframe thead th {\n",
       "        text-align: right;\n",
       "    }\n",
       "</style>\n",
       "<table border=\"1\" class=\"dataframe\">\n",
       "  <thead>\n",
       "    <tr style=\"text-align: right;\">\n",
       "      <th></th>\n",
       "      <th>CLASS</th>\n",
       "      <th>COUNTY</th>\n",
       "      <th>geometry</th>\n",
       "    </tr>\n",
       "  </thead>\n",
       "  <tbody>\n",
       "    <tr>\n",
       "      <th>0</th>\n",
       "      <td>WILD FOREST</td>\n",
       "      <td>HERKIMER</td>\n",
       "      <td>POLYGON ((502476.666 4842386.993, 502476.739 4...</td>\n",
       "    </tr>\n",
       "    <tr>\n",
       "      <th>1</th>\n",
       "      <td>WILD FOREST</td>\n",
       "      <td>HERKIMER</td>\n",
       "      <td>POLYGON ((502090.747 4840324.577, 502110.011 4...</td>\n",
       "    </tr>\n",
       "    <tr>\n",
       "      <th>2</th>\n",
       "      <td>WILD FOREST</td>\n",
       "      <td>LEWIS</td>\n",
       "      <td>POLYGON ((508503.626 4864992.965, 509092.576 4...</td>\n",
       "    </tr>\n",
       "    <tr>\n",
       "      <th>3</th>\n",
       "      <td>WILD FOREST</td>\n",
       "      <td>LEWIS</td>\n",
       "      <td>POLYGON ((490114.810 4859403.501, 490142.561 4...</td>\n",
       "    </tr>\n",
       "    <tr>\n",
       "      <th>4</th>\n",
       "      <td>WILD FOREST</td>\n",
       "      <td>LEWIS</td>\n",
       "      <td>POLYGON ((481679.514 4853407.042, 481072.554 4...</td>\n",
       "    </tr>\n",
       "  </tbody>\n",
       "</table>\n",
       "</div>"
      ],
      "text/plain": [
       "         CLASS    COUNTY                                           geometry\n",
       "0  WILD FOREST  HERKIMER  POLYGON ((502476.666 4842386.993, 502476.739 4...\n",
       "1  WILD FOREST  HERKIMER  POLYGON ((502090.747 4840324.577, 502110.011 4...\n",
       "2  WILD FOREST     LEWIS  POLYGON ((508503.626 4864992.965, 509092.576 4...\n",
       "3  WILD FOREST     LEWIS  POLYGON ((490114.810 4859403.501, 490142.561 4...\n",
       "4  WILD FOREST     LEWIS  POLYGON ((481679.514 4853407.042, 481072.554 4..."
      ]
     },
     "execution_count": 13,
     "metadata": {},
     "output_type": "execute_result"
    }
   ],
   "source": [
    "# Select the lands that fall under the WILD FOREST or WILDNERNESS category\n",
    "\n",
    "wild_lands = data.loc[data.CLASS.isin(['WILD FOREST', 'WILDERNESS'])].copy()\n",
    "wild_lands.head()"
   ]
  },
  {
   "cell_type": "code",
   "execution_count": 16,
   "id": "b55621a2",
   "metadata": {},
   "outputs": [
    {
     "data": {
      "text/plain": [
       "HAMILTON        195\n",
       "ESSEX           154\n",
       "FRANKLIN        125\n",
       "ST. LAWRENCE    109\n",
       "WARREN           93\n",
       "ULSTER           68\n",
       "HERKIMER         55\n",
       "FULTON           43\n",
       "DELAWARE         32\n",
       "GREENE           31\n",
       "CLINTON          31\n",
       "SARATOGA         25\n",
       "WASHINGTON       16\n",
       "LEWIS            13\n",
       "ONEIDA           13\n",
       "SULLIVAN         12\n",
       "Name: COUNTY, dtype: int64"
      ]
     },
     "execution_count": 16,
     "metadata": {},
     "output_type": "execute_result"
    }
   ],
   "source": [
    "wild_lands.COUNTY.value_counts()"
   ]
  },
  {
   "cell_type": "markdown",
   "id": "52dc2d57",
   "metadata": {},
   "source": [
    "## Creating the first map\n",
    "Every GeoDataFrame contains a special geometry column. It contains all of the geometric objects that are displayed when we call the plot() method."
   ]
  },
  {
   "cell_type": "code",
   "execution_count": 17,
   "id": "20c01f5e",
   "metadata": {},
   "outputs": [
    {
     "data": {
      "text/plain": [
       "<AxesSubplot:>"
      ]
     },
     "execution_count": 17,
     "metadata": {},
     "output_type": "execute_result"
    },
    {
     "data": {
      "image/png": "[encoded data removed]",
      "text/plain": [
       "<Figure size 432x288 with 1 Axes>"
      ]
     },
     "metadata": {
      "needs_background": "light"
     },
     "output_type": "display_data"
    }
   ],
   "source": [
    "wild_lands.plot()"
   ]
  },
  {
   "cell_type": "code",
   "execution_count": 18,
   "id": "cd6e4c91",
   "metadata": {},
   "outputs": [
    {
     "data": {
      "text/plain": [
       "0    POLYGON ((502476.666 4842386.993, 502476.739 4...\n",
       "1    POLYGON ((502090.747 4840324.577, 502110.011 4...\n",
       "2    POLYGON ((508503.626 4864992.965, 509092.576 4...\n",
       "3    POLYGON ((490114.810 4859403.501, 490142.561 4...\n",
       "4    POLYGON ((481679.514 4853407.042, 481072.554 4...\n",
       "Name: geometry, dtype: geometry"
      ]
     },
     "execution_count": 18,
     "metadata": {},
     "output_type": "execute_result"
    }
   ],
   "source": [
    "wild_lands.geometry.head()"
   ]
  },
  {
   "cell_type": "markdown",
   "id": "bbb6f1c3",
   "metadata": {},
   "source": [
    "This column can contain a variety of different datatypes, each entry will typically be a point, LineString or a Polygon."
   ]
  },
  {
   "attachments": {
    "Screen%20Shot%202021-05-12%20at%2012.31.59%20PM.png": {
     "image/png": "[encoded data removed]"
    }
   },
   "cell_type": "markdown",
   "id": "ba97c748",
   "metadata": {},
   "source": [
    "![Screen%20Shot%202021-05-12%20at%2012.31.59%20PM.png](attachment:Screen%20Shot%202021-05-12%20at%2012.31.59%20PM.png)"
   ]
  },
  {
   "cell_type": "markdown",
   "id": "0182ffb2",
   "metadata": {},
   "source": [
    "The geometry column in our dataset contains 2983 different polygon objects, each corresponding to a different shape in the plot above. In the next code we create 3 more GeoDataFrames containing campsite locations (Point), foot trails (LineString) and county boundaries (polygons)"
   ]
  },
  {
   "cell_type": "code",
   "execution_count": 25,
   "id": "64c48d72",
   "metadata": {},
   "outputs": [
    {
     "data": {
      "text/html": [
       "<div>\n",
       "<style scoped>\n",
       "    .dataframe tbody tr th:only-of-type {\n",
       "        vertical-align: middle;\n",
       "    }\n",
       "\n",
       "    .dataframe tbody tr th {\n",
       "        vertical-align: top;\n",
       "    }\n",
       "\n",
       "    .dataframe thead th {\n",
       "        text-align: right;\n",
       "    }\n",
       "</style>\n",
       "<table border=\"1\" class=\"dataframe\">\n",
       "  <thead>\n",
       "    <tr style=\"text-align: right;\">\n",
       "      <th></th>\n",
       "      <th>geometry</th>\n",
       "    </tr>\n",
       "  </thead>\n",
       "  <tbody>\n",
       "    <tr>\n",
       "      <th>0</th>\n",
       "      <td>POINT (505138.696 4649388.247)</td>\n",
       "    </tr>\n",
       "    <tr>\n",
       "      <th>1</th>\n",
       "      <td>POINT (333481.874 4692737.800)</td>\n",
       "    </tr>\n",
       "    <tr>\n",
       "      <th>2</th>\n",
       "      <td>POINT (525210.784 4833837.295)</td>\n",
       "    </tr>\n",
       "    <tr>\n",
       "      <th>3</th>\n",
       "      <td>POINT (231909.125 4712818.500)</td>\n",
       "    </tr>\n",
       "    <tr>\n",
       "      <th>4</th>\n",
       "      <td>POINT (193656.734 4679632.500)</td>\n",
       "    </tr>\n",
       "  </tbody>\n",
       "</table>\n",
       "</div>"
      ],
      "text/plain": [
       "                         geometry\n",
       "0  POINT (505138.696 4649388.247)\n",
       "1  POINT (333481.874 4692737.800)\n",
       "2  POINT (525210.784 4833837.295)\n",
       "3  POINT (231909.125 4712818.500)\n",
       "4  POINT (193656.734 4679632.500)"
      ]
     },
     "execution_count": 25,
     "metadata": {},
     "output_type": "execute_result"
    }
   ],
   "source": [
    "POI_data = gpd.read_file('../Datasets/Decptsofinterest/Decptsofinterest.shp')\n",
    "POI_data.head()"
   ]
  },
  {
   "cell_type": "code",
   "execution_count": 27,
   "id": "3e3f8c57",
   "metadata": {},
   "outputs": [
    {
     "name": "stderr",
     "output_type": "stream",
     "text": [
      "/Library/Frameworks/Python.framework/Versions/3.9/lib/python3.9/site-packages/matplotlib/axes/_base.py:2744: RuntimeWarning: overflow encountered in double_scalars\n",
      "  x0, x1 = inverse_trans.transform([x0t - delta, x1t + delta])\n"
     ]
    },
    {
     "data": {
      "text/plain": [
       "<AxesSubplot:>"
      ]
     },
     "execution_count": 27,
     "metadata": {},
     "output_type": "execute_result"
    },
    {
     "data": {
      "image/png": "[encoded data removed]",
      "text/plain": [
       "<Figure size 432x288 with 1 Axes>"
      ]
     },
     "metadata": {
      "needs_background": "light"
     },
     "output_type": "display_data"
    }
   ],
   "source": [
    "POI_data.plot()"
   ]
  },
  {
   "cell_type": "code",
   "execution_count": null,
   "id": "e3815f72",
   "metadata": {},
   "outputs": [],
   "source": []
  }
 ],
 "metadata": {
  "kernelspec": {
   "display_name": "Python 3",
   "language": "python",
   "name": "python3"
  },
  "language_info": {
   "codemirror_mode": {
    "name": "ipython",
    "version": 3
   },
   "file_extension": ".py",
   "mimetype": "text/x-python",
   "name": "python",
   "nbconvert_exporter": "python",
   "pygments_lexer": "ipython3",
   "version": "3.9.4"
  }
 },
 "nbformat": 4,
 "nbformat_minor": 5
}
