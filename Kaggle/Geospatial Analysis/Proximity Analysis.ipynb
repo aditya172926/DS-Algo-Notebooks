{
 "cells": [
  {
   "cell_type": "markdown",
   "id": "7e230ec9",
   "metadata": {},
   "source": [
    "# Proximity Analysis\n",
    "We will explore several techniques of proximity analysis. In particular we will learn how to do such things as:<br>\n",
    "1) measure the distance between points on a map<br>\n",
    "2) select all points within some radius of a feature<br>\n",
    "\n",
    "This file is on my Kaggle"
   ]
  },
  {
   "cell_type": "code",
   "execution_count": null,
   "id": "dd5af1de",
   "metadata": {},
   "outputs": [],
   "source": []
  }
 ],
 "metadata": {
  "kernelspec": {
   "display_name": "Python 3",
   "language": "python",
   "name": "python3"
  },
  "language_info": {
   "codemirror_mode": {
    "name": "ipython",
    "version": 3
   },
   "file_extension": ".py",
   "mimetype": "text/x-python",
   "name": "python",
   "nbconvert_exporter": "python",
   "pygments_lexer": "ipython3",
   "version": "3.9.4"
  }
 },
 "nbformat": 4,
 "nbformat_minor": 5
}
