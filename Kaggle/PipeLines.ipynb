{
 "cells": [
  {
   "cell_type": "markdown",
   "id": "stretch-jacksonville",
   "metadata": {},
   "source": [
    "# Pipelines\n",
    "Pipelines are a simple way to keep my data preprocessing and modeling code organised. Specifically, a pipeline bundles preprocessing and modeling steps so we can usee the whole bundle as if it were a single step.<br>\n",
    "Benefits:<br>\n",
    "1. Cleaner Code: With a pipeline we won't need to manually keep track of your training and validation data at each step.<br>\n",
    "2. Fewer Bugs: There are fewer possibilities to misapply a step or forget a preprocessing step.<br>\n",
    "3. Easier to Productionize.<br>\n",
    "4. More options for model validation.<br>\n",
    "<br>\n"
   ]
  },
  {
   "cell_type": "code",
   "execution_count": null,
   "id": "short-minority",
   "metadata": {},
   "outputs": [],
   "source": []
  }
 ],
 "metadata": {
  "kernelspec": {
   "display_name": "Python 3",
   "language": "python",
   "name": "python3"
  },
  "language_info": {
   "codemirror_mode": {
    "name": "ipython",
    "version": 3
   },
   "file_extension": ".py",
   "mimetype": "text/x-python",
   "name": "python",
   "nbconvert_exporter": "python",
   "pygments_lexer": "ipython3",
   "version": "3.8.0"
  }
 },
 "nbformat": 4,
 "nbformat_minor": 5
}
