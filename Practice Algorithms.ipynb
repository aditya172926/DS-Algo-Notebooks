{
 "cells": [
  {
   "cell_type": "markdown",
   "id": "painful-desperate",
   "metadata": {},
   "source": [
    "# Bubble sort"
   ]
  },
  {
   "cell_type": "code",
   "execution_count": 2,
   "id": "continued-stone",
   "metadata": {},
   "outputs": [],
   "source": [
    "# To implement bubble sort in python\n",
    "data = [-4, 56, 78, 23, -2, 45, -7, -89, -45, 123, 6789, 4593, 2385, -7859, 12]"
   ]
  },
  {
   "cell_type": "code",
   "execution_count": 3,
   "id": "vulnerable-inspector",
   "metadata": {},
   "outputs": [
    {
     "name": "stdout",
     "output_type": "stream",
     "text": [
      "This is the given data [-4, 56, 78, 23, -2, 45, -7, -89, -45, 123, 6789, 4593, 2385, -7859, 12]\n",
      "\n",
      "\n",
      "This is the sorted data [-7859, -89, -45, -7, -4, -2, 12, 23, 45, 56, 78, 123, 2385, 4593, 6789]\n"
     ]
    }
   ],
   "source": [
    "def bubbleSort(data):\n",
    "    for i in range(len(data)):\n",
    "        for j in range(len(data)-i-1):\n",
    "            if data[j] > data[j+1]:\n",
    "                (data[j], data[j+1]) = (data[j+1], data[j])\n",
    "print('This is the given data', data)\n",
    "bubbleSort(data)\n",
    "print('\\n\\nThis is the sorted data', data)"
   ]
  },
  {
   "cell_type": "code",
   "execution_count": null,
   "id": "radio-wellington",
   "metadata": {},
   "outputs": [],
   "source": []
  }
 ],
 "metadata": {
  "kernelspec": {
   "display_name": "Python 3",
   "language": "python",
   "name": "python3"
  },
  "language_info": {
   "codemirror_mode": {
    "name": "ipython",
    "version": 3
   },
   "file_extension": ".py",
   "mimetype": "text/x-python",
   "name": "python",
   "nbconvert_exporter": "python",
   "pygments_lexer": "ipython3",
   "version": "3.8.6"
  }
 },
 "nbformat": 4,
 "nbformat_minor": 5
}
