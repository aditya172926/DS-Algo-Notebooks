{
 "cells": [
  {
   "cell_type": "code",
   "execution_count": 1,
   "metadata": {},
   "outputs": [],
   "source": [
    "from numpy import *\n",
    "a = array([\n",
    "    ['Mon', 18, 20, 19, 16],\n",
    "    ['Tue', 17, 21, 19, 17],\n",
    "    ['Wed', 15, 20, 16, 18],\n",
    "    ['Thu', 18, 22, 20, 19],\n",
    "    ['Fri', 16, 19, 16, 15],\n",
    "    ['Sat', 15, 21, 16, 14],\n",
    "    ['Sun', 17, 23, 16, 13]\n",
    "])"
   ]
  },
  {
   "cell_type": "code",
   "execution_count": 2,
   "metadata": {},
   "outputs": [
    {
     "data": {
      "text/plain": [
       "array([['Mon', '18', '20', '19', '16'],\n",
       "       ['Tue', '17', '21', '19', '17'],\n",
       "       ['Wed', '15', '20', '16', '18'],\n",
       "       ['Thu', '18', '22', '20', '19'],\n",
       "       ['Fri', '16', '19', '16', '15'],\n",
       "       ['Sat', '15', '21', '16', '14'],\n",
       "       ['Sun', '17', '23', '16', '13']], dtype='<U3')"
      ]
     },
     "execution_count": 2,
     "metadata": {},
     "output_type": "execute_result"
    }
   ],
   "source": [
    "a"
   ]
  },
  {
   "cell_type": "code",
   "execution_count": 3,
   "metadata": {},
   "outputs": [
    {
     "data": {
      "text/plain": [
       "array([['Mon', '18', '20', '19', '16'],\n",
       "       ['Tue', '17', '21', '19', '17'],\n",
       "       ['Wed', '15', '20', '16', '18'],\n",
       "       ['Thu', '18', '22', '20', '19'],\n",
       "       ['Fri', '16', '19', '16', '15'],\n",
       "       ['Sat', '15', '21', '16', '14'],\n",
       "       ['Sun', '17', '23', '16', '13']], dtype='<U3')"
      ]
     },
     "execution_count": 3,
     "metadata": {},
     "output_type": "execute_result"
    }
   ],
   "source": [
    "a.reshape(7, 5)"
   ]
  },
  {
   "cell_type": "code",
   "execution_count": 4,
   "metadata": {},
   "outputs": [
    {
     "name": "stdout",
     "output_type": "stream",
     "text": [
      "[['Mon' '18' '20' '19' '16']\n",
      " ['Tue' '17' '21' '19' '17']\n",
      " ['Wed' '15' '20' '16' '18']\n",
      " ['Thu' '18' '22' '20' '19']\n",
      " ['Fri' '16' '19' '16' '15']\n",
      " ['Sat' '15' '21' '16' '14']\n",
      " ['Sun' '17' '23' '16' '13']]\n"
     ]
    }
   ],
   "source": [
    "print(a)"
   ]
  },
  {
   "cell_type": "code",
   "execution_count": 6,
   "metadata": {},
   "outputs": [
    {
     "data": {
      "text/plain": [
       "array(['Wed', '15', '20', '16', '18'], dtype='<U3')"
      ]
     },
     "execution_count": 6,
     "metadata": {},
     "output_type": "execute_result"
    }
   ],
   "source": [
    "a[2]"
   ]
  },
  {
   "cell_type": "code",
   "execution_count": 7,
   "metadata": {},
   "outputs": [
    {
     "name": "stdout",
     "output_type": "stream",
     "text": [
      "['Wed' '15' '20' '16' '18']\n"
     ]
    }
   ],
   "source": [
    "print(a[2])"
   ]
  },
  {
   "cell_type": "code",
   "execution_count": 8,
   "metadata": {},
   "outputs": [
    {
     "name": "stdout",
     "output_type": "stream",
     "text": [
      "20\n"
     ]
    }
   ],
   "source": [
    "print(a[2][2])"
   ]
  },
  {
   "cell_type": "code",
   "execution_count": 11,
   "metadata": {},
   "outputs": [
    {
     "name": "stdout",
     "output_type": "stream",
     "text": [
      "[['Mon' '18' '20' '19' '16']\n",
      " ['Tue' '17' '21' '19' '17']\n",
      " ['Wed' '15' '20' '16' '18']\n",
      " ['Thu' '18' '22' '20' '19']\n",
      " ['Fri' '16' '19' '16' '15']\n",
      " ['Sat' '15' '21' '16' '14']\n",
      " ['Sun' '17' '23' '16' '13']\n",
      " ['Avg' '17' '20' '16' '15']]\n"
     ]
    }
   ],
   "source": [
    "# Adding a row\n",
    "a_r = append(a,[['Avg', 17, 20, 16, 15]], 0)\n",
    "print(a_r)"
   ]
  },
  {
   "cell_type": "code",
   "execution_count": 15,
   "metadata": {},
   "outputs": [
    {
     "name": "stdout",
     "output_type": "stream",
     "text": [
      "[['Mon' '18' '20' '19' '16' '14' '15' '14' '16' '17' '13' '14' '15']\n",
      " ['Tue' '17' '21' '19' '17' '14' '15' '14' '16' '17' '13' '14' '15']\n",
      " ['Wed' '15' '20' '16' '18' '14' '15' '14' '16' '17' '13' '14' '15']\n",
      " ['Thu' '18' '22' '20' '19' '14' '15' '14' '16' '17' '13' '14' '15']\n",
      " ['Fri' '16' '19' '16' '15' '14' '15' '14' '16' '17' '13' '14' '15']\n",
      " ['Sat' '15' '21' '16' '14' '14' '15' '14' '16' '17' '13' '14' '15']\n",
      " ['Sun' '17' '23' '16' '13' '14' '15' '14' '16' '17' '13' '14' '15']]\n"
     ]
    }
   ],
   "source": [
    "# Adding a column\n",
    "a_c = insert(a, [5], [[14, 15, 14, 16, 17, 13, 14, 15]], 1)\n",
    "print(a_c)"
   ]
  },
  {
   "cell_type": "code",
   "execution_count": 19,
   "metadata": {},
   "outputs": [],
   "source": [
    "a_c = delete(a_c, [5, 9], 1)"
   ]
  },
  {
   "cell_type": "code",
   "execution_count": 20,
   "metadata": {},
   "outputs": [
    {
     "name": "stdout",
     "output_type": "stream",
     "text": [
      "[['Mon' '18' '20' '19' '16' '14' '16' '17' '14' '15']\n",
      " ['Tue' '17' '21' '19' '17' '14' '16' '17' '14' '15']\n",
      " ['Wed' '15' '20' '16' '18' '14' '16' '17' '14' '15']\n",
      " ['Thu' '18' '22' '20' '19' '14' '16' '17' '14' '15']\n",
      " ['Fri' '16' '19' '16' '15' '14' '16' '17' '14' '15']\n",
      " ['Sat' '15' '21' '16' '14' '14' '16' '17' '14' '15']\n",
      " ['Sun' '17' '23' '16' '13' '14' '16' '17' '14' '15']]\n"
     ]
    }
   ],
   "source": [
    "print(a_c)"
   ]
  },
  {
   "cell_type": "code",
   "execution_count": 21,
   "metadata": {},
   "outputs": [
    {
     "name": "stdout",
     "output_type": "stream",
     "text": [
      "[['Mon' '18' '20' '19' '16']\n",
      " ['Tue' '17' '21' '19' '17']\n",
      " ['Wed' '15' '20' '16' '18']\n",
      " ['Thu' '18' '22' '20' '19']\n",
      " ['Fri' '16' '19' '16' '15']\n",
      " ['Sat' '15' '21' '16' '14']\n",
      " ['Sun' '17' '23' '16' '13']]\n"
     ]
    }
   ],
   "source": [
    "a_c = delete(a_c, [5, 6, 7, 8, 9], 1)\n",
    "print(a_c)"
   ]
  },
  {
   "cell_type": "code",
   "execution_count": 23,
   "metadata": {},
   "outputs": [
    {
     "name": "stdout",
     "output_type": "stream",
     "text": [
      "[['Mon' '18' '20' '19' '16']\n",
      " ['Tue' '17' '21' '19' '17']\n",
      " ['Wed' '15' '20' '16' '18']\n",
      " ['Thu' '18' '22' '20' '19']\n",
      " ['Fri' '16' '19' '16' '15']\n",
      " ['Sat' '15' '21' '16' '14']]\n"
     ]
    }
   ],
   "source": [
    "a_c = delete(a_c, [6], 0)\n",
    "print(a_c)"
   ]
  },
  {
   "cell_type": "code",
   "execution_count": 24,
   "metadata": {},
   "outputs": [
    {
     "name": "stdout",
     "output_type": "stream",
     "text": [
      "[['Mon' '18' '20' '19' '16']\n",
      " ['Tue' '17' '21' '19' '17']\n",
      " ['Wed' '15' '20' '16' '18']\n",
      " ['Thu' '18' '22' '20' '19']\n",
      " ['Fri' '16' '19' '16' '15']\n",
      " ['Sat' '15' '21' '16' '14']\n",
      " ['Sun' '17' '23' '16' '13']]\n"
     ]
    }
   ],
   "source": [
    "a_c = append(a_c, [['Sun', 17, 23, 16, 13]], 0)\n",
    "print(a_c)"
   ]
  },
  {
   "cell_type": "code",
   "execution_count": 25,
   "metadata": {},
   "outputs": [
    {
     "name": "stdout",
     "output_type": "stream",
     "text": [
      "[['Mon' '18' '20' '19' '16' '1']\n",
      " ['Tue' '17' '21' '19' '17' '2']\n",
      " ['Wed' '15' '20' '16' '18' '3']\n",
      " ['Thu' '18' '22' '20' '19' '4']\n",
      " ['Fri' '16' '19' '16' '15' '5']\n",
      " ['Sat' '15' '21' '16' '14' '6']\n",
      " ['Sun' '17' '23' '16' '13' '7']]\n"
     ]
    }
   ],
   "source": [
    "a_c = insert(a_c, [5], [[1], [2], [3], [4], [5], [6], [7]], 1)\n",
    "print(a_c)"
   ]
  },
  {
   "cell_type": "code",
   "execution_count": 26,
   "metadata": {},
   "outputs": [
    {
     "name": "stdout",
     "output_type": "stream",
     "text": [
      "[['Mon' '18' '20' '19' '16' '1']\n",
      " ['Tue' '17' '21' '19' '17' '2']\n",
      " ['Wed' '15' '20' '16' '18' '3']\n",
      " ['Thu' '17' '21' '20' '19' '5']\n",
      " ['Fri' '16' '19' '16' '15' '5']\n",
      " ['Sat' '15' '21' '16' '14' '6']\n",
      " ['Sun' '17' '23' '16' '13' '7']]\n"
     ]
    }
   ],
   "source": [
    "a_c[3] = ['Thu', 17, 21, 20, 19, 5]\n",
    "print(a_c)"
   ]
  },
  {
   "cell_type": "code",
   "execution_count": 27,
   "metadata": {},
   "outputs": [
    {
     "name": "stdout",
     "output_type": "stream",
     "text": [
      "{'Wed', 'Fri', 'Tue', 'Mon', 'Sat', 'Sun', 'Thu'} {'Feb', 'Mar', 'Jan'} {20, 21, 22}\n"
     ]
    }
   ],
   "source": [
    "# Sets\n",
    "Days = set(['Mon', 'Tue', 'Wed', 'Thu', 'Fri', 'Sat', 'Sun'])\n",
    "Months = {'Jan', 'Feb', 'Mar'}\n",
    "Year = {20, 21, 22}\n",
    "print(Days, Months, Year)"
   ]
  },
  {
   "cell_type": "code",
   "execution_count": 28,
   "metadata": {},
   "outputs": [
    {
     "data": {
      "text/plain": [
       "{20, 21, 22}"
      ]
     },
     "execution_count": 28,
     "metadata": {},
     "output_type": "execute_result"
    }
   ],
   "source": [
    "Days\n",
    "Months\n",
    "Year"
   ]
  },
  {
   "cell_type": "code",
   "execution_count": 31,
   "metadata": {},
   "outputs": [
    {
     "ename": "AttributeError",
     "evalue": "'set' object has no attribute 'type'",
     "output_type": "error",
     "traceback": [
      "\u001b[1;31m---------------------------------------------------------------------------\u001b[0m",
      "\u001b[1;31mAttributeError\u001b[0m                            Traceback (most recent call last)",
      "\u001b[1;32m<ipython-input-31-ffc3e110cd4e>\u001b[0m in \u001b[0;36m<module>\u001b[1;34m\u001b[0m\n\u001b[1;32m----> 1\u001b[1;33m \u001b[0mprint\u001b[0m\u001b[1;33m(\u001b[0m\u001b[0mDays\u001b[0m\u001b[1;33m.\u001b[0m\u001b[0mtype\u001b[0m\u001b[1;33m)\u001b[0m\u001b[1;33m\u001b[0m\u001b[1;33m\u001b[0m\u001b[0m\n\u001b[0m",
      "\u001b[1;31mAttributeError\u001b[0m: 'set' object has no attribute 'type'"
     ]
    }
   ],
   "source": [
    "print(Days.type)"
   ]
  },
  {
   "cell_type": "code",
   "execution_count": 32,
   "metadata": {},
   "outputs": [
    {
     "name": "stdout",
     "output_type": "stream",
     "text": [
      "{'Wed', 'Fri', 'Tue', 'Mon', 'Sat', 'Sun', 'Thu'}\n"
     ]
    }
   ],
   "source": [
    "Days2 = {'Wed', 'Fri', 'Tue', 'Mon', 'Sat', 'Sun', 'Thu', 'Thu'}\n",
    "print(Days2)"
   ]
  },
  {
   "cell_type": "code",
   "execution_count": 33,
   "metadata": {},
   "outputs": [
    {
     "name": "stdout",
     "output_type": "stream",
     "text": [
      "Wed\n",
      "Fri\n",
      "Tue\n",
      "Mon\n",
      "Sat\n",
      "Sun\n",
      "Thu\n"
     ]
    }
   ],
   "source": [
    "for d in Days:\n",
    "    print(d)"
   ]
  },
  {
   "cell_type": "code",
   "execution_count": 34,
   "metadata": {},
   "outputs": [
    {
     "name": "stdout",
     "output_type": "stream",
     "text": [
      "{'Wed', 'Fri', 'Tue', 'Mon', 'Sat', 'Sun', 'Thu', 'Holiday'}\n"
     ]
    }
   ],
   "source": [
    "Days.add('Holiday')\n",
    "print(Days)"
   ]
  },
  {
   "cell_type": "code",
   "execution_count": 35,
   "metadata": {},
   "outputs": [
    {
     "name": "stdout",
     "output_type": "stream",
     "text": [
      "{'Wed', 'Fri', 'Tue', 'Mon', 'Sat', 'Sun', 'Thu'}\n"
     ]
    }
   ],
   "source": [
    "Days.discard('Holiday')\n",
    "print(Days)"
   ]
  },
  {
   "cell_type": "code",
   "execution_count": 36,
   "metadata": {},
   "outputs": [
    {
     "name": "stdout",
     "output_type": "stream",
     "text": [
      "{'Wed', 'Fri', 'Feb', 'Tue', 'Mar', 'Jan', 'Mon', 'Sat', 'Sun', 'Thu'}\n"
     ]
    }
   ],
   "source": [
    "# Union of sets\n",
    "Month_Days = Days|Months\n",
    "print(Month_Days)"
   ]
  },
  {
   "cell_type": "code",
   "execution_count": 37,
   "metadata": {},
   "outputs": [
    {
     "name": "stdout",
     "output_type": "stream",
     "text": [
      "set()\n"
     ]
    }
   ],
   "source": [
    "# Intersection of Sets\n",
    "M_D = Days & Months\n",
    "print(M_D)"
   ]
  },
  {
   "cell_type": "code",
   "execution_count": 38,
   "metadata": {},
   "outputs": [
    {
     "name": "stdout",
     "output_type": "stream",
     "text": [
      "{'Wed', 'Fri', 'Tue', 'Mon', 'Sat', 'Sun', 'Thu'}\n"
     ]
    }
   ],
   "source": [
    "d_d = Days & Days2\n",
    "print(d_d)"
   ]
  },
  {
   "cell_type": "code",
   "execution_count": 39,
   "metadata": {},
   "outputs": [
    {
     "data": {
      "text/plain": [
       "set()"
      ]
     },
     "execution_count": 39,
     "metadata": {},
     "output_type": "execute_result"
    }
   ],
   "source": [
    "# Difference of sets\n",
    "dd = Days - Days2\n",
    "dd"
   ]
  },
  {
   "cell_type": "code",
   "execution_count": 40,
   "metadata": {},
   "outputs": [
    {
     "name": "stdout",
     "output_type": "stream",
     "text": [
      "True\n",
      "True\n"
     ]
    }
   ],
   "source": [
    "# Compare sets\n",
    "print(Days <= Days2)\n",
    "print(Days >= Days2)"
   ]
  },
  {
   "cell_type": "code",
   "execution_count": 42,
   "metadata": {},
   "outputs": [
    {
     "name": "stdout",
     "output_type": "stream",
     "text": [
      "Keys = ['day3', 'day4', 'day1', 'day2']\n",
      "Values = ['Wed', 'Thu', 'Mon', 'Tue']\n"
     ]
    }
   ],
   "source": [
    "#----------------------------------------- MAPS ----------------------------------------\n",
    "import collections\n",
    "\n",
    "dict1 = {'day1': 'Mon', 'day2': 'Tue'}\n",
    "dict2 = {'day3': 'Wed', 'day4': 'Thu'}\n",
    "\n",
    "res = collections.ChainMap(dict1, dict2)\n",
    "print('Keys = {}'.format(list(res.keys())))\n",
    "print('Values = {}'.format(list(res.values())))"
   ]
  },
  {
   "cell_type": "code",
   "execution_count": 43,
   "metadata": {},
   "outputs": [
    {
     "name": "stdout",
     "output_type": "stream",
     "text": [
      "elements\n",
      "day3 = Wed\n",
      "day4 = Thu\n",
      "day1 = Mon\n",
      "day2 = Tue\n"
     ]
    }
   ],
   "source": [
    "print('elements')\n",
    "for key, val in res.items():\n",
    "    print('{} = {}'.format(key, val))"
   ]
  },
  {
   "cell_type": "code",
   "execution_count": 44,
   "metadata": {},
   "outputs": [
    {
     "name": "stdout",
     "output_type": "stream",
     "text": [
      "day3 has the value = True\n",
      "day5 has the value = False\n"
     ]
    }
   ],
   "source": [
    "# find a specific value\n",
    "print('day3 has the value = {}'.format(('day3' in res)))\n",
    "print('day5 has the value = {}'.format(('day5' in res)))"
   ]
  },
  {
   "cell_type": "code",
   "execution_count": 47,
   "metadata": {},
   "outputs": [
    {
     "name": "stdout",
     "output_type": "stream",
     "text": [
      "[{'day1': 'Mon', 'day2': 'Tue'}, {'day3': 'Wed', 'day4': 'Thu'}]\n"
     ]
    }
   ],
   "source": [
    "print(res.maps)"
   ]
  },
  {
   "cell_type": "code",
   "execution_count": 48,
   "metadata": {},
   "outputs": [
    {
     "name": "stdout",
     "output_type": "stream",
     "text": [
      "ChainMap({'day1': 'Mon', 'day2': 'Tue'}, {'day3': 'Wed', 'day4': 'Thu'}) ChainMap({'day3': 'Wed', 'day4': 'Thu'}, {'day1': 'Mon', 'day2': 'Tue'})\n"
     ]
    }
   ],
   "source": [
    "# Reordering of maps\n",
    "res1 = collections.ChainMap(dict1, dict2)\n",
    "res2 = collections.ChainMap(dict2, dict1)\n",
    "print(res1, res2)"
   ]
  },
  {
   "cell_type": "code",
   "execution_count": 49,
   "metadata": {},
   "outputs": [
    {
     "name": "stdout",
     "output_type": "stream",
     "text": [
      "[{'day1': 'Mon', 'day2': 'Tue'}, {'day3': 'Wed', 'day4': 'Thu'}]\n"
     ]
    }
   ],
   "source": [
    "# Updating a map\n",
    "print(res.maps)"
   ]
  },
  {
   "cell_type": "code",
   "execution_count": 50,
   "metadata": {},
   "outputs": [
    {
     "name": "stdout",
     "output_type": "stream",
     "text": [
      "[{'day1': 'Mon', 'day2': 'Tue'}, {'day3': 'Wed', 'day4': 'Fri'}]\n"
     ]
    }
   ],
   "source": [
    "dict2['day4'] = 'Fri'\n",
    "print(res.maps)"
   ]
  },
  {
   "cell_type": "code",
   "execution_count": 1,
   "metadata": {},
   "outputs": [],
   "source": [
    "# ------------------------------------------------ LINKED LISTS -----------------------------------------\n"
   ]
  },
  {
   "cell_type": "code",
   "execution_count": 15,
   "metadata": {},
   "outputs": [],
   "source": [
    "# Singly linked list: Created by using a node class. Then create another class to use this node object. Pass appropriate values to\n",
    "# the nodes to point to next data elements.\n",
    "\n",
    "class Node:\n",
    "    def __init__(self, dataval = None):\n",
    "        self.dataval = dataval\n",
    "        self.nextval = None\n",
    "\n",
    "class SLinkedList:\n",
    "    def __init__(self):\n",
    "        self.headval = None\n",
    "        \n",
    "#     To print a linked list\n",
    "    def listprint(self):\n",
    "        printval = self.headval\n",
    "        while printval is not None:\n",
    "            print(printval.dataval)\n",
    "            printval = printval.nextval\n",
    "    \n",
    "#     Inserting a node at the beginning\n",
    "    def AtBegining(self, newdata):\n",
    "        NewNode = Node(newdata)\n",
    "        \n",
    "#         Update the new node to be head node\n",
    "        NewNode.nextval = self.headval\n",
    "        self.headval = NewNode\n",
    "        \n",
    "#     Inserting a node at the End\n",
    "    def AtEnd(self, newdata):\n",
    "        NewNode = Node(newdata)\n",
    "#         If there is no element in the linked list\n",
    "        if self.headval is None:\n",
    "            self.headval = NewNode\n",
    "            return\n",
    "        laste = self.headval\n",
    "        while(laste.nextval):\n",
    "            laste = laste.nextval\n",
    "        laste.nextval = NewNode\n",
    "        \n",
    "    def InBetween(self, middle_node, newdata):\n",
    "        if middle_node is None:\n",
    "            print('The mentioned node is absent')\n",
    "            return\n",
    "#         Inserting in between\n",
    "        NewNode = Node(newdata)\n",
    "        NewNode.nextval = middle_node.nextval\n",
    "        middle_node.nextval = NewNode\n",
    "        \n",
    "    def RemoveNode(self, removekey):\n",
    "        Headval = self.headval\n",
    "        if Headval is not None:\n",
    "            if Headval.dataval == removekey:\n",
    "                self.headval = Headval.nextval\n",
    "                Headval = None\n",
    "                return\n",
    "            while Headval is not None:\n",
    "                if Headval.dataval == removekey:\n",
    "                    break\n",
    "                prev = Headval\n",
    "                Headval = Headval.nextval\n",
    "            if Headval == None:\n",
    "                return\n",
    "            prev.nextval = Headval.nextval\n",
    "            Headval = None\n",
    "        \n",
    "\n",
    "list1 = SLinkedList()\n",
    "list1.headval = Node(\"Mon\")\n",
    "e2 = Node(\"Tue\")\n",
    "e3 = Node(\"Wed\")\n",
    "\n",
    "# Link first node to second node\n",
    "list1.headval.nextval = e2\n",
    "\n",
    "# Link second node to third node\n",
    "e2.nextval = e3\n",
    "\n"
   ]
  },
  {
   "cell_type": "code",
   "execution_count": 6,
   "metadata": {},
   "outputs": [
    {
     "name": "stdout",
     "output_type": "stream",
     "text": [
      "Mon\n",
      "Tue\n",
      "Wed\n"
     ]
    }
   ],
   "source": [
    "# # Traversing through a linked list\n",
    "# Singly linked list can be traversed only in 1 direction starting from first data element. We print the value of next data element\n",
    "# by assigning the pointer of next node to current data element\n",
    "\n",
    "list1.listprint()"
   ]
  },
  {
   "cell_type": "code",
   "execution_count": 9,
   "metadata": {},
   "outputs": [
    {
     "name": "stdout",
     "output_type": "stream",
     "text": [
      "Sun\n",
      "Mon\n",
      "Tue\n",
      "Wed\n"
     ]
    }
   ],
   "source": [
    "# Inserting a node at the begining--\n",
    "# It involves pointing the next pointer of new data node to the current head of the linked list. So the current head of the linked\n",
    "# list becomes the 2nd node and new node becomes the head node\n",
    "\n",
    "list1.AtBegining(\"Sun\")\n",
    "list1.listprint()"
   ]
  },
  {
   "cell_type": "code",
   "execution_count": 20,
   "metadata": {},
   "outputs": [
    {
     "name": "stdout",
     "output_type": "stream",
     "text": [
      "Enter the number of nodes you want to make5\n",
      "Where to insert 0 for start, 1 for end1\n",
      "Enter the value of new stringAditya\n",
      "Node Created\n",
      "Enter the value of new stringSingh\n",
      "Node Created\n",
      "Enter the value of new stringAnupama\n",
      "Node Created\n",
      "Enter the value of new stringMinu\n",
      "Node Created\n",
      "Enter the value of new stringSingh\n",
      "Node Created\n"
     ]
    }
   ],
   "source": [
    "newNodes = int(input('Enter the number of nodes you want to make'))\n",
    "eb = int(input('Where to insert 0 for start, 1 for end'))\n",
    "for i in range(newNodes):\n",
    "    a = str(input('Enter the value of new string'))\n",
    "    if eb == 0:\n",
    "        list1.AtBegining(a)\n",
    "    if eb == 1:\n",
    "        list1.AtEnd(a)\n",
    "    print('Node Created')"
   ]
  },
  {
   "cell_type": "code",
   "execution_count": 21,
   "metadata": {},
   "outputs": [
    {
     "name": "stdout",
     "output_type": "stream",
     "text": [
      "Mon\n",
      "Tue\n",
      "Wed\n",
      "Good Morning\n",
      "Aditya\n",
      "Singh\n",
      "Anupama\n",
      "Minu\n",
      "Singh\n"
     ]
    }
   ],
   "source": [
    "list1.listprint()"
   ]
  },
  {
   "cell_type": "code",
   "execution_count": 3,
   "metadata": {},
   "outputs": [
    {
     "name": "stdout",
     "output_type": "stream",
     "text": [
      "Mon\n",
      "Tue\n",
      "Wed\n",
      "Good Morning\n"
     ]
    }
   ],
   "source": [
    "# # Inserting at the end of a linked list\n",
    "# This involves pointing the next pointer of the current last node of linked list to the new data node.\n",
    "# So the current last node of the linked list becomes 2nd last node and new node becomes the last node\n",
    "\n",
    "list1.AtEnd(\"Good Morning\")\n",
    "list1.listprint()"
   ]
  },
  {
   "cell_type": "code",
   "execution_count": 8,
   "metadata": {},
   "outputs": [
    {
     "name": "stdout",
     "output_type": "stream",
     "text": [
      "Mon\n",
      "Tue\n",
      "Wed\n"
     ]
    }
   ],
   "source": [
    "# Inserting a node in the middle of a linked list\n",
    "# This involves changing the pointer of a specific node to point the new node.\n",
    "list1.listprint()"
   ]
  },
  {
   "cell_type": "code",
   "execution_count": 19,
   "metadata": {},
   "outputs": [
    {
     "name": "stdout",
     "output_type": "stream",
     "text": [
      "Mon\n",
      "Tue\n",
      "Holiday\n",
      "Holiday\n",
      "Wed\n"
     ]
    }
   ],
   "source": [
    "list1.InBetween(list1.headval.nextval, \"Holiday\")\n",
    "list1.listprint()"
   ]
  },
  {
   "cell_type": "code",
   "execution_count": 20,
   "metadata": {},
   "outputs": [
    {
     "name": "stdout",
     "output_type": "stream",
     "text": [
      "Mon\n",
      "Tue\n",
      "Holiday\n",
      "Wed\n"
     ]
    }
   ],
   "source": [
    "# Removing a node from a linked list\n",
    "# We can remove existing node using the key of that node. We locate the previous node of which needs to be deleted, then point\n",
    "# the nextval pointer of this node to the next node of the node to be deleted\n",
    "list1.RemoveNode(\"Holiday\")\n",
    "list1.listprint()"
   ]
  },
  {
   "cell_type": "code",
   "execution_count": 3,
   "metadata": {},
   "outputs": [
    {
     "data": {
      "text/plain": [
       "'Tue'"
      ]
     },
     "execution_count": 3,
     "metadata": {},
     "output_type": "execute_result"
    }
   ],
   "source": [
    "##################################################### STACK #################################################\n",
    "# Arranging objects over another objects\n",
    "# Eg. a bunch of plates stacked above each other\n",
    "# It works in LIFO: Last in First out\n",
    "# We can use multiple funtions in a stack like push, pop, append\n",
    "\n",
    "# Push into stack\n",
    "class Stack:\n",
    "    def __init__(self):\n",
    "        self.stack = []\n",
    "    \n",
    "    def add(self, dataval):\n",
    "#         Use list append method to add element\n",
    "        if dataval not in self.stack:\n",
    "            self.stack.append(dataval)\n",
    "            return True\n",
    "        else:\n",
    "            return False\n",
    "#         Use peek to look at the top of the stack\n",
    "\n",
    "    def remove(self):\n",
    "        if len(self.stack) <= 0:\n",
    "            return ('There is no element in the stack')\n",
    "        else:\n",
    "            return self.stack.pop()\n",
    "    \n",
    "    def peek(self):\n",
    "        return self.stack[-1]\n",
    "\n",
    "AStack = Stack()\n",
    "AStack.add(\"Mon\")\n",
    "AStack.add(\"Tue\")\n",
    "AStack.peek()"
   ]
  },
  {
   "cell_type": "code",
   "execution_count": 5,
   "metadata": {},
   "outputs": [
    {
     "data": {
      "text/plain": [
       "'Mon'"
      ]
     },
     "execution_count": 5,
     "metadata": {},
     "output_type": "execute_result"
    }
   ],
   "source": [
    "# POP from a stack\n",
    "# We can remove only the topmost data from a stack. We can get the stack topmost element by checking the size of the stack.\n",
    "# Then use build in pop function to remove the element\n",
    "AStack.remove()\n",
    "AStack.peek()\n"
   ]
  },
  {
   "cell_type": "code",
   "execution_count": 17,
   "metadata": {},
   "outputs": [
    {
     "name": "stdout",
     "output_type": "stream",
     "text": [
      "3\n"
     ]
    }
   ],
   "source": [
    "######################################################### Queue ########################################################\n",
    "# Data elements arranged in a queue. Works on the FIFO-First in First out\n",
    "# We can use insert and pop methods to insert and delete from a Queue\n",
    "\n",
    "# Adding elements to a queue\n",
    "class Queue:\n",
    "    def __init__(self):\n",
    "        self.queue = list()\n",
    "        \n",
    "    def addToq(self, dataval):\n",
    "#         Insert method to add element\n",
    "        if dataval not in self.queue:\n",
    "            self.queue.insert(0, dataval)\n",
    "            return True\n",
    "        return False\n",
    "    \n",
    "    def removefromq(self):\n",
    "        if len(self.queue)>0:\n",
    "            return self.queue.pop()\n",
    "        return (\"No elements in the Queue\")\n",
    "    \n",
    "    def qelements(self):\n",
    "        if len(self.queue)>0:\n",
    "            for i in range(len(self.queue)):\n",
    "                print(self.queue[i])\n",
    "            return (\"Done\")\n",
    "        return (\"The Q has 0 elements\")\n",
    "    \n",
    "    def size(self):\n",
    "        return len(self.queue)\n",
    "    \n",
    "    \n",
    "    \n",
    "Q = Queue()\n",
    "Q.addToq(\"Mon\")\n",
    "Q.addToq(\"Tue\")\n",
    "Q.addToq(\"Wed\")\n",
    "print(Q.size())"
   ]
  },
  {
   "cell_type": "code",
   "execution_count": 18,
   "metadata": {},
   "outputs": [
    {
     "name": "stdout",
     "output_type": "stream",
     "text": [
      "Wed\n",
      "Tue\n",
      "Mon\n",
      "Done\n"
     ]
    }
   ],
   "source": [
    "# Remove element from the queue\n",
    "print(Q.qelements())\n"
   ]
  },
  {
   "cell_type": "code",
   "execution_count": 19,
   "metadata": {},
   "outputs": [
    {
     "name": "stdout",
     "output_type": "stream",
     "text": [
      "3\n"
     ]
    }
   ],
   "source": [
    "print(Q.size())"
   ]
  },
  {
   "cell_type": "code",
   "execution_count": 20,
   "metadata": {},
   "outputs": [
    {
     "name": "stdout",
     "output_type": "stream",
     "text": [
      "Mon\n"
     ]
    }
   ],
   "source": [
    "print(Q.removefromq())"
   ]
  },
  {
   "cell_type": "code",
   "execution_count": 23,
   "metadata": {},
   "outputs": [
    {
     "name": "stdout",
     "output_type": "stream",
     "text": [
      "Appended at right -\n",
      "deque(['Mon', 'Tue', 'Wed', 'Thu'])\n",
      "Appended at left -\n",
      "deque(['Sun', 'Mon', 'Tue', 'Wed', 'Thu'])\n",
      "Deleted at right -\n",
      "deque(['Sun', 'Mon', 'Tue', 'Wed'])\n",
      "Deleted at left -\n",
      "deque(['Mon', 'Tue', 'Wed'])\n"
     ]
    }
   ],
   "source": [
    "####################################################### DeQueue ##################################################\n",
    "# A double ended queue supports addition and deletion from both the ends of a queue\n",
    "\n",
    "import collections\n",
    "\n",
    "DoubleEnded = collections.deque([\"Mon\", \"Tue\", \"Wed\"])\n",
    "DoubleEnded.append(\"Thu\")\n",
    "print(\"Appended at right -\")\n",
    "print(DoubleEnded)\n",
    "\n",
    "DoubleEnded.appendleft(\"Sun\")\n",
    "\n",
    "print(\"Appended at left -\")\n",
    "print(DoubleEnded)\n",
    "\n",
    "DoubleEnded.pop()\n",
    "print(\"Deleted at right -\")\n",
    "print(DoubleEnded)\n",
    "\n",
    "DoubleEnded.popleft()\n",
    "print(\"Deleted at left -\")\n",
    "print(DoubleEnded)"
   ]
  },
  {
   "cell_type": "code",
   "execution_count": 31,
   "metadata": {},
   "outputs": [
    {
     "name": "stdout",
     "output_type": "stream",
     "text": [
      "198\n",
      "123\n",
      "12\n"
     ]
    }
   ],
   "source": [
    "######################################################## Doubly Linked List ###############################################\n",
    "# Singly linked list can only travel forward. Here it is possible to travel both directions. Doubly linked list.\n",
    "# It contains link element called first and last\n",
    "# Each link carries a data field and 2 link fields\n",
    "# Each link is linked to next link using next\n",
    "# And each link is linked to previous link using prev\n",
    "# The last link has a null in the next link\n",
    "\n",
    "# Creating a Doubly Linked List\n",
    "\n",
    "class Node:\n",
    "    def __init__(self, data):\n",
    "        self.data = data\n",
    "        self.next = None\n",
    "        self.prev = None\n",
    "        \n",
    "class doubly_linked_list:\n",
    "    def __init__(self):\n",
    "        self.head = None\n",
    "        \n",
    "#     Adding data elements\n",
    "    def push(self, Newval):\n",
    "        NewNode = Node(Newval)\n",
    "        NewNode.next = self.head\n",
    "        if self.head is not None:\n",
    "            self.head.prev = NewNode\n",
    "        self.head = NewNode\n",
    "        \n",
    "    def insert(self, prev_node, Newval):\n",
    "        if prev_node is None:\n",
    "            return\n",
    "        NewNode = Node(Newval)\n",
    "        NewNode.next = prev_node.next\n",
    "        prev_node.next = NewNode\n",
    "        NewNode.prev = prev_node\n",
    "        if NewNode.next is not None:\n",
    "            NewNode.next.prev = NewNode\n",
    "            \n",
    "    def append(self, Newval):\n",
    "        NewNode = Node(Newval)\n",
    "        NewNode.next = None\n",
    "        if self.head is None:\n",
    "            NewNode.prev = None\n",
    "            self.head = NewNode\n",
    "            return\n",
    "        last = self.head\n",
    "        while last.next is not None:\n",
    "            last = last.next\n",
    "        last.next = NewNode\n",
    "        NewNode.prev = last\n",
    "        return\n",
    "        \n",
    "#     Print the Doubly linked list\n",
    "    def listprint(self, node):\n",
    "        while node is not None:\n",
    "            print(node.data),\n",
    "            last = node\n",
    "            node = node.next\n",
    "            \n",
    "dll = doubly_linked_list()\n",
    "dll.push(12)\n",
    "dll.push(123)\n",
    "dll.push(198)\n",
    "dll.listprint(dll.head)"
   ]
  },
  {
   "cell_type": "code",
   "execution_count": 32,
   "metadata": {},
   "outputs": [
    {
     "name": "stdout",
     "output_type": "stream",
     "text": [
      "198\n",
      "123\n",
      "130\n",
      "12\n"
     ]
    }
   ],
   "source": [
    "# Inserting into DLL\n",
    "dll.insert(dll.head.next, 130)\n",
    "dll.listprint(dll.head)"
   ]
  },
  {
   "cell_type": "code",
   "execution_count": 34,
   "metadata": {},
   "outputs": [
    {
     "name": "stdout",
     "output_type": "stream",
     "text": [
      "198\n",
      "123\n",
      "130\n",
      "12\n",
      "145\n",
      "145\n"
     ]
    }
   ],
   "source": [
    "# Appending into DLL. It will add element at the end\n",
    "dll.append(145)\n",
    "dll.listprint(dll.head)"
   ]
  },
  {
   "cell_type": "code",
   "execution_count": 1,
   "metadata": {},
   "outputs": [],
   "source": [
    "##################################################### Hash Table ######################################################\n",
    "# It is a type of data structure where address or index of the data element is generated using a Hash Function. \n",
    "# This makes accessing of the data faster as index value behaves as the key of the data. A Hash table stores a key-value pair\n",
    "# but the key is generated using a Hash Function.\n",
    "\n",
    "# In Python Dictionary data types represents the implementation of Hash Function\n",
    "# 1) Keys are generated by a hashing function which generated a unique result for each unique supplied to the hash function\n",
    "# 2) The order of elements in the dictionary is not fixed\n"
   ]
  },
  {
   "cell_type": "code",
   "execution_count": 29,
   "metadata": {},
   "outputs": [
    {
     "name": "stdout",
     "output_type": "stream",
     "text": [
      "10\n"
     ]
    }
   ],
   "source": [
    "#################################################### Binary Tree ########################################################\n",
    "# Tree represents the nodes connected by edges. It is a non-linear data structure and it has following properties\n",
    "# 1) 1 node is marked as the Root node\n",
    "# 2) Every other node other than root node is associated with a parent node\n",
    "# 3) Each node can have a arbitary number of child nodes\n",
    "\n",
    "# Creating Root node\n",
    "\n",
    "class Node:\n",
    "    def __init__(self, data):\n",
    "        self.left = None\n",
    "        self.right = None\n",
    "        self.data = data\n",
    "        \n",
    "    def insert(self, data):\n",
    "#         Compare the value of new node with the parent node\n",
    "        if self.data:\n",
    "            if data < self.data:\n",
    "                if self.left is None:\n",
    "                    self.left = Node(data)\n",
    "                else:\n",
    "                    self.left.insert(data)\n",
    "            elif data > self.data:\n",
    "                if self.right is None:\n",
    "                    self.right = Node(data)\n",
    "                else:\n",
    "                    self.right.insert(data)\n",
    "        else:\n",
    "            self.data = data\n",
    "    \n",
    "#     print the tree\n",
    "    def PrintTree(self):\n",
    "        if self.left:\n",
    "            self.left.PrintTree()\n",
    "        print(self.data)\n",
    "        if self.right:\n",
    "            self.right.PrintTree()\n",
    "            \n",
    "#     In-order Traversal\n",
    "#     Left --> Root --> Right\n",
    "    def inorderTraversal(self, root):\n",
    "        res = []\n",
    "        if root:\n",
    "            res = self.inorderTraversal(root.left)\n",
    "            res.append(root.data)\n",
    "            res = res + self.inorderTraversal(root.right)\n",
    "        return res\n",
    "    \n",
    "    def PreorderTraversal(self, root):\n",
    "        res = []\n",
    "        if root:\n",
    "            res.append(root.data)\n",
    "            res = res + self.PreorderTraversal(root.left)\n",
    "            res = res + self.PreorderTraversal(root.right)\n",
    "        return res\n",
    "    \n",
    "    def PostorderTraversal(self, root):\n",
    "        res = []\n",
    "        if root:\n",
    "            res = self.PostorderTraversal(root.left)\n",
    "            res = res + self.PostorderTraversal(root.right)\n",
    "            res.append(root.data)\n",
    "        return res\n",
    "            \n",
    "        \n",
    "root = Node(10)\n",
    "root.PrintTree()"
   ]
  },
  {
   "cell_type": "code",
   "execution_count": 30,
   "metadata": {},
   "outputs": [
    {
     "name": "stdout",
     "output_type": "stream",
     "text": [
      "6\n",
      "8\n",
      "10\n",
      "12\n",
      "15\n",
      "20\n"
     ]
    }
   ],
   "source": [
    "# Inserting into a tree\n",
    "# we use the same node class created above and add an insert method to it. The insert node compares the value to the parent node\n",
    "# and decides whether to insert it in the right or left side.\n",
    "\n",
    "root.insert(12)\n",
    "root.insert(15)\n",
    "root.insert(8)\n",
    "root.insert(20)\n",
    "root.insert(6)\n",
    "\n",
    "root.PrintTree()\n"
   ]
  },
  {
   "cell_type": "code",
   "execution_count": 31,
   "metadata": {},
   "outputs": [
    {
     "name": "stdout",
     "output_type": "stream",
     "text": [
      "[6, 8, 10, 12, 15, 20]\n"
     ]
    }
   ],
   "source": [
    "############################################## Tree Traversing Algorithms ###############################################\n",
    "# Tracersal is the process to visit all the nodes of a tree and may print their values too. As all nodes are connected by edges\n",
    "# we always start from the root node. We cannot randomly access in a tree.\n",
    "# We have 3 ways to traverse in a tree\n",
    "# 1) In-order Traversal\n",
    "# 2) Pre-order Traversal\n",
    "# 3) Post-order Traversal\n",
    "\n",
    "# In-order traversal\n",
    "# In this the left subtree is visited first, then the root and then the right sub tree. Every node can represent a subtree itself.\n",
    "# We use the node class to place holders for the root node as well as the left subtree and right subtree. \n",
    "# Inorder traversal logic is implemented by creating an empty list and adding the left node first followed by the root \n",
    "# or parent node. \n",
    "# At last the left node is added to complete the Inorder traversal. \n",
    "# Please note that this process is repeated for each sub-tree until all the nodes are traversed.\n",
    "\n",
    "print(root.inorderTraversal(root))"
   ]
  },
  {
   "cell_type": "code",
   "execution_count": 32,
   "metadata": {},
   "outputs": [
    {
     "name": "stdout",
     "output_type": "stream",
     "text": [
      "[10, 8, 6, 12, 15, 20]\n"
     ]
    }
   ],
   "source": [
    "# Pre-order Traversal\n",
    "# Root --> left subtree --> right subtree\n",
    "\n",
    "print(root.PreorderTraversal(root))"
   ]
  },
  {
   "cell_type": "code",
   "execution_count": 33,
   "metadata": {},
   "outputs": [
    {
     "name": "stdout",
     "output_type": "stream",
     "text": [
      "[6, 8, 20, 15, 12, 10]\n"
     ]
    }
   ],
   "source": [
    "# Post order Traversal\n",
    "# Left subtree --> Right Subtree --> Root\n",
    "\n",
    "print(root.PostorderTraversal(root))"
   ]
  },
  {
   "cell_type": "code",
   "execution_count": 2,
   "metadata": {},
   "outputs": [
    {
     "name": "stdout",
     "output_type": "stream",
     "text": [
      "4\n",
      "10\n",
      "11\n",
      "12\n",
      "14\n",
      "40\n",
      "42\n",
      "5 Not Found\n",
      "40 is found\n",
      "None\n"
     ]
    }
   ],
   "source": [
    "########################################## Search Tree - (Binary Search Tree) #######################################\n",
    "# A Binary Search tree is a tree where all the nodes follow the mentioned properties.\n",
    "# 1) The left sub-tree has a key less than or equal to its parent node's key\n",
    "# 2) The right sub-tree has a key grater than to its parent node's key\n",
    "# Thus BST divides all its sub-trees into 2 segments: the left-subtree and right sub-tree\n",
    "# left-subtree(keys) <= node(key) <= right-subtree(key)\n",
    "\n",
    "# Search for a value in a B-tree\n",
    "# Searching for a value in a tree involves comparing the incoming value with the value exiting nodes. \n",
    "# Here also we traverse the nodes from left to right and then finally with the parent. \n",
    "# If the searched for value does not match any of the exitign value, then we return not found message else the found message \n",
    "# is returned.\n",
    "\n",
    "class Node:\n",
    "    def __init__(self, data):\n",
    "        self.left = None\n",
    "        self.right = None\n",
    "        self.data = data\n",
    "        \n",
    "#     Insert method to create nodes\n",
    "    def insert(self, data):\n",
    "        if self.data:\n",
    "            if data < self.data:\n",
    "                if self.left is None:\n",
    "                    self.left = Node(data)\n",
    "                else:\n",
    "                    self.left.insert(data)\n",
    "            elif data > self.data:\n",
    "                if self.right is None:\n",
    "                    self.right = Node(data)\n",
    "                else:\n",
    "                    self.right.insert(data)\n",
    "        else:\n",
    "            self.data = data\n",
    "                \n",
    "#         findval method to compare the values to the nodes\n",
    "    def findval(self, lkpval):\n",
    "        if lkpval < self.data:\n",
    "            if self.left is None:\n",
    "                return str(lkpval) + \" Not Found\"\n",
    "            return self.left.findval(lkpval)\n",
    "        elif lkpval > self.data:\n",
    "            if self.right is None:\n",
    "                return str(lkpval) + \" Not Found\"\n",
    "            return self.right.findval(lkpval)\n",
    "        else:\n",
    "            print(str(self.data) + ' is found')\n",
    "            \n",
    "#     print the tree\n",
    "    def PrintTree(self):\n",
    "        if self.left:\n",
    "            self.left.PrintTree()\n",
    "        print(self.data)\n",
    "        if self.right:\n",
    "            self.right.PrintTree()\n",
    "                \n",
    "root = Node(12)\n",
    "root.insert(4)\n",
    "root.insert(14)\n",
    "root.insert(40)\n",
    "root.insert(10)\n",
    "root.insert(42)\n",
    "root.insert(11)\n",
    "root.PrintTree()\n",
    "print(root.findval(5))\n",
    "print(root.findval(40))"
   ]
  },
  {
   "cell_type": "code",
   "execution_count": 1,
   "metadata": {},
   "outputs": [
    {
     "name": "stdout",
     "output_type": "stream",
     "text": [
      "[21, 3, 6, 23, 67, 12, 11]\n",
      "[3, 21, 6, 23, 67, 12, 11]\n"
     ]
    }
   ],
   "source": [
    "########################################################## Heaps ################################################\n",
    "# Heap is a special tree structure in which each parent node is less than or equal to the child node. Then it is called the Min\n",
    "# Heap.\n",
    "# If each parent node is greater than or equal to chile node then it is known as Max Heap.\n",
    "# Useful for implementing priority queues where the queue item of higher weightage is given more priority in processing. \n",
    "\n",
    "# Creating a heap\n",
    "# Using built in library heapq\n",
    "# headpify: This converts a regular list into heap. In the resulting heap the smallest element gets pushed to index position 0.\n",
    "# But rest of the data elements are not necessarily sorted.\n",
    "\n",
    "# heappush: This function adds an element to the heap without altering the current heap.\n",
    "# heappop - This function returns the smallest data element from the heap.\n",
    "# heapreplace – This function replaces the smallest data element with a new value supplied in the function.\n",
    "\n",
    "import heapq\n",
    "h = [21, 3, 6, 23, 67, 12, 11]\n",
    "print(h)\n",
    "#use heapify to rearrange the elements\n",
    "heapq.heapify(h)\n",
    "print(h)"
   ]
  },
  {
   "cell_type": "code",
   "execution_count": 3,
   "metadata": {},
   "outputs": [
    {
     "name": "stdout",
     "output_type": "stream",
     "text": [
      "[1, 3, 6, 8, 8, 12, 11, 23, 21, 67]\n"
     ]
    }
   ],
   "source": [
    "# Inserting into a heap\n",
    "# Inserting a data element to a heap always adds the element at the last index. \n",
    "# But you can apply heapify function again to bring the newly added element to the first index only if it smallest in value.\n",
    "\n",
    "heapq.heappush(h, 8)\n",
    "heapq.heappush(h, 1)\n",
    "print(h)"
   ]
  },
  {
   "cell_type": "code",
   "execution_count": 5,
   "metadata": {},
   "outputs": [
    {
     "name": "stdout",
     "output_type": "stream",
     "text": [
      "[3, 8, 6, 8, 67, 12, 11, 23, 21]\n"
     ]
    }
   ],
   "source": [
    "# Removing from Heap\n",
    "# You can remove the element at first index by using this function. \n",
    "# In the below example the function will always remove the element at the index position 1.\n",
    "\n",
    "heapq.heappop(h)\n",
    "print(h)"
   ]
  },
  {
   "cell_type": "code",
   "execution_count": 6,
   "metadata": {},
   "outputs": [
    {
     "name": "stdout",
     "output_type": "stream",
     "text": [
      "[6, 8, 6, 8, 67, 12, 11, 23, 21]\n"
     ]
    }
   ],
   "source": [
    "# Replacing in a Heap\n",
    "# The heapreplace function always removes the smallest element of the heap and inserts the new incoming element at some\n",
    "# place not fixed by any order.\n",
    "\n",
    "heapq.heapreplace(h, 6)\n",
    "print(h)"
   ]
  },
  {
   "cell_type": "markdown",
   "metadata": {},
   "source": [
    "# AVL TREE\n"
   ]
  },
  {
   "cell_type": "markdown",
   "metadata": {},
   "source": [
    "An AVL Tree is a self-balancing BST in which each node carries a extra information called balance factor which is either \n",
    "-1, 0, 1"
   ]
  },
  {
   "cell_type": "markdown",
   "metadata": {},
   "source": [
    "Balance factor in AVL tree is the difference between the height of left subtree and that of right subtree of that node.\n",
    "Balance Factor = (Height of Left Subtree - Height of Right Subtree) or (Height of Right Subtree - Height of Left Subtree)\n"
   ]
  },
  {
   "cell_type": "markdown",
   "metadata": {},
   "source": [
    "Link for AVL Tree: https://www.programiz.com/dsa/avl-tree\n"
   ]
  },
  {
   "cell_type": "code",
   "execution_count": 8,
   "metadata": {},
   "outputs": [
    {
     "name": "stdout",
     "output_type": "stream",
     "text": [
      "R-------33\n",
      "     L--------13\n",
      "     |     L--------9\n",
      "     |     |     L--------8\n",
      "     |     |     R-------11\n",
      "     |     R-------21\n",
      "     R-------52\n",
      "          R-------61\n",
      "After deletion...\n",
      "R-------33\n",
      "     L--------9\n",
      "     |     L--------8\n",
      "     |     R-------21\n",
      "     |          L--------11\n",
      "     R-------52\n",
      "          R-------61\n"
     ]
    }
   ],
   "source": [
    "import sys\n",
    "\n",
    "class TreeNode(object):\n",
    "    def __init__(self, key):\n",
    "        self.key = key\n",
    "        self.left = None\n",
    "        self.right = None\n",
    "        self.height = 1\n",
    "        \n",
    "class AVLTree(object):\n",
    "    #Function to insert a node\n",
    "    def insert_node(self, root, key):\n",
    "        #Find the correct location and insert the node\n",
    "        if not root:\n",
    "            return TreeNode(key)\n",
    "        elif key < root.key:\n",
    "            root.left = self.insert_node(root.left, key)\n",
    "        else:\n",
    "            root.right = self.insert_node(root.right, key)\n",
    "            \n",
    "        root.height = 1 + max(self.getHeight(root.left), self.getHeight(root.right))\n",
    "        \n",
    "        #Update the balance factor and balance the tree\n",
    "        balanceFactor = self.getBalance(root)\n",
    "        if balanceFactor > 1:\n",
    "            if key < root.left.key:\n",
    "                return self.rightRotate(root)\n",
    "            else:\n",
    "                root.left = self.leftRotate(root.left)\n",
    "                return self.rightRotate(root)\n",
    "        if balanceFactor < -1:\n",
    "            if key < root.right.key:\n",
    "                return self.leftRotate(root)\n",
    "            else:\n",
    "                root.right = self.rightRotate(root.right)\n",
    "                return self.leftRotate(root)\n",
    "            \n",
    "        return root\n",
    "    \n",
    "    #Function to delete a node\n",
    "    def delete_node(self, root, key):\n",
    "        # Find the node to be deleted and remove it\n",
    "        if not root:\n",
    "            return root\n",
    "        elif key < root.key:\n",
    "            root.left = self.delete_node(root.left, key)\n",
    "        elif key > root.key:\n",
    "            root.right = seld.delete_node(root.right, key)\n",
    "        else:\n",
    "            if root.left is None:\n",
    "                temp = root.right\n",
    "                root = None\n",
    "                return temp\n",
    "            elif root.right is None:\n",
    "                temp = root.left\n",
    "                root = None\n",
    "                return temp\n",
    "            temp = self.getMinValueNode(root.right)\n",
    "            root.key = temp.key\n",
    "            root.right = self.delete_node(root.right, temp.key)\n",
    "        \n",
    "        if root is None:\n",
    "            return root\n",
    "        \n",
    "        # Update the balance factor of the nodes\n",
    "        root.height = 1 + max(self.getHeight(root.left), self.getHeight(root.right))\n",
    "        balanceFactor = self.getBalance(root)\n",
    "        \n",
    "        # Balance the Tree\n",
    "        if balanceFactor > 1:\n",
    "            if self.getBalance(root.left) >= 0:\n",
    "                return self.rightRotate(root)\n",
    "            else:\n",
    "                root.left = self.leftRotate(root.left)\n",
    "                return self.rightRotate(root)\n",
    "        if balanceFactor < -1:\n",
    "            if self.getBalance(root.right) <= 0:\n",
    "                return self.leftRotate(root)\n",
    "            else:\n",
    "                root.right = self.rightRotate(root.right)\n",
    "                return self.leftRotate(root)\n",
    "        \n",
    "        return root\n",
    "    \n",
    "    # Function to Perform left rotation\n",
    "    def leftRotate(self, z):\n",
    "        y = z.right\n",
    "        t2 = y.left\n",
    "        y.left = z\n",
    "        z.right = t2\n",
    "        z.height = 1 + max(self.getHeight(z.left), self.getHeight(z.right))\n",
    "        y.height = 1 + max(self.getHeight(y.left), self.getHeight(y.right))\n",
    "        return y\n",
    "    \n",
    "    # Function to perform right rotation\n",
    "    def rightRotate(self, z):\n",
    "        y = z.left\n",
    "        t3 = y.right\n",
    "        y.right = z\n",
    "        z.left = t3\n",
    "        z.height = 1 + max(self.getHeight(z.left), self.getHeight(z.right))\n",
    "        y.height = 1 + max(self.getHeight(y.left), self.getHeight(y.right))\n",
    "        return y\n",
    "    \n",
    "    # Get the height of a node\n",
    "    def getHeight(self, root):\n",
    "        if not root:\n",
    "            return 0\n",
    "        return root.height\n",
    "    \n",
    "    # Get the balanceFactor of a node\n",
    "    def getBalance(self, root):\n",
    "        if not root:\n",
    "            return 0\n",
    "        return self.getHeight(root.left) - self.getHeight(root.right)\n",
    "    \n",
    "    def getMinValueNode(self, root):\n",
    "        if root is None or root.left is None:\n",
    "            return root\n",
    "        return self.getMinValueNode(root.left)\n",
    "    \n",
    "    def preOrder(self, root):\n",
    "        # Printing in pre order traversal\n",
    "        if not root:\n",
    "            return\n",
    "        print(\"{0} \".format(root.key), end=\"\")\n",
    "        self.preOrder(root.left)\n",
    "        self.preOrder(root.right)\n",
    "        \n",
    "    # Print the Tree\n",
    "    def printHelper(self, currptr, indent, last):\n",
    "        if currptr != None:\n",
    "            sys.stdout.write(indent)\n",
    "            if last:\n",
    "                sys.stdout.write(\"R-------\")\n",
    "                indent += \"     \"\n",
    "            else:\n",
    "                sys.stdout.write(\"L--------\")\n",
    "                indent += \"|     \"\n",
    "            print(currptr.key)\n",
    "            self.printHelper(currptr.left, indent, False)\n",
    "            self.printHelper(currptr.right, indent, True)\n",
    "            \n",
    "            \n",
    "myTree = AVLTree()\n",
    "root = None\n",
    "nums = [33, 13, 52, 9, 21, 61, 8, 11]\n",
    "for num in nums:\n",
    "    root = myTree.insert_node(root, num)\n",
    "myTree.printHelper(root, \"\", True)\n",
    "key = 13\n",
    "root = myTree.delete_node(root, key)\n",
    "print(\"After deletion...\")\n",
    "myTree.printHelper(root, \"\", True)\n",
    "        \n",
    "        \n",
    "        "
   ]
  },
  {
   "cell_type": "markdown",
   "metadata": {},
   "source": [
    "Use of AVL Trees\n",
    "It is used for indexing large records in databases and also used for searching in large databases\n"
   ]
  },
  {
   "cell_type": "markdown",
   "metadata": {},
   "source": [
    "Complexities of Different Operations on an AVL Tree\n",
    "Insertion: O(log n),\n",
    "Deletion: O(log n),\n",
    "Search: O(log n)"
   ]
  },
  {
   "cell_type": "markdown",
   "metadata": {},
   "source": [
    "# <u>Graph Data Structure</u>"
   ]
  },
  {
   "attachments": {
    "image.png": {
     "image/png": "[encoded data removed]"
    }
   },
   "cell_type": "markdown",
   "metadata": {},
   "source": [
    "It is a collection of nodes that have data and are connected to other nodes.<br>\n",
    "Example on facebook everything is a node. That includes User, photo, album, Event, etc. Every relationship is an edge from one node to another. <br>\n",
    "\n",
    "A graph datastructure consists of <br>\n",
    "1) Collection of vertices V<br>\n",
    "2) A collection of edges E, represented as ordered pairs of vertices (u, v)<br>\n",
    "\n",
    "![image.png](attachment:image.png)\n",
    "\n",
    "In the above graph, <br>\n",
    "V = {0, 1, 2 , 3}<br>\n",
    "E = {(0,1), (0, 2), (0, 3), (1, 2)}<br>\n",
    "G = {V, E}<br>"
   ]
  },
  {
   "cell_type": "markdown",
   "metadata": {},
   "source": [
    "## Graph Terminology:"
   ]
  },
  {
   "cell_type": "markdown",
   "metadata": {},
   "source": [
    "Adjancency: A vertex is said to be adjacent to another vertex if there is an edge connecting them. Vertices 2 and 3 are not adjacent.<br>\n",
    "Path: A sequence of edges that allows you to go from vertex A to vertex B is called a path. (0-1, 1-2) and 0-2 are paths from vertex 0 to vertex 2<br>\n",
    "Directed Graph: A graph in which an edge(u,v) doesnt necessarily mean there is an edge(v, u) as well. The edges in such graph are represented by arrows which show the direction of the edge"
   ]
  },
  {
   "cell_type": "markdown",
   "metadata": {},
   "source": [
    "## Graph Representation:"
   ]
  },
  {
   "attachments": {
    "image.png": {
     "image/png": "[encoded data removed]"
    }
   },
   "cell_type": "markdown",
   "metadata": {},
   "source": [
    "Graphs are represented in 2 ways: <br>\n",
    "<br>\n",
    "1) Adjacency Matrix: It is a 2D array of VxV vertices. Each row and column represent a vertex. If the value of any element \n",
    "a[i][j] is 1 it represents there is an edge connecting the vertex i and j. <br>\n",
    "<br><br>\n",
    "![image.png](attachment:image.png)\n"
   ]
  },
  {
   "cell_type": "markdown",
   "metadata": {},
   "source": [
    "As it is a undirected graph we mark both (0,2) and (2,0). Hence making the Adjacency matrix symmetric to diagonal. <br><br>\n",
    "Edge lookup is extremely fast in adjacency matrix but we have to reserve space for every possible link between all the vertices (VxV), so it requires more space."
   ]
  },
  {
   "attachments": {
    "image.png": {
     "image/png": "[encoded data removed]"
    }
   },
   "cell_type": "markdown",
   "metadata": {},
   "source": [
    "2) Adjacency List<br>\n",
    "An adjacency list represents a graph as a array of linked lists. <br>\n",
    "The index of the array represents the a vertex and each element in its linked list represents the other vertices that from an edge with the vertex.<br>\n",
    "<br><br>\n",
    "![image.png](attachment:image.png)\n",
    "<br>\n",
    "This is efficient in terms of storage as we need only to store values for edges. For a graph with million vertices it can save a lot of space."
   ]
  },
  {
   "cell_type": "markdown",
   "metadata": {},
   "source": [
    "## Graph Operations:\n",
    "<br>\n",
    "<br>\n",
    "1) Check if the element is present in the graph<br>\n",
    "2) Graph Treversal<br>\n",
    "3) Add elements (vertex, edges) to graph<br>\n",
    "4) Finding path from one vertex to another<br>"
   ]
  },
  {
   "cell_type": "code",
   "execution_count": null,
   "metadata": {},
   "outputs": [],
   "source": []
  }
 ],
 "metadata": {
  "kernelspec": {
   "display_name": "Python 3",
   "language": "python",
   "name": "python3"
  },
  "language_info": {
   "codemirror_mode": {
    "name": "ipython",
    "version": 3
   },
   "file_extension": ".py",
   "mimetype": "text/x-python",
   "name": "python",
   "nbconvert_exporter": "python",
   "pygments_lexer": "ipython3",
   "version": "3.8.6"
  }
 },
 "nbformat": 4,
 "nbformat_minor": 4
}
